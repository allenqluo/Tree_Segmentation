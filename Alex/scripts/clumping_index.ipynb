{
 "cells": [
  {
   "cell_type": "code",
   "execution_count": 1,
   "id": "d6d97a45",
   "metadata": {},
   "outputs": [],
   "source": [
    "import laspy\n",
    "import numpy as np\n",
    "import geopandas as gpd\n",
    "# Set the grid cells for analysis\n",
    "import shapely\n",
    "import numpy as np"
   ]
  },
  {
   "cell_type": "code",
   "execution_count": 2,
   "id": "b66cc12f",
   "metadata": {},
   "outputs": [],
   "source": [
    "las = laspy.read(\"../data/teak_data/lidarAOI_g.las\")"
   ]
  },
  {
   "cell_type": "code",
   "execution_count": 3,
   "id": "fd377722",
   "metadata": {},
   "outputs": [],
   "source": [
    "class lasds:\n",
    "    def __init__(self, lasData, name=None):\n",
    "        self.x = np.array(lasData.x)\n",
    "        self.y = np.array(lasData.y)\n",
    "        self.z = np.array(lasData.z)\n",
    "        self.classification = np.array(lasData.classification)\n",
    "        self.scan_angle = las.scan_angle_rank\n",
    "        self.name = name\n",
    "        \n",
    "    def gap_grid(self, grid_res=None, epsg=None):\n",
    "    \n",
    "        # get las data into a dataframe\n",
    "        try:\n",
    "            d={'x': self.x,'y': self.y, \"class\":self.classification,\"scan_angle\":np.absolute(self.scan_angle)}\n",
    "            las_gdf = gpd.GeoDataFrame(d, geometry=gpd.points_from_xy(self.x, self.y),crs=f\"EPSG:{epsg}\")\n",
    "        except:\n",
    "            print(\"Need an epsg value..\")\n",
    "            return\n",
    "        \n",
    "        # Create a grid of data\n",
    "        # total area for the grid\n",
    "        xmin, ymin, xmax, ymax= [min(self.x), min(self.y), max(self.x), max(self.y)]\n",
    "        # how many cells across and down\n",
    "        cell_size = grid_res\n",
    "        # create the cells in a loop\n",
    "        grid_cells = []\n",
    "        for x0 in np.arange(xmin, xmax+cell_size, cell_size):\n",
    "            for y0 in np.arange(ymin, ymax+cell_size, cell_size):\n",
    "                # bounds\n",
    "                x1 = x0-cell_size\n",
    "                y1 = y0+cell_size\n",
    "                grid_cells.append(shapely.geometry.box(x0, y0, x1, y1))\n",
    "        # Create a gdf with the list of shapely objects\n",
    "        # CRS for gdf of cells\n",
    "        crs = f\"EPSG:{epsg}\"\n",
    "        cell = gpd.GeoDataFrame(grid_cells, columns=['geometry'], crs=crs)\n",
    "\n",
    "        # Reset index for easier analysis nad merge to lvis gdf\n",
    "        cell.reset_index(inplace=True)\n",
    "        cell.rename(columns={\"index\":'cellIdx'},inplace=True)\n",
    "        merged = gpd.sjoin(cell,las_gdf.reset_index(drop=True),how='left',predicate='intersects')\n",
    "        \n",
    "        # Init new fields for gap and LAI to the cell gdf (which will hold our calculated values)\n",
    "        cell['gap'] = np.nan * len(cell)\n",
    "        cell['lai'] = np.nan * len(cell)\n",
    "        \n",
    "        # Loop through each cellIdx\n",
    "        for i, group in merged.groupby(\"cellIdx\"):\n",
    "            \n",
    "            # if lenght of group is zero, continue to next grid cell\n",
    "            if np.isnan(group[\"x\"].values).all():\n",
    "                continue\n",
    "            # First, lets get the gap probability\n",
    "            gap = len(group.loc[group['class']==2]) / len(group) \n",
    "            \n",
    "            # Get the average angle in radians\n",
    "            avg_angle = np.nanmean(group['scan_angle'].values)\n",
    "            angle_rad = avg_angle * (np.pi/180)\n",
    "            \n",
    "            # Calculate total LAI\n",
    "            G = 0.5 # leaf orientation function\n",
    "            lai = (-1 * (np.cos(angle_rad)/G) * np.log(gap))\n",
    "            \n",
    "            # set values in the cell gdf (automaticalls inits a new columns of nans if columns does not exist)\n",
    "            cell.at[i, 'gap'] = gap\n",
    "            cell.at[i, 'lai'] = lai\n",
    "            \n",
    "        # return the cell gdf that has the calculate gap and lai for each cell\n",
    "        return cell"
   ]
  },
  {
   "cell_type": "code",
   "execution_count": 4,
   "id": "e05d4cb9",
   "metadata": {},
   "outputs": [],
   "source": [
    "las_ds = lasds(las)"
   ]
  },
  {
   "cell_type": "code",
   "execution_count": 5,
   "id": "7b84c7a0",
   "metadata": {},
   "outputs": [],
   "source": [
    "gridded_gap = las_ds.gap_grid(grid_res = 30, epsg=32611)"
   ]
  },
  {
   "cell_type": "code",
   "execution_count": 6,
   "id": "bb617c2d",
   "metadata": {},
   "outputs": [
    {
     "data": {
      "text/plain": [
       "array([       nan,        nan,        nan,        nan,        nan,\n",
       "              nan,        nan,        nan,        nan,        nan,\n",
       "              nan,        nan,        nan, 1.        ,        nan,\n",
       "              nan,        nan,        nan,        nan,        nan,\n",
       "              nan,        nan,        nan,        nan,        nan,\n",
       "              nan, 0.62318841, 0.59504685, 0.2217047 ,        nan,\n",
       "              nan,        nan,        nan,        nan,        nan,\n",
       "              nan,        nan,        nan,        nan, 0.3       ,\n",
       "       0.23146944, 0.34072581, 0.52402004, 0.724     ,        nan,\n",
       "              nan,        nan,        nan,        nan,        nan,\n",
       "              nan,        nan,        nan, 0.34831461, 0.5194493 ,\n",
       "       0.44795208, 0.49139118, 0.63476071, 0.65923863,        nan,\n",
       "              nan,        nan,        nan,        nan,        nan,\n",
       "              nan,        nan, 0.94849785, 0.61845192, 0.5250699 ,\n",
       "       0.50912548, 0.47159864, 0.5275101 , 0.49606299,        nan,\n",
       "              nan,        nan,        nan,        nan,        nan,\n",
       "       0.35714286, 0.27793888, 0.59689922, 0.43452699, 0.32988568,\n",
       "       0.42266716, 0.44477668, 0.3582684 , 0.64205738,        nan,\n",
       "              nan,        nan,        nan,        nan, 0.53284672,\n",
       "       0.34579047, 0.52924015, 0.97655017, 0.528     , 0.33856275,\n",
       "       0.30498982, 0.17208814, 0.13982872, 0.28323849,        nan,\n",
       "              nan,        nan,        nan, 0.48333333, 0.46101286,\n",
       "       0.32068151, 0.35965137, 0.58396753, 0.30787275, 0.20197044,\n",
       "       0.25722247, 0.13331397, 0.22045905, 0.32463903,        nan,\n",
       "              nan,        nan, 0.13157895, 0.55737705, 0.45865268,\n",
       "       0.31240702, 0.38512641, 0.36010638, 0.42654714, 0.50641437,\n",
       "       0.47360437, 0.48397646, 0.52002356, 0.53435469,        nan,\n",
       "              nan,        nan, 0.37583893, 0.40313725, 0.39476767,\n",
       "       0.31185031, 0.43894638, 0.42194214, 0.36505682, 0.50731232,\n",
       "       0.4746022 , 0.58927382, 0.5572125 , 0.54224698,        nan,\n",
       "              nan, 0.39897885, 0.36538462, 0.50524617, 0.41896619,\n",
       "       0.29137979, 0.46243772, 0.35865537, 0.42512653, 0.39453887,\n",
       "       0.60585432, 0.57057257, 0.58279696, 0.61429961,        nan,\n",
       "       0.32783883, 0.37684326, 0.37373116, 0.48462485, 0.58172232,\n",
       "       0.58084449, 0.49629934, 0.3139923 , 0.40822408, 0.52168601,\n",
       "       0.54768041, 0.54933678, 0.5817969 , 0.5564932 ,        nan,\n",
       "       0.72272272, 0.33661236, 0.27907765, 0.4174397 , 0.38184132,\n",
       "       0.48489315, 0.36605317, 0.50902527, 0.37462337, 0.50384347,\n",
       "       0.53002144, 0.60552164, 0.64178425, 0.68977384,        nan])"
      ]
     },
     "execution_count": 6,
     "metadata": {},
     "output_type": "execute_result"
    }
   ],
   "source": [
    "gridded_gap['gap'].values"
   ]
  },
  {
   "cell_type": "code",
   "execution_count": null,
   "id": "d9a2b41b",
   "metadata": {},
   "outputs": [],
   "source": []
  },
  {
   "cell_type": "code",
   "execution_count": 63,
   "id": "0e20b22d",
   "metadata": {},
   "outputs": [],
   "source": [
    "def tauR(gap_grid, tree_crowns_fn):\n",
    "    # tauR for sperical crowns only, =3G(theta)*Lt/(4*lamda*pi*r^2) (set G(theta) = 0.5)from Eqn (3) \n",
    "    \n",
    "    # read in tree crowns\n",
    "    tree_crowns = gpd.read_file(tree_crowns_fn)\n",
    "    # Get b/R ratio\n",
    "    tree_crowns['b_r'] = tree_crowns['vrad']/tree_crowns['hrad']\n",
    "    \n",
    "    if tree_crowns.crs != gap_grid.crs:\n",
    "        # Both left and right gdf must be in the same crs\n",
    "        print(\"left and right gdf must be in the same crs...\")\n",
    "        return\n",
    "    \n",
    "    # Merge gdf \n",
    "    merged = gpd.sjoin(gap_grid,tree_crowns,how='left',predicate='intersects')\n",
    "    \n",
    "    # Loop through each cell index and calculate tree density and LAI, and finally tauR \n",
    "    for i, group in merged.groupby(merged.index):\n",
    "\n",
    "        # if lenght of group is zero, continue to next grid cell\n",
    "        if np.isnan(group[\"hrad\"].values).all():\n",
    "            continue\n",
    "        \n",
    "        # Calculate tauR\n",
    "        lai = group['lai'].iloc[0]\n",
    "        gap = group['gap'].iloc[0]\n",
    "        cell_area = group['geometry'].iloc[0].area\n",
    "        crown_ct_density = len(group) / cell_area\n",
    "        R = group['hrad'].mean()\n",
    "        vrad_avg = group['vrad'].mean()\n",
    "        szn = group['szn_avg'].mean()\n",
    "        \n",
    "        tauR_val = (3 * 0.5 * lai) / (4 * crown_ct_density * np.pi * R**2)\n",
    "        \n",
    "        # set values in the cell gdf (automaticalls inits a new columns of nans if columns does not exist)\n",
    "        gap_grid.at[i, 'tauR'] = tauR_val\n",
    "        gap_grid.at[i, 'R'] = R\n",
    "        gap_grid.at[i, 'b'] = vrad_avg\n",
    "        gap_grid.at[i, 'szn'] = szn\n",
    "        gap_grid.at[i, 'br'] = vrad_avg / R\n",
    "        gap_grid.at[i, 'lambda'] = crown_ct_density\n",
    "        \n",
    "    return gap_grid"
   ]
  },
  {
   "cell_type": "code",
   "execution_count": 65,
   "id": "eff33be3",
   "metadata": {},
   "outputs": [],
   "source": [
    "gap_grid_taur = tauR(gridded_gap, \"../data/output/teak_crowns_silva/crowns.shp\")\n",
    "    "
   ]
  },
  {
   "cell_type": "code",
   "execution_count": 54,
   "id": "eae66b5d",
   "metadata": {},
   "outputs": [
    {
     "data": {
      "text/html": [
       "<div>\n",
       "<style scoped>\n",
       "    .dataframe tbody tr th:only-of-type {\n",
       "        vertical-align: middle;\n",
       "    }\n",
       "\n",
       "    .dataframe tbody tr th {\n",
       "        vertical-align: top;\n",
       "    }\n",
       "\n",
       "    .dataframe thead th {\n",
       "        text-align: right;\n",
       "    }\n",
       "</style>\n",
       "<table border=\"1\" class=\"dataframe\">\n",
       "  <thead>\n",
       "    <tr style=\"text-align: right;\">\n",
       "      <th></th>\n",
       "      <th>cellIdx</th>\n",
       "      <th>geometry</th>\n",
       "      <th>gap</th>\n",
       "      <th>lai</th>\n",
       "      <th>tauR</th>\n",
       "      <th>R</th>\n",
       "      <th>b</th>\n",
       "      <th>szn</th>\n",
       "      <th>br</th>\n",
       "    </tr>\n",
       "  </thead>\n",
       "  <tbody>\n",
       "    <tr>\n",
       "      <th>0</th>\n",
       "      <td>0</td>\n",
       "      <td>POLYGON ((320613.510 4096591.350, 320613.510 4...</td>\n",
       "      <td>NaN</td>\n",
       "      <td>NaN</td>\n",
       "      <td>NaN</td>\n",
       "      <td>NaN</td>\n",
       "      <td>NaN</td>\n",
       "      <td>NaN</td>\n",
       "      <td>NaN</td>\n",
       "    </tr>\n",
       "    <tr>\n",
       "      <th>1</th>\n",
       "      <td>1</td>\n",
       "      <td>POLYGON ((320613.510 4096621.350, 320613.510 4...</td>\n",
       "      <td>NaN</td>\n",
       "      <td>NaN</td>\n",
       "      <td>NaN</td>\n",
       "      <td>NaN</td>\n",
       "      <td>NaN</td>\n",
       "      <td>NaN</td>\n",
       "      <td>NaN</td>\n",
       "    </tr>\n",
       "    <tr>\n",
       "      <th>2</th>\n",
       "      <td>2</td>\n",
       "      <td>POLYGON ((320613.510 4096651.350, 320613.510 4...</td>\n",
       "      <td>NaN</td>\n",
       "      <td>NaN</td>\n",
       "      <td>NaN</td>\n",
       "      <td>NaN</td>\n",
       "      <td>NaN</td>\n",
       "      <td>NaN</td>\n",
       "      <td>NaN</td>\n",
       "    </tr>\n",
       "    <tr>\n",
       "      <th>3</th>\n",
       "      <td>3</td>\n",
       "      <td>POLYGON ((320613.510 4096681.350, 320613.510 4...</td>\n",
       "      <td>NaN</td>\n",
       "      <td>NaN</td>\n",
       "      <td>NaN</td>\n",
       "      <td>NaN</td>\n",
       "      <td>NaN</td>\n",
       "      <td>NaN</td>\n",
       "      <td>NaN</td>\n",
       "    </tr>\n",
       "    <tr>\n",
       "      <th>4</th>\n",
       "      <td>4</td>\n",
       "      <td>POLYGON ((320613.510 4096711.350, 320613.510 4...</td>\n",
       "      <td>NaN</td>\n",
       "      <td>NaN</td>\n",
       "      <td>NaN</td>\n",
       "      <td>NaN</td>\n",
       "      <td>NaN</td>\n",
       "      <td>NaN</td>\n",
       "      <td>NaN</td>\n",
       "    </tr>\n",
       "    <tr>\n",
       "      <th>...</th>\n",
       "      <td>...</td>\n",
       "      <td>...</td>\n",
       "      <td>...</td>\n",
       "      <td>...</td>\n",
       "      <td>...</td>\n",
       "      <td>...</td>\n",
       "      <td>...</td>\n",
       "      <td>...</td>\n",
       "      <td>...</td>\n",
       "    </tr>\n",
       "    <tr>\n",
       "      <th>190</th>\n",
       "      <td>190</td>\n",
       "      <td>POLYGON ((320973.510 4096891.350, 320973.510 4...</td>\n",
       "      <td>0.530021</td>\n",
       "      <td>1.260546</td>\n",
       "      <td>0.616385</td>\n",
       "      <td>3.234487</td>\n",
       "      <td>8.315476</td>\n",
       "      <td>6.966683</td>\n",
       "      <td>2.570879</td>\n",
       "    </tr>\n",
       "    <tr>\n",
       "      <th>191</th>\n",
       "      <td>191</td>\n",
       "      <td>POLYGON ((320973.510 4096921.350, 320973.510 4...</td>\n",
       "      <td>0.605522</td>\n",
       "      <td>0.986991</td>\n",
       "      <td>0.518324</td>\n",
       "      <td>3.371179</td>\n",
       "      <td>8.896944</td>\n",
       "      <td>8.949330</td>\n",
       "      <td>2.639120</td>\n",
       "    </tr>\n",
       "    <tr>\n",
       "      <th>192</th>\n",
       "      <td>192</td>\n",
       "      <td>POLYGON ((320973.510 4096951.350, 320973.510 4...</td>\n",
       "      <td>0.641784</td>\n",
       "      <td>0.869775</td>\n",
       "      <td>0.505826</td>\n",
       "      <td>2.834006</td>\n",
       "      <td>7.951739</td>\n",
       "      <td>10.170288</td>\n",
       "      <td>2.805830</td>\n",
       "    </tr>\n",
       "    <tr>\n",
       "      <th>193</th>\n",
       "      <td>193</td>\n",
       "      <td>POLYGON ((320973.510 4096981.350, 320973.510 4...</td>\n",
       "      <td>0.689774</td>\n",
       "      <td>0.735587</td>\n",
       "      <td>1.095519</td>\n",
       "      <td>2.269891</td>\n",
       "      <td>7.304286</td>\n",
       "      <td>7.123025</td>\n",
       "      <td>3.217901</td>\n",
       "    </tr>\n",
       "    <tr>\n",
       "      <th>194</th>\n",
       "      <td>194</td>\n",
       "      <td>POLYGON ((320973.510 4097011.350, 320973.510 4...</td>\n",
       "      <td>NaN</td>\n",
       "      <td>NaN</td>\n",
       "      <td>NaN</td>\n",
       "      <td>NaN</td>\n",
       "      <td>NaN</td>\n",
       "      <td>NaN</td>\n",
       "      <td>NaN</td>\n",
       "    </tr>\n",
       "  </tbody>\n",
       "</table>\n",
       "<p>195 rows × 9 columns</p>\n",
       "</div>"
      ],
      "text/plain": [
       "     cellIdx                                           geometry       gap  \\\n",
       "0          0  POLYGON ((320613.510 4096591.350, 320613.510 4...       NaN   \n",
       "1          1  POLYGON ((320613.510 4096621.350, 320613.510 4...       NaN   \n",
       "2          2  POLYGON ((320613.510 4096651.350, 320613.510 4...       NaN   \n",
       "3          3  POLYGON ((320613.510 4096681.350, 320613.510 4...       NaN   \n",
       "4          4  POLYGON ((320613.510 4096711.350, 320613.510 4...       NaN   \n",
       "..       ...                                                ...       ...   \n",
       "190      190  POLYGON ((320973.510 4096891.350, 320973.510 4...  0.530021   \n",
       "191      191  POLYGON ((320973.510 4096921.350, 320973.510 4...  0.605522   \n",
       "192      192  POLYGON ((320973.510 4096951.350, 320973.510 4...  0.641784   \n",
       "193      193  POLYGON ((320973.510 4096981.350, 320973.510 4...  0.689774   \n",
       "194      194  POLYGON ((320973.510 4097011.350, 320973.510 4...       NaN   \n",
       "\n",
       "          lai      tauR         R         b        szn        br  \n",
       "0         NaN       NaN       NaN       NaN        NaN       NaN  \n",
       "1         NaN       NaN       NaN       NaN        NaN       NaN  \n",
       "2         NaN       NaN       NaN       NaN        NaN       NaN  \n",
       "3         NaN       NaN       NaN       NaN        NaN       NaN  \n",
       "4         NaN       NaN       NaN       NaN        NaN       NaN  \n",
       "..        ...       ...       ...       ...        ...       ...  \n",
       "190  1.260546  0.616385  3.234487  8.315476   6.966683  2.570879  \n",
       "191  0.986991  0.518324  3.371179  8.896944   8.949330  2.639120  \n",
       "192  0.869775  0.505826  2.834006  7.951739  10.170288  2.805830  \n",
       "193  0.735587  1.095519  2.269891  7.304286   7.123025  3.217901  \n",
       "194       NaN       NaN       NaN       NaN        NaN       NaN  \n",
       "\n",
       "[195 rows x 9 columns]"
      ]
     },
     "execution_count": 54,
     "metadata": {},
     "output_type": "execute_result"
    }
   ],
   "source": [
    "gap_grid_taur"
   ]
  },
  {
   "cell_type": "code",
   "execution_count": 48,
   "id": "b1044038",
   "metadata": {},
   "outputs": [],
   "source": [
    "def clumpingindex(tauR, theta, br):\n",
    "    # tauR for sperical crowns only, =3G(theta)*Lt/(4*lamda*pi*r^2) (set G(theta) = 0.5)from Eqn (3) in my document\n",
    "    # theta - solar zenith angle \n",
    "    # br - ratio of vertical crown radius/horizontal crown radius\n",
    "\n",
    "    # Relationship between tauR vs q and tauR vs approaximated q (eqns (20) and (21) in Li-Strahler, 1988 paper) \n",
    "    # (1) for sperical crowns,  q values  (eqns (20) and (21) in Li-Strahler, 1988 paper)\n",
    "    q = (1- (2*tauR+1)*np.exp(-2*tauR))/(2*tauR**2)\n",
    "    # q_app = 1 - (4/3)*tauR + np.power(tauR, 2) - (8/15)*np.power(tauR, 3)\n",
    "    q_app = 1 - (4/3)*tauR + np.power(tauR, 2)\n",
    "    # clumping \n",
    "    omega = 3*(1-q)/(4*tauR) \n",
    "    omega_app = 3*(1-q_app)/(4*tauR) \n",
    "\n",
    "    # (2) for elliposidal crowns\n",
    "    gamma = np.sqrt( (1+(br*np.tan(theta))**2)/((1+(np.tan(theta))**2)) )\n",
    "\n",
    "    # sperical tauR to ellipsoidal  (Eqn (7) in Ni-Meister et al, 2010,  Eqn (25) in Li-Strahler, 1998\n",
    "    tauR_ellip = tauR/gamma \n",
    "    tauR = tauR_ellip \n",
    "    q = (1- (2*tauR+1)*np.exp(-2*tauR))/(2*tauR**2)\n",
    "    #q_app = 1 - (4/3)*tauR + np.power(tauR, 2) - (8/15)*np.power(tauR, 3)\n",
    "    q_app = 1 - (4/3)*tauR + np.power(tauR, 2)\n",
    "    omega = 3*(1-q)/(4*tauR) \n",
    "    omega_app = 3*(1-q_app)/(4*tauR) \n",
    "    \n",
    "    return omega"
   ]
  },
  {
   "cell_type": "code",
   "execution_count": 58,
   "id": "053fa719",
   "metadata": {},
   "outputs": [],
   "source": [
    "# Go through each row and calc clumping index\n",
    "for i, row in gap_grid_taur.iterrows():\n",
    "\n",
    "    if np.isnan(row['lai']):\n",
    "        continue\n",
    "    \n",
    "    omega = clumpingindex(row['tauR'], row['szn'], row['br'])\n",
    "    \n",
    "    # set values in the cell gdf (automaticalls inits a new columns of nans if columns does not exist)\n",
    "    gap_grid_taur.at[i, 'ci'] = omega"
   ]
  },
  {
   "cell_type": "code",
   "execution_count": 67,
   "id": "ef0215a3",
   "metadata": {},
   "outputs": [],
   "source": [
    "# Save data to shapefile\n",
    "gap_grid_taur.to_file(\"../data/output/gridded_ci\")"
   ]
  },
  {
   "cell_type": "code",
   "execution_count": 66,
   "id": "27117c6b",
   "metadata": {},
   "outputs": [
    {
     "data": {
      "text/html": [
       "<div>\n",
       "<style scoped>\n",
       "    .dataframe tbody tr th:only-of-type {\n",
       "        vertical-align: middle;\n",
       "    }\n",
       "\n",
       "    .dataframe tbody tr th {\n",
       "        vertical-align: top;\n",
       "    }\n",
       "\n",
       "    .dataframe thead th {\n",
       "        text-align: right;\n",
       "    }\n",
       "</style>\n",
       "<table border=\"1\" class=\"dataframe\">\n",
       "  <thead>\n",
       "    <tr style=\"text-align: right;\">\n",
       "      <th></th>\n",
       "      <th>cellIdx</th>\n",
       "      <th>geometry</th>\n",
       "      <th>gap</th>\n",
       "      <th>lai</th>\n",
       "      <th>tauR</th>\n",
       "      <th>R</th>\n",
       "      <th>b</th>\n",
       "      <th>szn</th>\n",
       "      <th>br</th>\n",
       "      <th>ci</th>\n",
       "      <th>lambda</th>\n",
       "    </tr>\n",
       "  </thead>\n",
       "  <tbody>\n",
       "    <tr>\n",
       "      <th>0</th>\n",
       "      <td>0</td>\n",
       "      <td>POLYGON ((320613.510 4096591.350, 320613.510 4...</td>\n",
       "      <td>NaN</td>\n",
       "      <td>NaN</td>\n",
       "      <td>NaN</td>\n",
       "      <td>NaN</td>\n",
       "      <td>NaN</td>\n",
       "      <td>NaN</td>\n",
       "      <td>NaN</td>\n",
       "      <td>NaN</td>\n",
       "      <td>NaN</td>\n",
       "    </tr>\n",
       "    <tr>\n",
       "      <th>1</th>\n",
       "      <td>1</td>\n",
       "      <td>POLYGON ((320613.510 4096621.350, 320613.510 4...</td>\n",
       "      <td>NaN</td>\n",
       "      <td>NaN</td>\n",
       "      <td>NaN</td>\n",
       "      <td>NaN</td>\n",
       "      <td>NaN</td>\n",
       "      <td>NaN</td>\n",
       "      <td>NaN</td>\n",
       "      <td>NaN</td>\n",
       "      <td>NaN</td>\n",
       "    </tr>\n",
       "    <tr>\n",
       "      <th>2</th>\n",
       "      <td>2</td>\n",
       "      <td>POLYGON ((320613.510 4096651.350, 320613.510 4...</td>\n",
       "      <td>NaN</td>\n",
       "      <td>NaN</td>\n",
       "      <td>NaN</td>\n",
       "      <td>NaN</td>\n",
       "      <td>NaN</td>\n",
       "      <td>NaN</td>\n",
       "      <td>NaN</td>\n",
       "      <td>NaN</td>\n",
       "      <td>NaN</td>\n",
       "    </tr>\n",
       "    <tr>\n",
       "      <th>3</th>\n",
       "      <td>3</td>\n",
       "      <td>POLYGON ((320613.510 4096681.350, 320613.510 4...</td>\n",
       "      <td>NaN</td>\n",
       "      <td>NaN</td>\n",
       "      <td>NaN</td>\n",
       "      <td>NaN</td>\n",
       "      <td>NaN</td>\n",
       "      <td>NaN</td>\n",
       "      <td>NaN</td>\n",
       "      <td>NaN</td>\n",
       "      <td>NaN</td>\n",
       "    </tr>\n",
       "    <tr>\n",
       "      <th>4</th>\n",
       "      <td>4</td>\n",
       "      <td>POLYGON ((320613.510 4096711.350, 320613.510 4...</td>\n",
       "      <td>NaN</td>\n",
       "      <td>NaN</td>\n",
       "      <td>NaN</td>\n",
       "      <td>NaN</td>\n",
       "      <td>NaN</td>\n",
       "      <td>NaN</td>\n",
       "      <td>NaN</td>\n",
       "      <td>NaN</td>\n",
       "      <td>NaN</td>\n",
       "    </tr>\n",
       "    <tr>\n",
       "      <th>...</th>\n",
       "      <td>...</td>\n",
       "      <td>...</td>\n",
       "      <td>...</td>\n",
       "      <td>...</td>\n",
       "      <td>...</td>\n",
       "      <td>...</td>\n",
       "      <td>...</td>\n",
       "      <td>...</td>\n",
       "      <td>...</td>\n",
       "      <td>...</td>\n",
       "      <td>...</td>\n",
       "    </tr>\n",
       "    <tr>\n",
       "      <th>190</th>\n",
       "      <td>190</td>\n",
       "      <td>POLYGON ((320973.510 4096891.350, 320973.510 4...</td>\n",
       "      <td>0.530021</td>\n",
       "      <td>1.260546</td>\n",
       "      <td>0.616385</td>\n",
       "      <td>3.234487</td>\n",
       "      <td>8.315476</td>\n",
       "      <td>6.966683</td>\n",
       "      <td>2.570879</td>\n",
       "      <td>0.784017</td>\n",
       "      <td>0.023333</td>\n",
       "    </tr>\n",
       "    <tr>\n",
       "      <th>191</th>\n",
       "      <td>191</td>\n",
       "      <td>POLYGON ((320973.510 4096921.350, 320973.510 4...</td>\n",
       "      <td>0.605522</td>\n",
       "      <td>0.986991</td>\n",
       "      <td>0.518324</td>\n",
       "      <td>3.371179</td>\n",
       "      <td>8.896944</td>\n",
       "      <td>8.949330</td>\n",
       "      <td>2.639120</td>\n",
       "      <td>0.782454</td>\n",
       "      <td>0.020000</td>\n",
       "    </tr>\n",
       "    <tr>\n",
       "      <th>192</th>\n",
       "      <td>192</td>\n",
       "      <td>POLYGON ((320973.510 4096951.350, 320973.510 4...</td>\n",
       "      <td>0.641784</td>\n",
       "      <td>0.869775</td>\n",
       "      <td>0.505826</td>\n",
       "      <td>2.834006</td>\n",
       "      <td>7.951739</td>\n",
       "      <td>10.170288</td>\n",
       "      <td>2.805830</td>\n",
       "      <td>0.836303</td>\n",
       "      <td>0.025556</td>\n",
       "    </tr>\n",
       "    <tr>\n",
       "      <th>193</th>\n",
       "      <td>193</td>\n",
       "      <td>POLYGON ((320973.510 4096981.350, 320973.510 4...</td>\n",
       "      <td>0.689774</td>\n",
       "      <td>0.735587</td>\n",
       "      <td>1.095519</td>\n",
       "      <td>2.269891</td>\n",
       "      <td>7.304286</td>\n",
       "      <td>7.123025</td>\n",
       "      <td>3.217901</td>\n",
       "      <td>0.734909</td>\n",
       "      <td>0.015556</td>\n",
       "    </tr>\n",
       "    <tr>\n",
       "      <th>194</th>\n",
       "      <td>194</td>\n",
       "      <td>POLYGON ((320973.510 4097011.350, 320973.510 4...</td>\n",
       "      <td>NaN</td>\n",
       "      <td>NaN</td>\n",
       "      <td>NaN</td>\n",
       "      <td>NaN</td>\n",
       "      <td>NaN</td>\n",
       "      <td>NaN</td>\n",
       "      <td>NaN</td>\n",
       "      <td>NaN</td>\n",
       "      <td>NaN</td>\n",
       "    </tr>\n",
       "  </tbody>\n",
       "</table>\n",
       "<p>195 rows × 11 columns</p>\n",
       "</div>"
      ],
      "text/plain": [
       "     cellIdx                                           geometry       gap  \\\n",
       "0          0  POLYGON ((320613.510 4096591.350, 320613.510 4...       NaN   \n",
       "1          1  POLYGON ((320613.510 4096621.350, 320613.510 4...       NaN   \n",
       "2          2  POLYGON ((320613.510 4096651.350, 320613.510 4...       NaN   \n",
       "3          3  POLYGON ((320613.510 4096681.350, 320613.510 4...       NaN   \n",
       "4          4  POLYGON ((320613.510 4096711.350, 320613.510 4...       NaN   \n",
       "..       ...                                                ...       ...   \n",
       "190      190  POLYGON ((320973.510 4096891.350, 320973.510 4...  0.530021   \n",
       "191      191  POLYGON ((320973.510 4096921.350, 320973.510 4...  0.605522   \n",
       "192      192  POLYGON ((320973.510 4096951.350, 320973.510 4...  0.641784   \n",
       "193      193  POLYGON ((320973.510 4096981.350, 320973.510 4...  0.689774   \n",
       "194      194  POLYGON ((320973.510 4097011.350, 320973.510 4...       NaN   \n",
       "\n",
       "          lai      tauR         R         b        szn        br        ci  \\\n",
       "0         NaN       NaN       NaN       NaN        NaN       NaN       NaN   \n",
       "1         NaN       NaN       NaN       NaN        NaN       NaN       NaN   \n",
       "2         NaN       NaN       NaN       NaN        NaN       NaN       NaN   \n",
       "3         NaN       NaN       NaN       NaN        NaN       NaN       NaN   \n",
       "4         NaN       NaN       NaN       NaN        NaN       NaN       NaN   \n",
       "..        ...       ...       ...       ...        ...       ...       ...   \n",
       "190  1.260546  0.616385  3.234487  8.315476   6.966683  2.570879  0.784017   \n",
       "191  0.986991  0.518324  3.371179  8.896944   8.949330  2.639120  0.782454   \n",
       "192  0.869775  0.505826  2.834006  7.951739  10.170288  2.805830  0.836303   \n",
       "193  0.735587  1.095519  2.269891  7.304286   7.123025  3.217901  0.734909   \n",
       "194       NaN       NaN       NaN       NaN        NaN       NaN       NaN   \n",
       "\n",
       "       lambda  \n",
       "0         NaN  \n",
       "1         NaN  \n",
       "2         NaN  \n",
       "3         NaN  \n",
       "4         NaN  \n",
       "..        ...  \n",
       "190  0.023333  \n",
       "191  0.020000  \n",
       "192  0.025556  \n",
       "193  0.015556  \n",
       "194       NaN  \n",
       "\n",
       "[195 rows x 11 columns]"
      ]
     },
     "execution_count": 66,
     "metadata": {},
     "output_type": "execute_result"
    }
   ],
   "source": [
    "gap_grid_taur"
   ]
  },
  {
   "cell_type": "code",
   "execution_count": null,
   "id": "5d4c5fc1",
   "metadata": {},
   "outputs": [],
   "source": []
  },
  {
   "cell_type": "code",
   "execution_count": 2,
   "id": "d3c9a04c",
   "metadata": {},
   "outputs": [],
   "source": [
    "## View the tree crowns vertical and horizontal radii distribution"
   ]
  },
  {
   "cell_type": "code",
   "execution_count": 7,
   "id": "77380358",
   "metadata": {},
   "outputs": [],
   "source": [
    "teak_crowns = gpd.read_file(\"../data/output/teak_crowns_silva/crowns.shp\")"
   ]
  },
  {
   "cell_type": "code",
   "execution_count": 34,
   "id": "b0e4917e",
   "metadata": {},
   "outputs": [
    {
     "data": {
      "text/html": [
       "<div>\n",
       "<style scoped>\n",
       "    .dataframe tbody tr th:only-of-type {\n",
       "        vertical-align: middle;\n",
       "    }\n",
       "\n",
       "    .dataframe tbody tr th {\n",
       "        vertical-align: top;\n",
       "    }\n",
       "\n",
       "    .dataframe thead th {\n",
       "        text-align: right;\n",
       "    }\n",
       "</style>\n",
       "<table border=\"1\" class=\"dataframe\">\n",
       "  <thead>\n",
       "    <tr style=\"text-align: right;\">\n",
       "      <th></th>\n",
       "      <th>treeID</th>\n",
       "      <th>XTOP</th>\n",
       "      <th>YTOP</th>\n",
       "      <th>ZTOP</th>\n",
       "      <th>szn_avg</th>\n",
       "      <th>area</th>\n",
       "      <th>hrad</th>\n",
       "      <th>vrad</th>\n",
       "      <th>geometry</th>\n",
       "    </tr>\n",
       "  </thead>\n",
       "  <tbody>\n",
       "    <tr>\n",
       "      <th>0</th>\n",
       "      <td>480</td>\n",
       "      <td>320998.04</td>\n",
       "      <td>4096919.98</td>\n",
       "      <td>23.47</td>\n",
       "      <td>8.005882</td>\n",
       "      <td>38.2704</td>\n",
       "      <td>3.490250</td>\n",
       "      <td>11.735</td>\n",
       "      <td>POINT (320997.600 4096919.636)</td>\n",
       "    </tr>\n",
       "    <tr>\n",
       "      <th>1</th>\n",
       "      <td>407</td>\n",
       "      <td>320997.83</td>\n",
       "      <td>4096933.81</td>\n",
       "      <td>22.65</td>\n",
       "      <td>11.312500</td>\n",
       "      <td>31.7568</td>\n",
       "      <td>3.179387</td>\n",
       "      <td>11.325</td>\n",
       "      <td>POINT (320998.354 4096934.539)</td>\n",
       "    </tr>\n",
       "    <tr>\n",
       "      <th>2</th>\n",
       "      <td>397</td>\n",
       "      <td>320991.94</td>\n",
       "      <td>4096934.98</td>\n",
       "      <td>11.91</td>\n",
       "      <td>12.943878</td>\n",
       "      <td>26.4810</td>\n",
       "      <td>2.903302</td>\n",
       "      <td>5.955</td>\n",
       "      <td>POINT (320991.779 4096934.064)</td>\n",
       "    </tr>\n",
       "    <tr>\n",
       "      <th>3</th>\n",
       "      <td>358</td>\n",
       "      <td>320982.90</td>\n",
       "      <td>4096941.78</td>\n",
       "      <td>25.54</td>\n",
       "      <td>9.262987</td>\n",
       "      <td>65.1744</td>\n",
       "      <td>4.554740</td>\n",
       "      <td>12.770</td>\n",
       "      <td>POINT (320982.730 4096941.465)</td>\n",
       "    </tr>\n",
       "    <tr>\n",
       "      <th>4</th>\n",
       "      <td>308</td>\n",
       "      <td>320981.79</td>\n",
       "      <td>4096946.46</td>\n",
       "      <td>14.55</td>\n",
       "      <td>14.521978</td>\n",
       "      <td>25.2735</td>\n",
       "      <td>2.836337</td>\n",
       "      <td>7.275</td>\n",
       "      <td>POINT (320982.908 4096949.032)</td>\n",
       "    </tr>\n",
       "    <tr>\n",
       "      <th>...</th>\n",
       "      <td>...</td>\n",
       "      <td>...</td>\n",
       "      <td>...</td>\n",
       "      <td>...</td>\n",
       "      <td>...</td>\n",
       "      <td>...</td>\n",
       "      <td>...</td>\n",
       "      <td>...</td>\n",
       "      <td>...</td>\n",
       "    </tr>\n",
       "    <tr>\n",
       "      <th>1482</th>\n",
       "      <td>190</td>\n",
       "      <td>320657.99</td>\n",
       "      <td>4096969.44</td>\n",
       "      <td>13.63</td>\n",
       "      <td>7.933333</td>\n",
       "      <td>4.1256</td>\n",
       "      <td>1.145958</td>\n",
       "      <td>6.815</td>\n",
       "      <td>POINT (320658.761 4096969.357)</td>\n",
       "    </tr>\n",
       "    <tr>\n",
       "      <th>1483</th>\n",
       "      <td>191</td>\n",
       "      <td>320678.57</td>\n",
       "      <td>4096968.53</td>\n",
       "      <td>10.12</td>\n",
       "      <td>8.214286</td>\n",
       "      <td>34.6709</td>\n",
       "      <td>3.322061</td>\n",
       "      <td>5.060</td>\n",
       "      <td>POINT (320679.958 4096967.912)</td>\n",
       "    </tr>\n",
       "    <tr>\n",
       "      <th>1484</th>\n",
       "      <td>2</td>\n",
       "      <td>320679.03</td>\n",
       "      <td>4096999.87</td>\n",
       "      <td>10.87</td>\n",
       "      <td>8.000000</td>\n",
       "      <td>7.5440</td>\n",
       "      <td>1.549622</td>\n",
       "      <td>5.435</td>\n",
       "      <td>POINT (320676.855 4096999.053)</td>\n",
       "    </tr>\n",
       "    <tr>\n",
       "      <th>1485</th>\n",
       "      <td>15</td>\n",
       "      <td>320711.25</td>\n",
       "      <td>4096999.22</td>\n",
       "      <td>14.45</td>\n",
       "      <td>9.000000</td>\n",
       "      <td>0.5616</td>\n",
       "      <td>0.422804</td>\n",
       "      <td>7.225</td>\n",
       "      <td>POINT (320711.223 4096998.366)</td>\n",
       "    </tr>\n",
       "    <tr>\n",
       "      <th>1486</th>\n",
       "      <td>170</td>\n",
       "      <td>320681.01</td>\n",
       "      <td>4096973.15</td>\n",
       "      <td>2.37</td>\n",
       "      <td>8.666667</td>\n",
       "      <td>0.4250</td>\n",
       "      <td>0.367807</td>\n",
       "      <td>1.185</td>\n",
       "      <td>POINT (320680.582 4096973.106)</td>\n",
       "    </tr>\n",
       "  </tbody>\n",
       "</table>\n",
       "<p>1487 rows × 9 columns</p>\n",
       "</div>"
      ],
      "text/plain": [
       "      treeID       XTOP        YTOP   ZTOP    szn_avg     area      hrad  \\\n",
       "0        480  320998.04  4096919.98  23.47   8.005882  38.2704  3.490250   \n",
       "1        407  320997.83  4096933.81  22.65  11.312500  31.7568  3.179387   \n",
       "2        397  320991.94  4096934.98  11.91  12.943878  26.4810  2.903302   \n",
       "3        358  320982.90  4096941.78  25.54   9.262987  65.1744  4.554740   \n",
       "4        308  320981.79  4096946.46  14.55  14.521978  25.2735  2.836337   \n",
       "...      ...        ...         ...    ...        ...      ...       ...   \n",
       "1482     190  320657.99  4096969.44  13.63   7.933333   4.1256  1.145958   \n",
       "1483     191  320678.57  4096968.53  10.12   8.214286  34.6709  3.322061   \n",
       "1484       2  320679.03  4096999.87  10.87   8.000000   7.5440  1.549622   \n",
       "1485      15  320711.25  4096999.22  14.45   9.000000   0.5616  0.422804   \n",
       "1486     170  320681.01  4096973.15   2.37   8.666667   0.4250  0.367807   \n",
       "\n",
       "        vrad                        geometry  \n",
       "0     11.735  POINT (320997.600 4096919.636)  \n",
       "1     11.325  POINT (320998.354 4096934.539)  \n",
       "2      5.955  POINT (320991.779 4096934.064)  \n",
       "3     12.770  POINT (320982.730 4096941.465)  \n",
       "4      7.275  POINT (320982.908 4096949.032)  \n",
       "...      ...                             ...  \n",
       "1482   6.815  POINT (320658.761 4096969.357)  \n",
       "1483   5.060  POINT (320679.958 4096967.912)  \n",
       "1484   5.435  POINT (320676.855 4096999.053)  \n",
       "1485   7.225  POINT (320711.223 4096998.366)  \n",
       "1486   1.185  POINT (320680.582 4096973.106)  \n",
       "\n",
       "[1487 rows x 9 columns]"
      ]
     },
     "execution_count": 34,
     "metadata": {},
     "output_type": "execute_result"
    }
   ],
   "source": [
    "teak_crowns"
   ]
  },
  {
   "cell_type": "code",
   "execution_count": 5,
   "id": "cb7b925c",
   "metadata": {},
   "outputs": [],
   "source": [
    "teak_crowns['b_r'] = teak_crowns['vrad']/teak_crowns['hrad']"
   ]
  },
  {
   "cell_type": "code",
   "execution_count": 11,
   "id": "b564c384",
   "metadata": {},
   "outputs": [
    {
     "data": {
      "image/png": "[encoded data removed]",
      "text/plain": [
       "<Figure size 432x432 with 1 Axes>"
      ]
     },
     "metadata": {
      "needs_background": "light"
     },
     "output_type": "display_data"
    }
   ],
   "source": [
    "import matplotlib.pyplot as plt\n",
    "plt.figure(figsize=(6,6))\n",
    "plt.scatter(teak_crowns['hrad'],teak_crowns['vrad'])\n",
    "plt.xlabel(\"hrad\",fontsize=14)\n",
    "plt.ylabel(\"vrad\",fontsize=14)\n",
    "plt.title(\"Horizontal and Vertical Radius at TEAK\", fontsize=16)\n",
    "plt.savefig(\"../figs/silva_vradhrad_scatter_teak.png\")"
   ]
  },
  {
   "cell_type": "code",
   "execution_count": 12,
   "id": "03bc33ed",
   "metadata": {},
   "outputs": [
    {
     "data": {
      "image/png": "[encoded data removed]",
      "text/plain": [
       "<Figure size 432x432 with 1 Axes>"
      ]
     },
     "metadata": {
      "needs_background": "light"
     },
     "output_type": "display_data"
    }
   ],
   "source": [
    "plt.figure(figsize=(6,6))\n",
    "plt.hist(teak_crowns['b_r'],bins=\"auto\")\n",
    "plt.xlabel(\"b/r\",fontsize=14)\n",
    "plt.ylabel(\"count\",fontsize=14)\n",
    "plt.title(\"b/r Distribution at TEAK\", fontsize=16)\n",
    "plt.savefig(\"../figs/silva_br_hist_teak.png\")"
   ]
  },
  {
   "cell_type": "code",
   "execution_count": 13,
   "id": "996111aa",
   "metadata": {},
   "outputs": [
    {
     "data": {
      "image/png": "[encoded data removed]",
      "text/plain": [
       "<Figure size 432x432 with 1 Axes>"
      ]
     },
     "metadata": {
      "needs_background": "light"
     },
     "output_type": "display_data"
    }
   ],
   "source": [
    "plt.figure(figsize=(6,6))\n",
    "plt.hist(teak_crowns['vrad'],bins=\"auto\")\n",
    "plt.xlabel(\"radius\",fontsize=14)\n",
    "plt.ylabel(\"count\",fontsize=14)\n",
    "plt.title(\"Vertical Radius Distribution at TEAK\", fontsize=16)\n",
    "plt.savefig(\"../figs/silva_vrad_hist_teak.png\")"
   ]
  },
  {
   "cell_type": "code",
   "execution_count": 14,
   "id": "e820a944",
   "metadata": {},
   "outputs": [
    {
     "data": {
      "image/png": "[encoded data removed]",
      "text/plain": [
       "<Figure size 432x432 with 1 Axes>"
      ]
     },
     "metadata": {
      "needs_background": "light"
     },
     "output_type": "display_data"
    }
   ],
   "source": [
    "plt.figure(figsize=(6,6))\n",
    "plt.hist(teak_crowns['hrad'],bins=\"auto\")\n",
    "plt.xlabel(\"radius\",fontsize=14)\n",
    "plt.ylabel(\"count\",fontsize=14)\n",
    "plt.title(\"Horizontal Radius Distribution at TEAK\", fontsize=16)\n",
    "plt.savefig(\"../figs/silva_hrad_hist_teak.png\")"
   ]
  },
  {
   "cell_type": "code",
   "execution_count": 15,
   "id": "77b70cc0",
   "metadata": {},
   "outputs": [
    {
     "data": {
      "text/html": [
       "<div>\n",
       "<style scoped>\n",
       "    .dataframe tbody tr th:only-of-type {\n",
       "        vertical-align: middle;\n",
       "    }\n",
       "\n",
       "    .dataframe tbody tr th {\n",
       "        vertical-align: top;\n",
       "    }\n",
       "\n",
       "    .dataframe thead th {\n",
       "        text-align: right;\n",
       "    }\n",
       "</style>\n",
       "<table border=\"1\" class=\"dataframe\">\n",
       "  <thead>\n",
       "    <tr style=\"text-align: right;\">\n",
       "      <th></th>\n",
       "      <th>treeID</th>\n",
       "      <th>XTOP</th>\n",
       "      <th>YTOP</th>\n",
       "      <th>ZTOP</th>\n",
       "      <th>szn_avg</th>\n",
       "      <th>area</th>\n",
       "      <th>hrad</th>\n",
       "      <th>vrad</th>\n",
       "      <th>geometry</th>\n",
       "      <th>b_r</th>\n",
       "    </tr>\n",
       "  </thead>\n",
       "  <tbody>\n",
       "    <tr>\n",
       "      <th>564</th>\n",
       "      <td>64</td>\n",
       "      <td>320717.36</td>\n",
       "      <td>4096994.30</td>\n",
       "      <td>19.79</td>\n",
       "      <td>14.000000</td>\n",
       "      <td>1.7172</td>\n",
       "      <td>0.739325</td>\n",
       "      <td>9.895</td>\n",
       "      <td>POLYGON ((320716.860 4096993.740, 320717.030 4...</td>\n",
       "      <td>13.383826</td>\n",
       "    </tr>\n",
       "    <tr>\n",
       "      <th>836</th>\n",
       "      <td>149</td>\n",
       "      <td>320986.79</td>\n",
       "      <td>4096981.35</td>\n",
       "      <td>15.62</td>\n",
       "      <td>8.000000</td>\n",
       "      <td>0.7469</td>\n",
       "      <td>0.487592</td>\n",
       "      <td>7.810</td>\n",
       "      <td>POLYGON ((320986.700 4096981.230, 320986.260 4...</td>\n",
       "      <td>16.017500</td>\n",
       "    </tr>\n",
       "    <tr>\n",
       "      <th>1407</th>\n",
       "      <td>7</td>\n",
       "      <td>320866.85</td>\n",
       "      <td>4096999.78</td>\n",
       "      <td>11.41</td>\n",
       "      <td>7.800000</td>\n",
       "      <td>0.3450</td>\n",
       "      <td>0.331386</td>\n",
       "      <td>5.705</td>\n",
       "      <td>POLYGON ((320867.290 4096999.290, 320867.060 4...</td>\n",
       "      <td>17.215555</td>\n",
       "    </tr>\n",
       "    <tr>\n",
       "      <th>1408</th>\n",
       "      <td>1493</td>\n",
       "      <td>320999.99</td>\n",
       "      <td>4096605.11</td>\n",
       "      <td>4.52</td>\n",
       "      <td>5.500000</td>\n",
       "      <td>0.1650</td>\n",
       "      <td>0.229175</td>\n",
       "      <td>2.260</td>\n",
       "      <td>POLYGON ((320999.920 4096604.560, 320999.690 4...</td>\n",
       "      <td>9.861464</td>\n",
       "    </tr>\n",
       "    <tr>\n",
       "      <th>1413</th>\n",
       "      <td>656</td>\n",
       "      <td>320704.68</td>\n",
       "      <td>4096886.79</td>\n",
       "      <td>22.33</td>\n",
       "      <td>8.000000</td>\n",
       "      <td>5.7135</td>\n",
       "      <td>1.348578</td>\n",
       "      <td>11.165</td>\n",
       "      <td>POLYGON ((320706.970 4096887.040, 320705.900 4...</td>\n",
       "      <td>8.279089</td>\n",
       "    </tr>\n",
       "    <tr>\n",
       "      <th>1446</th>\n",
       "      <td>569</td>\n",
       "      <td>320770.64</td>\n",
       "      <td>4096902.67</td>\n",
       "      <td>15.82</td>\n",
       "      <td>9.055556</td>\n",
       "      <td>2.5388</td>\n",
       "      <td>0.898958</td>\n",
       "      <td>7.910</td>\n",
       "      <td>POLYGON ((320770.990 4096901.070, 320770.640 4...</td>\n",
       "      <td>8.799078</td>\n",
       "    </tr>\n",
       "    <tr>\n",
       "      <th>1481</th>\n",
       "      <td>156</td>\n",
       "      <td>320655.09</td>\n",
       "      <td>4096975.88</td>\n",
       "      <td>22.48</td>\n",
       "      <td>7.625000</td>\n",
       "      <td>3.9996</td>\n",
       "      <td>1.128323</td>\n",
       "      <td>11.240</td>\n",
       "      <td>POLYGON ((320655.460 4096975.780, 320655.220 4...</td>\n",
       "      <td>9.961689</td>\n",
       "    </tr>\n",
       "    <tr>\n",
       "      <th>1485</th>\n",
       "      <td>15</td>\n",
       "      <td>320711.25</td>\n",
       "      <td>4096999.22</td>\n",
       "      <td>14.45</td>\n",
       "      <td>9.000000</td>\n",
       "      <td>0.5616</td>\n",
       "      <td>0.422804</td>\n",
       "      <td>7.225</td>\n",
       "      <td>POLYGON ((320711.270 4096997.660, 320711.030 4...</td>\n",
       "      <td>17.088315</td>\n",
       "    </tr>\n",
       "  </tbody>\n",
       "</table>\n",
       "</div>"
      ],
      "text/plain": [
       "      treeID       XTOP        YTOP   ZTOP    szn_avg    area      hrad  \\\n",
       "564       64  320717.36  4096994.30  19.79  14.000000  1.7172  0.739325   \n",
       "836      149  320986.79  4096981.35  15.62   8.000000  0.7469  0.487592   \n",
       "1407       7  320866.85  4096999.78  11.41   7.800000  0.3450  0.331386   \n",
       "1408    1493  320999.99  4096605.11   4.52   5.500000  0.1650  0.229175   \n",
       "1413     656  320704.68  4096886.79  22.33   8.000000  5.7135  1.348578   \n",
       "1446     569  320770.64  4096902.67  15.82   9.055556  2.5388  0.898958   \n",
       "1481     156  320655.09  4096975.88  22.48   7.625000  3.9996  1.128323   \n",
       "1485      15  320711.25  4096999.22  14.45   9.000000  0.5616  0.422804   \n",
       "\n",
       "        vrad                                           geometry        b_r  \n",
       "564    9.895  POLYGON ((320716.860 4096993.740, 320717.030 4...  13.383826  \n",
       "836    7.810  POLYGON ((320986.700 4096981.230, 320986.260 4...  16.017500  \n",
       "1407   5.705  POLYGON ((320867.290 4096999.290, 320867.060 4...  17.215555  \n",
       "1408   2.260  POLYGON ((320999.920 4096604.560, 320999.690 4...   9.861464  \n",
       "1413  11.165  POLYGON ((320706.970 4096887.040, 320705.900 4...   8.279089  \n",
       "1446   7.910  POLYGON ((320770.990 4096901.070, 320770.640 4...   8.799078  \n",
       "1481  11.240  POLYGON ((320655.460 4096975.780, 320655.220 4...   9.961689  \n",
       "1485   7.225  POLYGON ((320711.270 4096997.660, 320711.030 4...  17.088315  "
      ]
     },
     "execution_count": 15,
     "metadata": {},
     "output_type": "execute_result"
    }
   ],
   "source": [
    "teak_crowns.loc[teak_crowns['b_r']>8] # .to_file(\"teakcrowns_br_gt8.shp\")"
   ]
  },
  {
   "cell_type": "code",
   "execution_count": null,
   "id": "0db2f9a3",
   "metadata": {},
   "outputs": [],
   "source": []
  },
  {
   "cell_type": "code",
   "execution_count": 36,
   "id": "36234994",
   "metadata": {},
   "outputs": [],
   "source": [
    "############\n",
    "## SCRATCH\n",
    "############"
   ]
  },
  {
   "cell_type": "code",
   "execution_count": null,
   "id": "37a9bf63",
   "metadata": {},
   "outputs": [],
   "source": [
    "\n",
    "    "
   ]
  },
  {
   "cell_type": "code",
   "execution_count": 136,
   "id": "f7087429",
   "metadata": {},
   "outputs": [],
   "source": [
    "from scipy import stats\n",
    "binx=np.arange(min(las.x),max(las.x),30)\n",
    "biny=np.arange(min(las.y),max(las.y),30)\n",
    "\n",
    "ret = stats.binned_statistic_2d(np.array(las.x), np.array(las.y), np.array(las.z), 'count',\n",
    "                                bins=[binx, biny])"
   ]
  },
  {
   "cell_type": "code",
   "execution_count": 137,
   "id": "ab46e914",
   "metadata": {},
   "outputs": [
    {
     "data": {
      "text/plain": [
       "351776.0"
      ]
     },
     "execution_count": 137,
     "metadata": {},
     "output_type": "execute_result"
    }
   ],
   "source": [
    "np.nansum(ret.statistic)"
   ]
  },
  {
   "cell_type": "code",
   "execution_count": 123,
   "id": "b73755bc",
   "metadata": {},
   "outputs": [
    {
     "data": {
      "text/plain": [
       "424122"
      ]
     },
     "execution_count": 123,
     "metadata": {},
     "output_type": "execute_result"
    }
   ],
   "source": [
    "len(las.x)"
   ]
  },
  {
   "cell_type": "code",
   "execution_count": 140,
   "id": "836455b7",
   "metadata": {},
   "outputs": [
    {
     "data": {
      "text/plain": [
       "array([320643.51, 320673.51, 320703.51, 320733.51, 320763.51, 320793.51,\n",
       "       320823.51, 320853.51, 320883.51, 320913.51, 320943.51, 320973.51])"
      ]
     },
     "execution_count": 140,
     "metadata": {},
     "output_type": "execute_result"
    }
   ],
   "source": [
    "ret.x_edge"
   ]
  },
  {
   "cell_type": "code",
   "execution_count": null,
   "id": "973c3d59",
   "metadata": {},
   "outputs": [],
   "source": [
    "bbox = [(min(las.x), min(las.y)), (max(las.x), max(las.y))]"
   ]
  },
  {
   "cell_type": "code",
   "execution_count": 9,
   "id": "aa4832ba",
   "metadata": {},
   "outputs": [],
   "source": [
    "import shapely\n",
    "import geopandas as gpd\n",
    "# total area for the grid\n",
    "xmin, ymin, xmax, ymax= [min(las.x), min(las.y), max(las.x), max(las.y)]\n",
    "# how many cells across and down\n",
    "# n_cells=51 # 30.5 meters\n",
    "cell_size = 30\n",
    "# create the cells in a loop\n",
    "grid_cells = []\n",
    "for x0 in np.arange(xmin, xmax+cell_size, cell_size):\n",
    "    for y0 in np.arange(ymin, ymax+cell_size, cell_size):\n",
    "        # bounds\n",
    "        x1 = x0-cell_size\n",
    "        y1 = y0+cell_size\n",
    "        grid_cells.append(shapely.geometry.box(x0, y0, x1, y1))\n",
    "# Create a gdf with the list of shapely objects\n",
    "# CRS for gdf of cells\n",
    "crs = \"EPSG:32611\"\n",
    "cell = gpd.GeoDataFrame(grid_cells, columns=['geometry'], crs=crs)"
   ]
  },
  {
   "cell_type": "code",
   "execution_count": 10,
   "id": "5685db29",
   "metadata": {},
   "outputs": [
    {
     "data": {
      "text/plain": [
       "<AxesSubplot:>"
      ]
     },
     "execution_count": 10,
     "metadata": {},
     "output_type": "execute_result"
    },
    {
     "data": {
      "image/png": "[encoded data removed]",
      "text/plain": [
       "<Figure size 432x288 with 1 Axes>"
      ]
     },
     "metadata": {
      "needs_background": "light"
     },
     "output_type": "display_data"
    }
   ],
   "source": [
    "cell.boundary.plot()"
   ]
  },
  {
   "cell_type": "code",
   "execution_count": 158,
   "id": "922e9c2c",
   "metadata": {},
   "outputs": [],
   "source": [
    "poly = cell.iloc[0]['geometry']"
   ]
  },
  {
   "cell_type": "code",
   "execution_count": 193,
   "id": "4f34ef1e",
   "metadata": {},
   "outputs": [],
   "source": [
    "# cell.reset_index(inplace=True)\n",
    "# cell.rename(columns={\"index\":'cellIdx'},inplace=True)\n",
    "merged = gpd.sjoin(cell,las_gdf.reset_index(drop=True),how='left',predicate='intersects')"
   ]
  },
  {
   "cell_type": "code",
   "execution_count": 282,
   "id": "1835abe2",
   "metadata": {},
   "outputs": [
    {
     "data": {
      "text/html": [
       "<div>\n",
       "<style scoped>\n",
       "    .dataframe tbody tr th:only-of-type {\n",
       "        vertical-align: middle;\n",
       "    }\n",
       "\n",
       "    .dataframe tbody tr th {\n",
       "        vertical-align: top;\n",
       "    }\n",
       "\n",
       "    .dataframe thead th {\n",
       "        text-align: right;\n",
       "    }\n",
       "</style>\n",
       "<table border=\"1\" class=\"dataframe\">\n",
       "  <thead>\n",
       "    <tr style=\"text-align: right;\">\n",
       "      <th></th>\n",
       "      <th>cellIdx</th>\n",
       "      <th>geometry</th>\n",
       "      <th>index_right</th>\n",
       "      <th>x</th>\n",
       "      <th>y</th>\n",
       "      <th>class</th>\n",
       "      <th>scanangle</th>\n",
       "    </tr>\n",
       "  </thead>\n",
       "  <tbody>\n",
       "    <tr>\n",
       "      <th>13</th>\n",
       "      <td>13</td>\n",
       "      <td>POLYGON ((320613.510 4096981.350, 320613.510 4...</td>\n",
       "      <td>413767.0</td>\n",
       "      <td>320643.51</td>\n",
       "      <td>4096999.88</td>\n",
       "      <td>2.0</td>\n",
       "      <td>8.0</td>\n",
       "    </tr>\n",
       "  </tbody>\n",
       "</table>\n",
       "</div>"
      ],
      "text/plain": [
       "    cellIdx                                           geometry  index_right  \\\n",
       "13       13  POLYGON ((320613.510 4096981.350, 320613.510 4...     413767.0   \n",
       "\n",
       "            x           y  class  scanangle  \n",
       "13  320643.51  4096999.88    2.0        8.0  "
      ]
     },
     "execution_count": 282,
     "metadata": {},
     "output_type": "execute_result"
    }
   ],
   "source": [
    "merged.loc[merged['cellIdx']==13]"
   ]
  },
  {
   "cell_type": "code",
   "execution_count": null,
   "id": "2682361f",
   "metadata": {},
   "outputs": [],
   "source": [
    "for idx, group in merged.groupby(\"index\"):\n",
    "    print(idx)"
   ]
  },
  {
   "cell_type": "code",
   "execution_count": 194,
   "id": "95a2f951",
   "metadata": {},
   "outputs": [
    {
     "data": {
      "text/plain": [
       "Index(['cellIdx', 'geometry', 'index_right', 'x', 'y', 'class', 'scanangle'], dtype='object')"
      ]
     },
     "execution_count": 194,
     "metadata": {},
     "output_type": "execute_result"
    }
   ],
   "source": [
    "merged.columns"
   ]
  },
  {
   "cell_type": "code",
   "execution_count": 199,
   "id": "f81d3c27",
   "metadata": {},
   "outputs": [],
   "source": [
    "merged_26 = merged.loc[merged['cellIdx']==26]"
   ]
  },
  {
   "cell_type": "code",
   "execution_count": 203,
   "id": "de084138",
   "metadata": {},
   "outputs": [
    {
     "data": {
      "text/plain": [
       "7.7898550724637685"
      ]
     },
     "execution_count": 203,
     "metadata": {},
     "output_type": "execute_result"
    }
   ],
   "source": [
    "np.nanmean(merged_26['scanangle'].values)"
   ]
  },
  {
   "cell_type": "code",
   "execution_count": 209,
   "id": "0f5629dc",
   "metadata": {},
   "outputs": [
    {
     "data": {
      "text/plain": [
       "0.6231884057971014"
      ]
     },
     "execution_count": 209,
     "metadata": {},
     "output_type": "execute_result"
    }
   ],
   "source": [
    "len(merged_26.loc[merged_26['class']==2]) / len(merged_26) "
   ]
  },
  {
   "cell_type": "code",
   "execution_count": null,
   "id": "4d753227",
   "metadata": {},
   "outputs": [],
   "source": []
  },
  {
   "cell_type": "code",
   "execution_count": null,
   "id": "f62f03f7",
   "metadata": {},
   "outputs": [],
   "source": []
  },
  {
   "cell_type": "code",
   "execution_count": null,
   "id": "5bd297a3",
   "metadata": {},
   "outputs": [],
   "source": [
    "# Join the grid and points\n",
    "merged = gpd.sjoin(cell,lvis_agb_gdf, how='left',op='intersects')"
   ]
  },
  {
   "cell_type": "code",
   "execution_count": null,
   "id": "772fe8e4",
   "metadata": {},
   "outputs": [],
   "source": [
    "merged.reset_index(inplace=True)\n",
    "merged.rename(columns={\"index\":\"cellIdx\"},inplace=True)"
   ]
  },
  {
   "cell_type": "code",
   "execution_count": null,
   "id": "d9dbe3a9",
   "metadata": {},
   "outputs": [],
   "source": [
    "dfList = []\n",
    "for idx, group in merged.groupby(by=\"cellIdx\"):\n",
    "    \n",
    "    agbd = group['biWF'].mean() * 0.7\n",
    "    agbd_std = group['biWF'].std()\n",
    "\n",
    "    # add values to cell df\n",
    "    df = pd.DataFrame(data={\"cellIdx\":[idx],\n",
    "                            \"agbd\":[agbd],\n",
    "                            \"agbd_std\": [agbd_std],\n",
    "                           \"geometry\":[group['geometry'].iloc[0]]})\n",
    "    dfList.append(df)\n",
    "\n",
    "# Combine dataframes together rowise\n",
    "merged_stats_gdf = pd.concat(dfList)"
   ]
  },
  {
   "cell_type": "code",
   "execution_count": 53,
   "id": "40a6e6d0",
   "metadata": {},
   "outputs": [
    {
     "data": {
      "text/plain": [
       "array([ 0.  ,  0.  ,  0.  ,  0.  ,  0.  ,  0.  ,  0.  ,  8.83,  8.86,\n",
       "        9.29,  0.  ,  0.  ,  0.  ,  0.  ,  0.  ,  0.  ,  0.  ,  0.  ,\n",
       "        0.  ,  0.  ,  0.  ,  0.  ,  5.36, 16.22,  0.21,  0.  ,  0.  ,\n",
       "        0.  ,  9.89,  4.94,  9.14,  0.  ,  0.  ,  8.53,  4.82,  0.05,\n",
       "        0.  ,  8.24,  0.  ,  0.  , 10.74,  0.  ,  0.  ,  0.  ,  9.61,\n",
       "        0.  ,  0.  ,  0.  , 14.81,  0.  ,  0.  ,  0.  ,  0.  ,  5.08,\n",
       "        0.  , 13.13,  0.  ,  0.  ,  7.39,  0.  ,  5.48,  0.  ,  0.  ,\n",
       "        0.  ,  0.  ,  0.  ,  0.  ,  0.  ,  0.  ,  0.  ,  0.  ,  0.  ,\n",
       "        3.  ,  0.  ,  3.51,  3.28,  0.  ,  0.  ,  0.  ,  0.  , 18.37,\n",
       "        0.  ,  0.  , 16.26,  0.08,  0.  ,  0.  ,  0.25,  8.08,  0.  ,\n",
       "        0.  ,  9.44,  0.  ,  0.26,  6.45,  0.  ,  0.  ,  0.  ,  0.  ,\n",
       "        0.  ])"
      ]
     },
     "execution_count": 53,
     "metadata": {},
     "output_type": "execute_result"
    }
   ],
   "source": [
    "np.array(las.z[:100])"
   ]
  },
  {
   "cell_type": "code",
   "execution_count": 19,
   "id": "048c2c89",
   "metadata": {},
   "outputs": [],
   "source": [
    "binx=np.arange(min(las.x),max(las.x),30)\n",
    "biny=np.arange(min(las.y),max(las.y),30)\n",
    "\n",
    "xx, yy = np.meshgrid(binx,biny)"
   ]
  },
  {
   "cell_type": "code",
   "execution_count": 18,
   "id": "09e902db",
   "metadata": {},
   "outputs": [
    {
     "data": {
      "text/plain": [
       "(14, 12)"
      ]
     },
     "execution_count": 18,
     "metadata": {},
     "output_type": "execute_result"
    }
   ],
   "source": [
    "xx.shape"
   ]
  },
  {
   "cell_type": "code",
   "execution_count": 29,
   "id": "e73a4d3c",
   "metadata": {},
   "outputs": [
    {
     "data": {
      "image/png": "[encoded data removed]",
      "text/plain": [
       "<Figure size 432x288 with 1 Axes>"
      ]
     },
     "metadata": {
      "needs_background": "light"
     },
     "output_type": "display_data"
    }
   ],
   "source": [
    "import matplotlib.pyplot as plt\n",
    "plt.plot(xx,yy, marker=\"\",ls=\"\")\n",
    "plt.grid(True)"
   ]
  },
  {
   "cell_type": "code",
   "execution_count": null,
   "id": "5ebd54d2",
   "metadata": {},
   "outputs": [],
   "source": [
    "def mean_height(x,y,zvals):\n",
    "    # get the indices for values taht fill in the xy grid\n",
    "    idxs =np.nonzero()"
   ]
  },
  {
   "cell_type": "code",
   "execution_count": 44,
   "id": "2c3c2b05",
   "metadata": {},
   "outputs": [
    {
     "data": {
      "text/plain": [
       "(array([0, 0, 0, 0, 0, 1, 1, 1]), array([0, 1, 4, 7, 8, 4, 7, 8]))"
      ]
     },
     "execution_count": 44,
     "metadata": {},
     "output_type": "execute_result"
    }
   ],
   "source": [
    "a = np.array([[1,3,6,8,1,9,7,2,3],\n",
    "            [6,5,6,8,1,9,7,2,3]])\n",
    "\n",
    "np.nonzero(a < 5)"
   ]
  },
  {
   "cell_type": "code",
   "execution_count": null,
   "id": "075b2e67",
   "metadata": {},
   "outputs": [],
   "source": []
  },
  {
   "cell_type": "code",
   "execution_count": 39,
   "id": "e947b0e9",
   "metadata": {},
   "outputs": [
    {
     "data": {
      "text/plain": [
       "array([[3.20999120e+05, 4.09692247e+06, 0.00000000e+00, 2.00000000e+00,\n",
       "        1.90000000e+01],\n",
       "       [3.20997330e+05, 4.09692541e+06, 0.00000000e+00, 2.00000000e+00,\n",
       "        1.90000000e+01],\n",
       "       [3.20995030e+05, 4.09692695e+06, 0.00000000e+00, 2.00000000e+00,\n",
       "        1.90000000e+01],\n",
       "       ...,\n",
       "       [3.20847550e+05, 4.09680961e+06, 2.42700000e+01, 1.00000000e+00,\n",
       "        3.00000000e+00],\n",
       "       [3.20847390e+05, 4.09681027e+06, 2.29400000e+01, 1.00000000e+00,\n",
       "        3.00000000e+00],\n",
       "       [3.20978590e+05, 4.09686095e+06, 2.22600000e+01, 1.00000000e+00,\n",
       "        5.00000000e+00]])"
      ]
     },
     "execution_count": 39,
     "metadata": {},
     "output_type": "execute_result"
    }
   ],
   "source": [
    "las_vstack"
   ]
  },
  {
   "cell_type": "code",
   "execution_count": null,
   "id": "ae2af8ef",
   "metadata": {},
   "outputs": [],
   "source": []
  },
  {
   "cell_type": "code",
   "execution_count": 24,
   "id": "5913a549",
   "metadata": {},
   "outputs": [
    {
     "data": {
      "text/plain": [
       "['X',\n",
       " 'Y',\n",
       " 'Z',\n",
       " 'intensity',\n",
       " 'return_number',\n",
       " 'number_of_returns',\n",
       " 'scan_direction_flag',\n",
       " 'edge_of_flight_line',\n",
       " 'classification',\n",
       " 'synthetic',\n",
       " 'key_point',\n",
       " 'withheld',\n",
       " 'scan_angle_rank',\n",
       " 'user_data',\n",
       " 'point_source_id',\n",
       " 'gps_time',\n",
       " 'red',\n",
       " 'green',\n",
       " 'blue']"
      ]
     },
     "execution_count": 24,
     "metadata": {},
     "output_type": "execute_result"
    }
   ],
   "source": [
    "list(las.point_format.dimension_names)"
   ]
  },
  {
   "cell_type": "code",
   "execution_count": 25,
   "id": "ce30e266",
   "metadata": {},
   "outputs": [
    {
     "data": {
      "text/plain": [
       "array([19, 19, 19, ..., -3, -3, -5], dtype=int8)"
      ]
     },
     "execution_count": 25,
     "metadata": {},
     "output_type": "execute_result"
    }
   ],
   "source": [
    "las.scan_angle_rank"
   ]
  },
  {
   "cell_type": "code",
   "execution_count": 22,
   "id": "cf880b04",
   "metadata": {},
   "outputs": [
    {
     "data": {
      "text/plain": [
       "['__class__',\n",
       " '__delattr__',\n",
       " '__dict__',\n",
       " '__dir__',\n",
       " '__doc__',\n",
       " '__eq__',\n",
       " '__format__',\n",
       " '__ge__',\n",
       " '__getattribute__',\n",
       " '__getitem__',\n",
       " '__gt__',\n",
       " '__hash__',\n",
       " '__init__',\n",
       " '__init_subclass__',\n",
       " '__le__',\n",
       " '__lt__',\n",
       " '__module__',\n",
       " '__ne__',\n",
       " '__new__',\n",
       " '__reduce__',\n",
       " '__reduce_ex__',\n",
       " '__repr__',\n",
       " '__setattr__',\n",
       " '__sizeof__',\n",
       " '__str__',\n",
       " '__subclasshook__',\n",
       " '__weakref__',\n",
       " 'add_extra_dimension',\n",
       " 'dimension_by_name',\n",
       " 'dimension_names',\n",
       " 'dimensions',\n",
       " 'dtype',\n",
       " 'extra_dimension_names',\n",
       " 'extra_dimensions',\n",
       " 'has_waveform_packet',\n",
       " 'id',\n",
       " 'num_extra_bytes',\n",
       " 'num_standard_bytes',\n",
       " 'size',\n",
       " 'standard_dimension_names',\n",
       " 'standard_dimensions']"
      ]
     },
     "execution_count": 22,
     "metadata": {},
     "output_type": "execute_result"
    }
   ],
   "source": [
    "dir(las.point_format.dimension_names)"
   ]
  },
  {
   "cell_type": "code",
   "execution_count": null,
   "id": "b1fc99e3",
   "metadata": {},
   "outputs": [],
   "source": []
  },
  {
   "cell_type": "code",
   "execution_count": null,
   "id": "9289b9bc",
   "metadata": {},
   "outputs": [],
   "source": []
  },
  {
   "cell_type": "code",
   "execution_count": null,
   "id": "697d2888",
   "metadata": {},
   "outputs": [],
   "source": []
  }
 ],
 "metadata": {
  "kernelspec": {
   "display_name": "osgeo-env-v1",
   "language": "python",
   "name": "osgeo-env-v1"
  },
  "language_info": {
   "codemirror_mode": {
    "name": "ipython",
    "version": 3
   },
   "file_extension": ".py",
   "mimetype": "text/x-python",
   "name": "python",
   "nbconvert_exporter": "python",
   "pygments_lexer": "ipython3",
   "version": "3.9.7"
  }
 },
 "nbformat": 4,
 "nbformat_minor": 5
}
