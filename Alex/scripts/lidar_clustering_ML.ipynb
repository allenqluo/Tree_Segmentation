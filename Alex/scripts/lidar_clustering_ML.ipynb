{
 "cells": [
  {
   "cell_type": "code",
   "execution_count": 2,
   "id": "27129507",
   "metadata": {},
   "outputs": [],
   "source": [
    "import laspy\n",
    "import numpy as np\n",
    "import geopandas as gpd\n",
    "import shapely\n",
    "import numpy as np\n",
    "import sklearn\n",
    "import matplotlib.pyplot as plt\n",
    "from mpl_toolkits.mplot3d import Axes3D\n",
    "\n",
    "# 1457 trees froim lidR"
   ]
  },
  {
   "cell_type": "code",
   "execution_count": 3,
   "id": "68c826a3",
   "metadata": {},
   "outputs": [],
   "source": [
    "las = laspy.read(\"../data/teak_data/lidarAOI_g.las\")"
   ]
  },
  {
   "cell_type": "code",
   "execution_count": 4,
   "id": "9603c587",
   "metadata": {},
   "outputs": [],
   "source": [
    "las_vstack = np.vstack([np.array(las.x), np.array(las.y), np.array(las.z)]).T"
   ]
  },
  {
   "cell_type": "code",
   "execution_count": 5,
   "id": "a13ceede",
   "metadata": {},
   "outputs": [],
   "source": [
    "# get ground indices\n",
    "ground_idx = np.where(np.array(las.classification) !=2)"
   ]
  },
  {
   "cell_type": "code",
   "execution_count": 6,
   "id": "20746776",
   "metadata": {},
   "outputs": [
    {
     "data": {
      "text/plain": [
       "239339"
      ]
     },
     "execution_count": 6,
     "metadata": {},
     "output_type": "execute_result"
    }
   ],
   "source": [
    "len(ground_idx[0])"
   ]
  },
  {
   "cell_type": "code",
   "execution_count": 7,
   "id": "8334d8fc",
   "metadata": {},
   "outputs": [
    {
     "data": {
      "text/plain": [
       "239339"
      ]
     },
     "execution_count": 7,
     "metadata": {},
     "output_type": "execute_result"
    }
   ],
   "source": [
    "len(np.array(las.classification)[ground_idx])"
   ]
  },
  {
   "cell_type": "code",
   "execution_count": 8,
   "id": "01a5bc55",
   "metadata": {},
   "outputs": [],
   "source": [
    "las_vstack_veg = las_vstack[ground_idx[0]]"
   ]
  },
  {
   "cell_type": "code",
   "execution_count": 9,
   "id": "7efaf08c",
   "metadata": {},
   "outputs": [
    {
     "data": {
      "text/plain": [
       "239339"
      ]
     },
     "execution_count": 9,
     "metadata": {},
     "output_type": "execute_result"
    }
   ],
   "source": [
    "len(las_vstack_veg)"
   ]
  },
  {
   "cell_type": "code",
   "execution_count": null,
   "id": "247c9fe4",
   "metadata": {},
   "outputs": [],
   "source": []
  },
  {
   "cell_type": "code",
   "execution_count": 6,
   "id": "596c7dba",
   "metadata": {},
   "outputs": [],
   "source": [
    "%matplotlib qt"
   ]
  },
  {
   "cell_type": "code",
   "execution_count": 38,
   "id": "68d42c66",
   "metadata": {},
   "outputs": [
    {
     "name": "stderr",
     "output_type": "stream",
     "text": [
      "/tmp/ipykernel_140957/591299872.py:2: MatplotlibDeprecationWarning: Axes3D(fig) adding itself to the figure is deprecated since 3.4. Pass the keyword argument auto_add_to_figure=False and use fig.add_axes(ax) to suppress this warning. The default value of auto_add_to_figure will change to False in mpl3.5 and True values will no longer work in 3.6.  This is consistent with other Axes classes.\n",
      "  ax = Axes3D(fig)\n"
     ]
    }
   ],
   "source": [
    "# plot original las data\n",
    "fig = plt.figure()\n",
    "ax = Axes3D(fig)\n",
    "ax.scatter(las_vstack_veg[:,0], las_vstack_veg[:,1], las_vstack_veg[:,2], s=12)\n",
    "ax.view_init(azim=200)\n",
    "plt.show()\n"
   ]
  },
  {
   "cell_type": "code",
   "execution_count": null,
   "id": "04ea5e18",
   "metadata": {},
   "outputs": [],
   "source": [
    " # DBSCAN"
   ]
  },
  {
   "cell_type": "code",
   "execution_count": 23,
   "id": "97c808ec",
   "metadata": {},
   "outputs": [],
   "source": [
    "from sklearn.cluster import DBSCAN\n",
    "model = DBSCAN(eps=20, min_samples=2)\n",
    "model.fit_predict(las_vstack_veg)\n",
    "pred = model.fit_predict(las_vstack_veg)\n",
    "\n"
   ]
  },
  {
   "cell_type": "code",
   "execution_count": 24,
   "id": "2ff15fb2",
   "metadata": {},
   "outputs": [
    {
     "name": "stdout",
     "output_type": "stream",
     "text": [
      "number of cluster found: 1\n"
     ]
    }
   ],
   "source": [
    "# eps of 2.5 (defualt params) min samples 2\n",
    "# number of cluster found: 1027\n",
    "\n",
    "\n",
    "\n",
    "# eps of 20, min samples of 50\n",
    "print(\"number of cluster found: {}\".format(len(set(model.labels_))))\n"
   ]
  },
  {
   "cell_type": "code",
   "execution_count": 47,
   "id": "2f698709",
   "metadata": {},
   "outputs": [
    {
     "name": "stdout",
     "output_type": "stream",
     "text": [
      "number of cluster found: 1027\n"
     ]
    }
   ],
   "source": [
    "\n",
    "print(\"number of cluster found: {}\".format(len(set(model.labels_))))"
   ]
  },
  {
   "cell_type": "code",
   "execution_count": 59,
   "id": "73ad4dd9",
   "metadata": {},
   "outputs": [
    {
     "name": "stderr",
     "output_type": "stream",
     "text": [
      "/tmp/ipykernel_140957/1102482420.py:4: MatplotlibDeprecationWarning: Axes3D(fig) adding itself to the figure is deprecated since 3.4. Pass the keyword argument auto_add_to_figure=False and use fig.add_axes(ax) to suppress this warning. The default value of auto_add_to_figure will change to False in mpl3.5 and True values will no longer work in 3.6.  This is consistent with other Axes classes.\n",
      "  ax = Axes3D(fig)\n"
     ]
    }
   ],
   "source": [
    "import matplotlib.cm as cm\n",
    "\n",
    "fig = plt.figure()\n",
    "ax = Axes3D(fig)\n",
    "ax.scatter(las_vstack_veg[:,0], las_vstack_veg[:,1], las_vstack_veg[:,2],c=model.labels_,\n",
    "           cmap=cm.hsv, s=8)\n",
    "ax.view_init(azim=200)\n",
    "plt.show()"
   ]
  },
  {
   "cell_type": "code",
   "execution_count": 71,
   "id": "6e946903",
   "metadata": {},
   "outputs": [],
   "source": []
  },
  {
   "cell_type": "code",
   "execution_count": 85,
   "id": "489d0605",
   "metadata": {},
   "outputs": [],
   "source": [
    "# "
   ]
  },
  {
   "cell_type": "code",
   "execution_count": null,
   "id": "b014e532",
   "metadata": {},
   "outputs": [],
   "source": [
    "from sklearn.cluster import AgglomerativeClustering\n",
    "model = AgglomerativeClustering(n_clusters=None, compute_full_tree = True,\n",
    "                                distance_threshold=10, linkage=\"ward\")\n",
    "# model.fit_predict(las_vstack_veg)\n",
    "pred = model.fit_predict(las_vstack_veg)"
   ]
  },
  {
   "cell_type": "code",
   "execution_count": null,
   "id": "4773e442",
   "metadata": {},
   "outputs": [],
   "source": [
    "print(\"number of cluster found: {}\".format(len(set(model.labels_))))"
   ]
  },
  {
   "cell_type": "code",
   "execution_count": null,
   "id": "50ccde95",
   "metadata": {},
   "outputs": [],
   "source": []
  },
  {
   "cell_type": "code",
   "execution_count": null,
   "id": "2dd05792",
   "metadata": {},
   "outputs": [],
   "source": []
  },
  {
   "cell_type": "code",
   "execution_count": null,
   "id": "ddc59d0b",
   "metadata": {},
   "outputs": [],
   "source": []
  },
  {
   "cell_type": "code",
   "execution_count": null,
   "id": "fb9459e0",
   "metadata": {},
   "outputs": [],
   "source": []
  },
  {
   "cell_type": "code",
   "execution_count": null,
   "id": "8f84e390",
   "metadata": {},
   "outputs": [],
   "source": []
  },
  {
   "cell_type": "code",
   "execution_count": null,
   "id": "36f03b1a",
   "metadata": {},
   "outputs": [],
   "source": []
  },
  {
   "cell_type": "code",
   "execution_count": null,
   "id": "6ebfa6b3",
   "metadata": {},
   "outputs": [],
   "source": [
    "## CREATING AND SAVING LAS DATA"
   ]
  },
  {
   "cell_type": "code",
   "execution_count": null,
   "id": "b870104e",
   "metadata": {},
   "outputs": [],
   "source": [
    "# save segmented data to las file\n",
    "# 1. Create a new header\n",
    "header = laspy.LasHeader(point_format=3, version=\"1.3\")\n",
    "header.add_extra_dim(laspy.ExtraBytesParams(name=\"segs\", type=np.int32))\n",
    "header.offsets = np.min(las_vstack_veg, axis=0)\n",
    "header.scales = np.array([0.01, 0.01, 0.01])\n",
    "\n",
    "# 2. Create a Las\n",
    "seg_las = laspy.LasData(header)\n",
    "\n",
    "seg_las.x = las_vstack_veg[:, 0]\n",
    "seg_las.y = las_vstack_veg[:, 1]\n",
    "seg_las.z = las_vstack_veg[:, 2]\n",
    "seg_las.classification = np.array(las.classification)[ground_idx]\n",
    "seg_las.user_data = model.labels_\n",
    "seg_las.write(\"treeseg_teak.las\")"
   ]
  },
  {
   "cell_type": "code",
   "execution_count": null,
   "id": "316dbb82",
   "metadata": {},
   "outputs": [],
   "source": []
  },
  {
   "cell_type": "code",
   "execution_count": null,
   "id": "3024ea22",
   "metadata": {},
   "outputs": [],
   "source": []
  }
 ],
 "metadata": {
  "kernelspec": {
   "display_name": "osgeo-env-v1",
   "language": "python",
   "name": "osgeo-env-v1"
  },
  "language_info": {
   "codemirror_mode": {
    "name": "ipython",
    "version": 3
   },
   "file_extension": ".py",
   "mimetype": "text/x-python",
   "name": "python",
   "nbconvert_exporter": "python",
   "pygments_lexer": "ipython3",
   "version": "3.9.7"
  }
 },
 "nbformat": 4,
 "nbformat_minor": 5
}
