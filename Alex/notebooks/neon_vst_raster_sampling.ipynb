{
 "cells": [
  {
   "cell_type": "code",
   "execution_count": 1,
   "id": "0da1c999",
   "metadata": {},
   "outputs": [],
   "source": [
    "import geopandas as gpd\n",
    "import pandas as pd\n",
    "import numpy as np\n",
    "from pyproj import CRS, Transformer\n",
    "import re\n",
    "import rioxarray as rioxr\n",
    "import xarray as xr\n",
    "import glob\n",
    "import os\n",
    "import matplotlib.pyplot as plt\n",
    "import seaborn as sns\n",
    "# Seaborn aesthetics\n",
    "sns.set_context(\"notebook\")\n",
    "sns.set_theme(style=\"whitegrid\", font_scale=1.4,\n",
    "              rc={'grid.color': '#ededed'})"
   ]
  },
  {
   "cell_type": "code",
   "execution_count": 3,
   "id": "7fcfa8ab",
   "metadata": {},
   "outputs": [
    {
     "name": "stderr",
     "output_type": "stream",
     "text": [
      "/tmp/ipykernel_1033000/824774827.py:2: DtypeWarning: Columns (14,27,28,33,38) have mixed types. Specify dtype option on import or set low_memory=False.\n",
      "  appidv_all = pd.read_csv(\"../data/output/NEON_VEGSTRUCTURE_FIRSTMSMTS.csv\")\n"
     ]
    }
   ],
   "source": [
    "# Get tree data\n",
    "appidv_all = pd.read_csv(\"../data/output/NEON_VEGSTRUCTURE_FIRSTMSMTS.csv\")\n",
    "# Use only live trees\n",
    "appidv_all = appidv_all[~appidv_all['plantStatus'].str.contains(\"dead\")].reset_index(drop=True)\n",
    "\n",
    "# Get average crownd diameter\n",
    "appidv_all[\"avgCrownDiameter\"] = (appidv_all[\"maxCrownDiameter\"] + appidv_all[\"ninetyCrownDiameter\"])/2\n",
    "# Get vertical crown diameter\n",
    "appidv_all[\"verticalDiameter\"] = appidv_all[\"height\"] - appidv_all[\"baseCrownHeight\"]\n",
    "# calculate crown volume \n",
    "hrad = appidv_all[\"avgCrownDiameter\"]/2\n",
    "vrad = appidv_all[\"verticalDiameter\"]/2\n",
    "# appidv_all['crown_vol'] =(4/3) * np.pi * (hrad**2) * (vrad)\n",
    "appidv_all['crown_vol'] =(4/3) * np.pi * (hrad**2) * ((1/4)*appidv_all[\"height\"])"
   ]
  },
  {
   "cell_type": "code",
   "execution_count": null,
   "id": "1a392578",
   "metadata": {},
   "outputs": [],
   "source": []
  },
  {
   "cell_type": "code",
   "execution_count": null,
   "id": "6aa9bb5a",
   "metadata": {},
   "outputs": [],
   "source": []
  },
  {
   "cell_type": "code",
   "execution_count": 4,
   "id": "2362c0b3",
   "metadata": {},
   "outputs": [],
   "source": [
    "# Filter out small veg\n",
    "# appidv_all_filt = appidv_all.loc[appidv_all['stemDiameter']>5].copy()\n",
    "# appidv_all_filt = appidv_all_filt.loc[appidv_all_filt['height']>2].copy()\n",
    "# appidv_all_copy_filt = appidv_all_copy_filt.loc[appidv_all_copy_filt['maxCrownDiameter']>1].copy()"
   ]
  },
  {
   "cell_type": "code",
   "execution_count": 5,
   "id": "a8b4823e",
   "metadata": {},
   "outputs": [],
   "source": [
    "## Clean data\n",
    "# remember to divide by 100 for stemDiameter in meters!\n",
    "appidv_all['stemDiameter_m'] = appidv_all['stemDiameter']/100\n",
    "appidv_all['crownRadius'] = appidv_all['avgCrownDiameter']/2\n",
    "appidv_all['verticalCrownRadius'] = appidv_all['verticalDiameter']/2\n",
    "\n",
    "# Remove data with errors (large DBH, height, etc.)\n",
    "treeid_list = ['NEON.PLA.D01.BART.05414', 'NEON.PLA.D01.HARV.05718',\n",
    "               'NEON.PLA.D01.HARV.05764', 'NEON.PLA.D03.JERC.00993',\n",
    "               'NEON.PLA.D08.TALL.01932', 'NEON.PLA.D05.TREE.00161',\n",
    "               'NEON.PLA.D17.SOAP.05687', 'NEON.PLA.D12.YELL.01123']\n",
    "appidv_all_clean = appidv_all[~appidv_all['individualID'].isin(treeid_list)].copy().reset_index(drop=True)\n",
    "\n",
    "# filter for only trees\n",
    "growthForm_list = ['single bole tree', 'multi-bole tree', 'small tree'] # 'small tree'\n",
    "# growthForm_list = ['small tree']\n",
    "appidv_all_clean = appidv_all_clean[appidv_all_clean['growthForm'].isin(growthForm_list)].copy()\n",
    "appidv_all_clean = appidv_all_clean[appidv_all_clean['plantStatus']==\"Live\"].copy().reset_index(drop=True)"
   ]
  },
  {
   "cell_type": "code",
   "execution_count": 6,
   "id": "5ec08396",
   "metadata": {},
   "outputs": [
    {
     "data": {
      "text/plain": [
       "(104396, 51)"
      ]
     },
     "execution_count": 6,
     "metadata": {},
     "output_type": "execute_result"
    }
   ],
   "source": [
    "appidv_all_clean.shape"
   ]
  },
  {
   "cell_type": "code",
   "execution_count": 7,
   "id": "eb85beda",
   "metadata": {},
   "outputs": [],
   "source": [
    "## Lets get lat lon for each tree\n",
    "\n",
    "# read in metadata for utm zone\n",
    "neon_meta = pd.read_csv(\"../data/NEON_Field_Site_Metadata_20230309.csv\")\n",
    "# get utm zone (option 1 - faster way)\n",
    "# utm_num = re.findall('\\d+', \"UTM18N\")[0]\n",
    "neon_meta['utm_num'] =  [re.findall('\\d+', str(x))[0] for x in neon_meta['field_utm_zone']]\n",
    "\n",
    "# Loop through each site, reproject from utmzone to latlon\n",
    "df_list = []\n",
    "for name,group in appidv_all_clean.groupby(\"siteID\"):\n",
    "    \n",
    "    # Get EPSG code for UTM zone\n",
    "    utm_num = neon_meta.loc[neon_meta[\"field_domain_id\"]==group['domainID'].values[0]][\"utm_num\"].values[0]\n",
    "    crs = CRS.from_string(f\"+proj=utm +zone={utm_num} +north +ellps=WGS84 +datum=WGS84 +units=m +no_defs\")\n",
    "    \n",
    "    # Get easting and northing\n",
    "    x = group['easting'].values\n",
    "    y = group['northing'].values\n",
    "    \n",
    "    from_crs = CRS.from_proj4(f\"+proj=utm +zone={utm_num} +north +ellps=WGS84 +datum=WGS84 +units=m +no_defs\")\n",
    "    to_crs = CRS.from_epsg(4326)\n",
    "\n",
    "    proj = Transformer.from_crs(from_crs, to_crs, always_xy=True)\n",
    "    coordinates = proj.transform(x, y)\n",
    "    group[\"lon\"] = coordinates[0]\n",
    "    group[\"lat\"] = coordinates[1]\n",
    "    df_list.append(group)\n",
    "\n",
    "# Combine and replace inf with nan\n",
    "appidv_all_latlon = pd.concat(df_list)\n",
    "appidv_all_latlon.loc[~np.isfinite(appidv_all_latlon[\"lon\"].values), \"lon\"]=np.nan\n",
    "appidv_all_latlon.loc[~np.isfinite(appidv_all_latlon[\"lat\"].values), \"lat\"]=np.nan"
   ]
  },
  {
   "cell_type": "code",
   "execution_count": 8,
   "id": "febee4f2",
   "metadata": {},
   "outputs": [
    {
     "name": "stdout",
     "output_type": "stream",
     "text": [
      "(104396, 51)\n",
      "(104396, 53)\n",
      "Index(['uid', 'namedLocation', 'date', 'eventID', 'domainID', 'siteID',\n",
      "       'plotID', 'individualID', 'tempStemID', 'tagStatus', 'growthForm',\n",
      "       'plantStatus', 'stemDiameter', 'measurementHeight',\n",
      "       'changedMeasurementLocation', 'height', 'baseCrownHeight',\n",
      "       'breakHeight', 'breakDiameter', 'maxCrownDiameter',\n",
      "       'ninetyCrownDiameter', 'canopyPosition', 'shape', 'basalStemDiameter',\n",
      "       'basalStemDiameterMsrmntHeight', 'maxBaseCrownDiameter',\n",
      "       'ninetyBaseCrownDiameter', 'dendrometerInstallationDate',\n",
      "       'initialGapMeasurementDate', 'initialBandStemDiameter',\n",
      "       'initialDendrometerGap', 'dendrometerHeight', 'dendrometerGap',\n",
      "       'dendrometerCondition', 'bandStemDiameter', 'remarks', 'recordedBy',\n",
      "       'measuredBy', 'dataEntryRecordID', 'dataQF', 'subplotID', 'taxonID',\n",
      "       'scientificName', 'easting', 'northing', 'avgCrownDiameter',\n",
      "       'verticalDiameter', 'crown_vol', 'stemDiameter_m', 'crownRadius',\n",
      "       'verticalCrownRadius', 'lon', 'lat'],\n",
      "      dtype='object')\n"
     ]
    }
   ],
   "source": [
    "print(appidv_all_clean.shape)\n",
    "print(appidv_all_latlon.shape)\n",
    "print(appidv_all_latlon.columns)"
   ]
  },
  {
   "cell_type": "code",
   "execution_count": 8,
   "id": "eaa0bcfd",
   "metadata": {},
   "outputs": [],
   "source": [
    "####################\n",
    "## SAMPLE RASTERS"
   ]
  },
  {
   "cell_type": "code",
   "execution_count": null,
   "id": "e0b3e3c2",
   "metadata": {},
   "outputs": [],
   "source": []
  },
  {
   "cell_type": "code",
   "execution_count": null,
   "id": "253a140d",
   "metadata": {},
   "outputs": [],
   "source": []
  },
  {
   "cell_type": "code",
   "execution_count": 9,
   "id": "a625741b",
   "metadata": {
    "scrolled": true
   },
   "outputs": [],
   "source": [
    "## Worldclim sampling\n",
    "# Lets loop through all files\n",
    "raster_input_dir = \"/data/shared/src/arojas/NEON/data/raster/worldclim\"\n",
    "# raster_input_vars = next(os.walk(raster_input_dir))[1]\n",
    "site_id_list = appidv_all_latlon['siteID'].unique()\n",
    "\n",
    "for site_id in site_id_list:\n",
    "#     if site_id != \"BART\":\n",
    "#         continue\n",
    "    # Get indices for veg point locations\n",
    "    df_filt = appidv_all_latlon.loc[appidv_all_latlon['siteID']==site_id].copy()\n",
    "    df_indices = df_filt.index\n",
    "    \n",
    "    x_indexer = xr.DataArray(df_filt[\"lon\"].values, dims=[\"point\"])\n",
    "    y_indexer = xr.DataArray(df_filt[\"lat\"].values, dims=[\"point\"])\n",
    "    # Get input rastrs\n",
    "    site_indir = os.path.join(raster_input_dir, site_id)\n",
    "    # print(site_indir)\n",
    "    raster_fpaths = glob.glob(os.path.join(site_indir,\"*.tif\"))\n",
    "    for raster_fp in raster_fpaths:\n",
    "        # get varname for adding to df\n",
    "        var_name = os.path.basename(raster_fp)[15:-4]\n",
    "        # Read input raster\n",
    "        rarr = rioxr.open_rasterio(raster_fp,mask_and_scale=True)\n",
    "        # Sample raster (returns 2d array (1,n_samples) )\n",
    "        sampled_raster_vals = rarr.sel(x=x_indexer, y=y_indexer, method=\"nearest\")[0]\n",
    "        appidv_all_latlon.loc[df_indices,var_name] = sampled_raster_vals.values\n",
    "        \n",
    "        \n",
    "    "
   ]
  },
  {
   "cell_type": "code",
   "execution_count": 10,
   "id": "3086c348",
   "metadata": {},
   "outputs": [
    {
     "data": {
      "text/plain": [
       "Index(['uid', 'namedLocation', 'date', 'eventID', 'domainID', 'siteID',\n",
       "       'plotID', 'individualID', 'tempStemID', 'tagStatus', 'growthForm',\n",
       "       'plantStatus', 'stemDiameter', 'measurementHeight',\n",
       "       'changedMeasurementLocation', 'height', 'baseCrownHeight',\n",
       "       'breakHeight', 'breakDiameter', 'maxCrownDiameter',\n",
       "       'ninetyCrownDiameter', 'canopyPosition', 'shape', 'basalStemDiameter',\n",
       "       'basalStemDiameterMsrmntHeight', 'maxBaseCrownDiameter',\n",
       "       'ninetyBaseCrownDiameter', 'dendrometerInstallationDate',\n",
       "       'initialGapMeasurementDate', 'initialBandStemDiameter',\n",
       "       'initialDendrometerGap', 'dendrometerHeight', 'dendrometerGap',\n",
       "       'dendrometerCondition', 'bandStemDiameter', 'remarks', 'recordedBy',\n",
       "       'measuredBy', 'dataEntryRecordID', 'dataQF', 'subplotID', 'taxonID',\n",
       "       'scientificName', 'easting', 'northing', 'avgCrownDiameter',\n",
       "       'verticalDiameter', 'crown_vol', 'stemDiameter_m', 'crownRadius',\n",
       "       'verticalCrownRadius', 'lon', 'lat', 'srad_avg_yr', 'vapr_avg_yr',\n",
       "       'wind_avg_yr', 'bio_1', 'bio_12', 'bio_15'],\n",
       "      dtype='object')"
      ]
     },
     "execution_count": 10,
     "metadata": {},
     "output_type": "execute_result"
    }
   ],
   "source": [
    "appidv_all_latlon.columns"
   ]
  },
  {
   "cell_type": "code",
   "execution_count": null,
   "id": "8afa94fe",
   "metadata": {},
   "outputs": [],
   "source": []
  },
  {
   "cell_type": "code",
   "execution_count": 12,
   "id": "6d225d66",
   "metadata": {},
   "outputs": [],
   "source": [
    "## PET and AI\n",
    "# Lets loop through all files\n",
    "# raster_input_dir = \"/data/shared/src/arojas/NEON/data/raster/PET\"\n",
    "raster_input_dir = \"/data/shared/src/arojas/NEON/data/raster/AI\"\n",
    "site_id_list = appidv_all_latlon['siteID'].unique()\n",
    "\n",
    "\n",
    "for site_id in site_id_list:\n",
    "\n",
    "    # Get indices for veg point locations\n",
    "    df_filt = appidv_all_latlon.loc[appidv_all_latlon['siteID']==site_id].copy()\n",
    "    df_indices = df_filt.index\n",
    "    \n",
    "    x_indexer = xr.DataArray(df_filt[\"lon\"].values, dims=[\"point\"])\n",
    "    y_indexer = xr.DataArray(df_filt[\"lat\"].values, dims=[\"point\"])\n",
    "    # Get input rastr\n",
    "    raster_fp = glob.glob(os.path.join(raster_input_dir,f\"{site_id}*\"))[0]\n",
    "    var_name = os.path.basename(raster_fp)[5:-4]\n",
    "    # Read input raster\n",
    "    rarr = rioxr.open_rasterio(raster_fp,mask_and_scale=True)\n",
    "    # Sample raster (returns 2d array (1,n_samples) )\n",
    "    sampled_raster_vals = rarr.sel(x=x_indexer, y=y_indexer, method=\"nearest\")[0]\n",
    "    appidv_all_latlon.loc[df_indices,var_name] = sampled_raster_vals.values\n",
    "        \n",
    "        \n",
    "    "
   ]
  },
  {
   "cell_type": "code",
   "execution_count": 13,
   "id": "63919c16",
   "metadata": {},
   "outputs": [
    {
     "data": {
      "text/plain": [
       "Index(['uid', 'namedLocation', 'date', 'eventID', 'domainID', 'siteID',\n",
       "       'plotID', 'individualID', 'tempStemID', 'tagStatus', 'growthForm',\n",
       "       'plantStatus', 'stemDiameter', 'measurementHeight',\n",
       "       'changedMeasurementLocation', 'height', 'baseCrownHeight',\n",
       "       'breakHeight', 'breakDiameter', 'maxCrownDiameter',\n",
       "       'ninetyCrownDiameter', 'canopyPosition', 'shape', 'basalStemDiameter',\n",
       "       'basalStemDiameterMsrmntHeight', 'maxBaseCrownDiameter',\n",
       "       'ninetyBaseCrownDiameter', 'dendrometerInstallationDate',\n",
       "       'initialGapMeasurementDate', 'initialBandStemDiameter',\n",
       "       'initialDendrometerGap', 'dendrometerHeight', 'dendrometerGap',\n",
       "       'dendrometerCondition', 'bandStemDiameter', 'remarks', 'recordedBy',\n",
       "       'measuredBy', 'dataEntryRecordID', 'dataQF', 'subplotID', 'taxonID',\n",
       "       'scientificName', 'easting', 'northing', 'avgCrownDiameter',\n",
       "       'verticalDiameter', 'crown_vol', 'stemDiameter_m', 'crownRadius',\n",
       "       'verticalCrownRadius', 'lon', 'lat', 'srad_avg_yr', 'vapr_avg_yr',\n",
       "       'wind_avg_yr', 'bio_1', 'bio_12', 'bio_15', 'pet_he_yr', 'ai_yr'],\n",
       "      dtype='object')"
      ]
     },
     "execution_count": 13,
     "metadata": {},
     "output_type": "execute_result"
    }
   ],
   "source": [
    "appidv_all_latlon.columns"
   ]
  },
  {
   "cell_type": "code",
   "execution_count": 14,
   "id": "f4a6fc71",
   "metadata": {},
   "outputs": [],
   "source": [
    "#####################\n",
    "#####################"
   ]
  },
  {
   "cell_type": "code",
   "execution_count": 16,
   "id": "388c6e69",
   "metadata": {},
   "outputs": [],
   "source": [
    "## Chave environmental vars (CWD and E)\n",
    "# Lets loop through all files\n",
    "# raster_input_dir = \"/data/shared/src/arojas/NEON/data/raster/chave/E\"\n",
    "raster_input_dir = \"/data/shared/src/arojas/NEON/data/raster/chave/CWD\"\n",
    "site_id_list = appidv_all_latlon['siteID'].unique()\n",
    "\n",
    "\n",
    "for site_id in site_id_list:\n",
    "\n",
    "    # Get indices for veg point locations\n",
    "    df_filt = appidv_all_latlon.loc[appidv_all_latlon['siteID']==site_id].copy()\n",
    "    df_indices = df_filt.index\n",
    "    \n",
    "    x_indexer = xr.DataArray(df_filt[\"lon\"].values, dims=[\"point\"])\n",
    "    y_indexer = xr.DataArray(df_filt[\"lat\"].values, dims=[\"point\"])\n",
    "    # Get input rastr\n",
    "    raster_fp = glob.glob(os.path.join(raster_input_dir,f\"{site_id}*\"))[0]\n",
    "    var_name = os.path.basename(raster_fp)[5:-4]\n",
    "    # Read input raster\n",
    "    rarr = rioxr.open_rasterio(raster_fp,mask_and_scale=True)\n",
    "    # Sample raster (returns 2d array (1,n_samples) )\n",
    "    sampled_raster_vals = rarr.sel(x=x_indexer, y=y_indexer, method=\"nearest\")[0]\n",
    "    appidv_all_latlon.loc[df_indices,var_name] = sampled_raster_vals.values"
   ]
  },
  {
   "cell_type": "code",
   "execution_count": 17,
   "id": "22a6a93d",
   "metadata": {
    "scrolled": true
   },
   "outputs": [
    {
     "data": {
      "text/plain": [
       "Index(['uid', 'namedLocation', 'date', 'eventID', 'domainID', 'siteID',\n",
       "       'plotID', 'individualID', 'tempStemID', 'tagStatus', 'growthForm',\n",
       "       'plantStatus', 'stemDiameter', 'measurementHeight',\n",
       "       'changedMeasurementLocation', 'height', 'baseCrownHeight',\n",
       "       'breakHeight', 'breakDiameter', 'maxCrownDiameter',\n",
       "       'ninetyCrownDiameter', 'canopyPosition', 'shape', 'basalStemDiameter',\n",
       "       'basalStemDiameterMsrmntHeight', 'maxBaseCrownDiameter',\n",
       "       'ninetyBaseCrownDiameter', 'dendrometerInstallationDate',\n",
       "       'initialGapMeasurementDate', 'initialBandStemDiameter',\n",
       "       'initialDendrometerGap', 'dendrometerHeight', 'dendrometerGap',\n",
       "       'dendrometerCondition', 'bandStemDiameter', 'remarks', 'recordedBy',\n",
       "       'measuredBy', 'dataEntryRecordID', 'dataQF', 'subplotID', 'taxonID',\n",
       "       'scientificName', 'easting', 'northing', 'avgCrownDiameter',\n",
       "       'verticalDiameter', 'crown_vol', 'stemDiameter_m', 'crownRadius',\n",
       "       'verticalCrownRadius', 'lon', 'lat', 'srad_avg_yr', 'vapr_avg_yr',\n",
       "       'wind_avg_yr', 'bio_1', 'bio_12', 'bio_15', 'pet_he_yr', 'ai_yr', 'E',\n",
       "       'CWD'],\n",
       "      dtype='object')"
      ]
     },
     "execution_count": 17,
     "metadata": {},
     "output_type": "execute_result"
    }
   ],
   "source": [
    "appidv_all_latlon.columns"
   ]
  },
  {
   "cell_type": "code",
   "execution_count": 18,
   "id": "e69994b4",
   "metadata": {},
   "outputs": [],
   "source": [
    "#####################\n",
    "#####################"
   ]
  },
  {
   "cell_type": "code",
   "execution_count": 19,
   "id": "6a880dd4",
   "metadata": {},
   "outputs": [],
   "source": [
    "## Soilgrids sampling\n",
    "# Lets loop through all files\n",
    "raster_input_dir = \"/data/shared/src/arojas/NEON/data/raster/SOILGRIDS\"\n",
    "# raster_vars = next(os.walk(raster_input_dir))[1]\n",
    "raster_vars = [\"cec\",  \"clay\",  \"phh2o\",  \"sand\",  \"silt\"]\n",
    "site_id_list = appidv_all_latlon['siteID'].unique()\n",
    "\n",
    "for raster_var in raster_vars:\n",
    "    \n",
    "    rastervar_indir = os.path.join(raster_input_dir, raster_var) \n",
    "    \n",
    "    for site_id in site_id_list:\n",
    "    #     if site_id != \"BART\":\n",
    "    #         continue\n",
    "        # Get indices for veg point locations\n",
    "        df_filt = appidv_all_latlon.loc[appidv_all_latlon['siteID']==site_id].copy()\n",
    "        df_indices = df_filt.index\n",
    "        x_indexer = xr.DataArray(df_filt[\"lon\"].values, dims=[\"point\"])\n",
    "        y_indexer = xr.DataArray(df_filt[\"lat\"].values, dims=[\"point\"])\n",
    "        \n",
    "        # Get input rastrs\n",
    "        site_indir = os.path.join(rastervar_indir, site_id)\n",
    "        # print(site_indir)\n",
    "        raster_fpaths = glob.glob(os.path.join(site_indir,\"*.tif\"))\n",
    "        for raster_fp in raster_fpaths:\n",
    "            # get varname for adding to df\n",
    "            var_name = os.path.basename(raster_fp)[:-4]\n",
    "            # Read input raster\n",
    "            rarr = rioxr.open_rasterio(raster_fp,mask_and_scale=True)\n",
    "            # Sample raster (returns 2d array (1,n_samples) )\n",
    "            sampled_raster_vals = rarr.sel(x=x_indexer, y=y_indexer, method=\"nearest\")[0]\n",
    "            appidv_all_latlon.loc[df_indices,var_name] = sampled_raster_vals.values\n",
    "\n",
    "\n"
   ]
  },
  {
   "cell_type": "code",
   "execution_count": 20,
   "id": "88364e7f",
   "metadata": {
    "scrolled": true
   },
   "outputs": [
    {
     "data": {
      "text/plain": [
       "Index(['uid', 'namedLocation', 'date', 'eventID', 'domainID', 'siteID',\n",
       "       'plotID', 'individualID', 'tempStemID', 'tagStatus', 'growthForm',\n",
       "       'plantStatus', 'stemDiameter', 'measurementHeight',\n",
       "       'changedMeasurementLocation', 'height', 'baseCrownHeight',\n",
       "       'breakHeight', 'breakDiameter', 'maxCrownDiameter',\n",
       "       'ninetyCrownDiameter', 'canopyPosition', 'shape', 'basalStemDiameter',\n",
       "       'basalStemDiameterMsrmntHeight', 'maxBaseCrownDiameter',\n",
       "       'ninetyBaseCrownDiameter', 'dendrometerInstallationDate',\n",
       "       'initialGapMeasurementDate', 'initialBandStemDiameter',\n",
       "       'initialDendrometerGap', 'dendrometerHeight', 'dendrometerGap',\n",
       "       'dendrometerCondition', 'bandStemDiameter', 'remarks', 'recordedBy',\n",
       "       'measuredBy', 'dataEntryRecordID', 'dataQF', 'subplotID', 'taxonID',\n",
       "       'scientificName', 'easting', 'northing', 'avgCrownDiameter',\n",
       "       'verticalDiameter', 'crown_vol', 'stemDiameter_m', 'crownRadius',\n",
       "       'verticalCrownRadius', 'lon', 'lat', 'srad_avg_yr', 'vapr_avg_yr',\n",
       "       'wind_avg_yr', 'bio_1', 'bio_12', 'bio_15', 'pet_he_yr', 'ai_yr', 'E',\n",
       "       'CWD', 'cec_0-5cm_mean', 'cec_5-15cm_mean', 'cec_15-30cm_mean',\n",
       "       'cec_30-60cm_mean', 'cec_60-100cm_mean', 'cec_100-200cm_mean',\n",
       "       'clay_0-5cm_mean', 'clay_5-15cm_mean', 'clay_15-30cm_mean',\n",
       "       'clay_30-60cm_mean', 'clay_60-100cm_mean', 'clay_100-200cm_mean',\n",
       "       'phh2o_0-5cm_mean', 'phh2o_5-15cm_mean', 'phh2o_15-30cm_mean',\n",
       "       'phh2o_30-60cm_mean', 'phh2o_60-100cm_mean', 'phh2o_100-200cm_mean',\n",
       "       'sand_0-5cm_mean', 'sand_5-15cm_mean', 'sand_15-30cm_mean',\n",
       "       'sand_30-60cm_mean', 'sand_60-100cm_mean', 'sand_100-200cm_mean',\n",
       "       'silt_0-5cm_mean', 'silt_5-15cm_mean', 'silt_15-30cm_mean',\n",
       "       'silt_30-60cm_mean', 'silt_60-100cm_mean', 'silt_100-200cm_mean'],\n",
       "      dtype='object')"
      ]
     },
     "execution_count": 20,
     "metadata": {},
     "output_type": "execute_result"
    }
   ],
   "source": [
    "appidv_all_latlon.columns"
   ]
  },
  {
   "cell_type": "code",
   "execution_count": 24,
   "id": "84316a54",
   "metadata": {},
   "outputs": [],
   "source": [
    "########\n",
    "## SAVE DF with sampled rasters"
   ]
  },
  {
   "cell_type": "code",
   "execution_count": 22,
   "id": "c50ad8e3",
   "metadata": {},
   "outputs": [],
   "source": [
    "appidv_all_latlon.to_csv(\"../data/output/NEON_VEGSTRUCTURE_FIRSTMSMTS_ENVVARS.csv\",index=False)"
   ]
  },
  {
   "cell_type": "code",
   "execution_count": null,
   "id": "d711b84e",
   "metadata": {},
   "outputs": [],
   "source": []
  },
  {
   "cell_type": "code",
   "execution_count": null,
   "id": "c40d9829",
   "metadata": {},
   "outputs": [],
   "source": []
  },
  {
   "cell_type": "code",
   "execution_count": null,
   "id": "6762cd11",
   "metadata": {},
   "outputs": [],
   "source": []
  },
  {
   "cell_type": "code",
   "execution_count": null,
   "id": "c023411b",
   "metadata": {},
   "outputs": [],
   "source": []
  },
  {
   "cell_type": "code",
   "execution_count": null,
   "id": "35550e1f",
   "metadata": {},
   "outputs": [],
   "source": [
    "########################\n",
    "########################\n",
    "# Get averages for each site\n",
    "########################\n",
    "########################"
   ]
  },
  {
   "cell_type": "code",
   "execution_count": 2,
   "id": "678d5500",
   "metadata": {},
   "outputs": [],
   "source": [
    "# Get averages for each site, then append to NEON metadata file as new vars!\n",
    "neon_meta = pd.read_csv(\"/data/shared/src/arojas/NEON/data/NEON_Field_Site_Metadata_20230309.csv\")"
   ]
  },
  {
   "cell_type": "code",
   "execution_count": 3,
   "id": "bd602822",
   "metadata": {},
   "outputs": [],
   "source": [
    "## Worldclim sampling\n",
    "# Lets loop through all files\n",
    "raster_input_dir = \"/data/shared/src/arojas/NEON/data/raster/worldclim\"\n",
    "# raster_input_vars = next(os.walk(raster_input_dir))[1]\n",
    "site_id_list = neon_meta['field_site_id'].unique()\n",
    "\n",
    "for site_id in site_id_list:\n",
    "#     if site_id != \"BART\":\n",
    "#         continue\n",
    "    # Get index for NEON metadata!\n",
    "    neonmeta_index = neon_meta.loc[neon_meta['field_site_id']==site_id].index\n",
    "    # Get input rastrs\n",
    "    site_indir = os.path.join(raster_input_dir, site_id)\n",
    "    # print(site_indir)\n",
    "    raster_fpaths = glob.glob(os.path.join(site_indir,\"*.tif\"))\n",
    "    for raster_fp in raster_fpaths:\n",
    "        # get varname for adding to df\n",
    "        var_name = os.path.basename(raster_fp)[15:-4]\n",
    "        # Read input raster\n",
    "        rarr = rioxr.open_rasterio(raster_fp,mask_and_scale=True)\n",
    "        # Get average, then add to neon metadata!\n",
    "        neon_meta.loc[neonmeta_index,f\"wc_{var_name}\"] = np.nanmean(rarr)\n",
    "\n",
    "        \n",
    "        \n",
    "    "
   ]
  },
  {
   "cell_type": "code",
   "execution_count": 5,
   "id": "a4c6f13e",
   "metadata": {},
   "outputs": [],
   "source": [
    "## PET and AI\n",
    "# Lets loop through all files\n",
    "# raster_input_dir = \"/data/shared/src/arojas/NEON/data/raster/PET\"\n",
    "raster_input_dir = \"/data/shared/src/arojas/NEON/data/raster/AI\"\n",
    "site_id_list = neon_meta['field_site_id'].unique()\n",
    "\n",
    "\n",
    "for site_id in site_id_list:\n",
    "\n",
    "    # Get index for NEON metadata!\n",
    "    neonmeta_index = neon_meta.loc[neon_meta['field_site_id']==site_id].index\n",
    "    # Get input rastr\n",
    "    raster_fp = glob.glob(os.path.join(raster_input_dir,f\"{site_id}*\"))[0]\n",
    "    var_name = os.path.basename(raster_fp)[5:-4]\n",
    "    # Read input raster and get average!\n",
    "    rarr = rioxr.open_rasterio(raster_fp,mask_and_scale=True)\n",
    "    neon_meta.loc[neonmeta_index,var_name] = np.nanmean(rarr)\n",
    "        \n",
    "        \n",
    "    "
   ]
  },
  {
   "cell_type": "code",
   "execution_count": 7,
   "id": "f865fb89",
   "metadata": {},
   "outputs": [
    {
     "name": "stderr",
     "output_type": "stream",
     "text": [
      "/tmp/ipykernel_1045454/3327251813.py:17: RuntimeWarning: Mean of empty slice\n",
      "  neon_meta.loc[neonmeta_index,var_name] = np.nanmean(rarr)\n"
     ]
    }
   ],
   "source": [
    "## Chave environmental vars (CWD and E)\n",
    "# Lets loop through all files\n",
    "# raster_input_dir = \"/data/shared/src/arojas/NEON/data/raster/chave/E\"\n",
    "raster_input_dir = \"/data/shared/src/arojas/NEON/data/raster/chave/CWD\"\n",
    "site_id_list = neon_meta['field_site_id'].unique()\n",
    "\n",
    "\n",
    "for site_id in site_id_list:\n",
    "\n",
    "    # Get index for NEON metadata!\n",
    "    neonmeta_index = neon_meta.loc[neon_meta['field_site_id']==site_id].index\n",
    "    # Get input rastr\n",
    "    raster_fp = glob.glob(os.path.join(raster_input_dir,f\"{site_id}*\"))[0]\n",
    "    var_name = os.path.basename(raster_fp)[5:-4]\n",
    "    # Read input raster and average!\n",
    "    rarr = rioxr.open_rasterio(raster_fp,mask_and_scale=True)\n",
    "    neon_meta.loc[neonmeta_index,var_name] = np.nanmean(rarr)"
   ]
  },
  {
   "cell_type": "code",
   "execution_count": null,
   "id": "fa13883b",
   "metadata": {},
   "outputs": [],
   "source": []
  },
  {
   "cell_type": "code",
   "execution_count": 8,
   "id": "dfc620a4",
   "metadata": {},
   "outputs": [],
   "source": [
    "## Soilgrids sampling\n",
    "# Lets loop through all files\n",
    "raster_input_dir = \"/data/shared/src/arojas/NEON/data/raster/SOILGRIDS\"\n",
    "raster_vars = [\"cec\",  \"clay\",  \"phh2o\",  \"sand\",  \"silt\"]\n",
    "site_id_list = neon_meta['field_site_id'].unique()\n",
    "\n",
    "for raster_var in raster_vars:\n",
    "    \n",
    "    # get input dir of soil var\n",
    "    rastervar_indir = os.path.join(raster_input_dir, raster_var) \n",
    "    \n",
    "    for site_id in site_id_list:\n",
    "\n",
    "        # Get index for NEON metadata!\n",
    "        neonmeta_index = neon_meta.loc[neon_meta['field_site_id']==site_id].index\n",
    "        \n",
    "        # Get input rasters from site\n",
    "        site_indir = os.path.join(rastervar_indir, site_id)\n",
    "        raster_fpaths = glob.glob(os.path.join(site_indir,\"*.tif\"))\n",
    "        if len(raster_fpaths)==0:\n",
    "            continue\n",
    "        \n",
    "        arr_list=[]\n",
    "        for raster_fp in raster_fpaths:\n",
    "            # get varname for adding to df\n",
    "            var_name = os.path.basename(raster_fp)[:-4]\n",
    "            # Read input raster and append to list!\n",
    "            rarr = rioxr.open_rasterio(raster_fp,mask_and_scale=True)\n",
    "            arr_list.append(rarr.values)\n",
    "            \n",
    "        arr_stack = np.dstack(arr_list)           \n",
    "        # add averaged soil data to\n",
    "        neon_meta.loc[neonmeta_index,f\"sg_{raster_var}_avg\"] = np.nanmean(np.nanmean(arr_stack,axis=2))\n"
   ]
  },
  {
   "cell_type": "code",
   "execution_count": 9,
   "id": "c83889b3",
   "metadata": {},
   "outputs": [
    {
     "data": {
      "text/plain": [
       "Index(['field_domain_id', 'field_site_id', 'field_site_name',\n",
       "       'field_site_type', 'field_site_subtype', 'field_colocated_site',\n",
       "       'field_site_host', 'field_site_url', 'field_nonneon_research_allowed',\n",
       "       'field_access_details', 'field_neon_field_operations_office',\n",
       "       'field_latitude', 'field_longitude', 'field_geodetic_datum',\n",
       "       'field_utm_northing', 'field_utm_easting', 'field_utm_zone',\n",
       "       'field_site_county', 'field_site_state', 'field_site_country',\n",
       "       'field_mean_elevation_m', 'field_minimum_elevation_m',\n",
       "       'field_maximum_elevation_m', 'field_mean_annual_temperature_C',\n",
       "       'field_mean_annual_precipitation_mm', 'field_dominant_wind_direction',\n",
       "       'field_mean_canopy_height_m', 'field_dominant_nlcd_classes',\n",
       "       'field_domint_plant_species', 'field_usgs_huc', 'field_watershed_name',\n",
       "       'field_watershed_size_km2', 'field_lake_depth_mean_m',\n",
       "       'field_lake_depth_max_m', 'field_tower_height_m',\n",
       "       'field_usgs_geology_unit', 'field_megapit_soil_family',\n",
       "       'field_soil_subgroup', 'field_avg_number_of_green_days',\n",
       "       'field_avg_grean_increase_doy', 'field_avg_green_max_doy',\n",
       "       'field_avg_green_decrease_doy', 'field_avg_green_min_doy',\n",
       "       'field_phenocams', 'field_number_tower_levels', 'wc_srad_avg_yr',\n",
       "       'wc_vapr_avg_yr', 'wc_wind_avg_yr', 'wc_bio_1', 'wc_bio_12',\n",
       "       'wc_bio_15', 'pet_he_yr', 'ai_yr', 'E', 'CWD', 'sg_cec_avg',\n",
       "       'sg_clay_avg', 'sg_phh2o_avg', 'sg_sand_avg', 'sg_silt_avg'],\n",
       "      dtype='object')"
      ]
     },
     "execution_count": 9,
     "metadata": {},
     "output_type": "execute_result"
    }
   ],
   "source": [
    "neon_meta.columns"
   ]
  },
  {
   "cell_type": "code",
   "execution_count": 10,
   "id": "1157bb95",
   "metadata": {},
   "outputs": [],
   "source": [
    "# Round columns\n",
    "cols = ['wc_srad_avg_yr',\n",
    "       'wc_vapr_avg_yr', 'wc_wind_avg_yr', 'wc_bio_1', 'wc_bio_12',\n",
    "       'wc_bio_15', 'ai_yr', 'pet_he_yr', 'CWD', 'E', 'sg_cec_avg',\n",
    "       'sg_clay_avg', 'sg_phh2o_avg', 'sg_sand_avg', 'sg_silt_avg']\n",
    "neon_meta[cols] = neon_meta[cols].round(3)"
   ]
  },
  {
   "cell_type": "code",
   "execution_count": 11,
   "id": "844deacd",
   "metadata": {},
   "outputs": [],
   "source": [
    "neon_meta.to_csv(\"/data/shared/src/arojas/NEON/data/NEON_Field_Site_Metadata_20230309_Env_Vars.csv\",index=False)"
   ]
  },
  {
   "cell_type": "code",
   "execution_count": null,
   "id": "380cf2a6",
   "metadata": {},
   "outputs": [],
   "source": []
  },
  {
   "cell_type": "code",
   "execution_count": null,
   "id": "974a1791",
   "metadata": {},
   "outputs": [],
   "source": []
  },
  {
   "cell_type": "code",
   "execution_count": null,
   "id": "da11eb32",
   "metadata": {},
   "outputs": [],
   "source": []
  }
 ],
 "metadata": {
  "kernelspec": {
   "display_name": "osgeo-env-v1",
   "language": "python",
   "name": "osgeo-env-v1"
  },
  "language_info": {
   "codemirror_mode": {
    "name": "ipython",
    "version": 3
   },
   "file_extension": ".py",
   "mimetype": "text/x-python",
   "name": "python",
   "nbconvert_exporter": "python",
   "pygments_lexer": "ipython3",
   "version": "3.11.0"
  }
 },
 "nbformat": 4,
 "nbformat_minor": 5
}
