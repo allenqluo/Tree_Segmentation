{
 "cells": [
  {
   "cell_type": "code",
   "execution_count": 1,
   "id": "95f06320",
   "metadata": {},
   "outputs": [],
   "source": [
    "import geopandas as gpd\n",
    "import pandas as pd\n",
    "import numpy as np\n",
    "from pyproj import CRS, Transformer\n",
    "import re\n",
    "import xarray as xr\n",
    "\n",
    "import matplotlib.patheffects as pe\n",
    "import os\n",
    "import matplotlib.pyplot as plt\n",
    "import seaborn as sns\n",
    "# Seaborn aesthetics\n",
    "sns.set_context(\"notebook\")\n",
    "sns.set_theme(style=\"whitegrid\", font_scale=1.4,\n",
    "              rc={'grid.color': '#ededed'})"
   ]
  },
  {
   "cell_type": "code",
   "execution_count": 2,
   "id": "42e73f44",
   "metadata": {},
   "outputs": [],
   "source": [
    "# Read the curated tree data\n",
    "neon_vst = pd.read_csv(\"../../data/output/NEON_VST_TREES_2020to2023.csv\")\n"
   ]
  },
  {
   "cell_type": "code",
   "execution_count": null,
   "id": "d0d5fa2a",
   "metadata": {},
   "outputs": [],
   "source": []
  },
  {
   "cell_type": "code",
   "execution_count": 3,
   "id": "6be9b9af",
   "metadata": {},
   "outputs": [],
   "source": [
    "## Clean data\n",
    "# Use only live trees\n",
    "neon_vst_filt = neon_vst[neon_vst['plantStatus'].str.contains(\"Live\", na=False)].reset_index(drop=True)\n",
    "neon_vst_filt = neon_vst_filt[~neon_vst_filt['plantStatus'].str.contains(\"damage|broken\", na=False)].reset_index(drop=True)\n",
    "# Get average crown diameter\n",
    "neon_vst_filt[\"avgCrownDiameter\"] = (neon_vst_filt[\"maxCrownDiameter\"] + neon_vst_filt[\"ninetyCrownDiameter\"])/2\n",
    "neon_vst_filt['crownRadius'] = neon_vst_filt['avgCrownDiameter']/2\n",
    "# Get vertical crown diameter\n",
    "neon_vst_filt[\"verticalDiameter\"] = neon_vst_filt[\"height\"] - neon_vst_filt[\"baseCrownHeight\"]\n",
    "neon_vst_filt['verticalCrownRadius'] = neon_vst_filt['verticalDiameter']/2\n",
    "# calculate crown volume \n",
    "hrad = neon_vst_filt[\"avgCrownDiameter\"]/2\n",
    "vrad = neon_vst_filt[\"verticalDiameter\"]/2\n",
    "# appidv_all['crown_vol'] =(4/3) * np.pi * (hrad**2) * (vrad)\n",
    "neon_vst_filt['crown_vol'] =(4/3) * np.pi * (hrad**2) * ((1/4)*neon_vst_filt[\"height\"])\n",
    "\n",
    "# Remove data with errors (large DBH, height, etc.)\n",
    "outlier_trees = ['NEON.PLA.D17.SOAP.05687']\n",
    "neon_vst_filt = neon_vst_filt[~neon_vst_filt['individualID'].isin(outlier_trees)].copy().reset_index(drop=True)\n",
    "\n"
   ]
  },
  {
   "cell_type": "code",
   "execution_count": null,
   "id": "11d53226",
   "metadata": {},
   "outputs": [],
   "source": []
  },
  {
   "cell_type": "code",
   "execution_count": 4,
   "id": "a0277b9d",
   "metadata": {},
   "outputs": [],
   "source": [
    "## Lets get lat lon for each tree\n",
    "\n",
    "# read in metadata for utm zone\n",
    "neon_meta = pd.read_csv(\"/data/shared/src/arojas/NEON/data/NEON_Field_Site_Metadata_20230309.csv\")\n",
    "# get utm zone (option 1 - faster way)\n",
    "# utm_num = re.findall('\\d+', \"UTM18N\")[0]\n",
    "neon_meta['utm_num'] =  [re.findall('\\d+', str(x))[0] for x in neon_meta['field_utm_zone']]\n",
    "\n",
    "# Loop through each site, reproject from utmzone to latlon\n",
    "df_list = []\n",
    "for name,group in neon_vst_filt.groupby(\"siteID\"):\n",
    "    \n",
    "    # Get EPSG code for UTM zone\n",
    "    utm_num = neon_meta.loc[neon_meta[\"field_domain_id\"]==group['domainID'].values[0]][\"utm_num\"].values[0]\n",
    "    crs = CRS.from_string(f\"+proj=utm +zone={utm_num} +north +ellps=WGS84 +datum=WGS84 +units=m +no_defs\")\n",
    "    \n",
    "    # Get easting and northing\n",
    "    x = group['easting'].values\n",
    "    y = group['northing'].values\n",
    "    \n",
    "    from_crs = CRS.from_proj4(f\"+proj=utm +zone={utm_num} +north +ellps=WGS84 +datum=WGS84 +units=m +no_defs\")\n",
    "    to_crs = CRS.from_epsg(4326)\n",
    "\n",
    "    proj = Transformer.from_crs(from_crs, to_crs, always_xy=True)\n",
    "    coordinates = proj.transform(x, y)\n",
    "    group[\"lon\"] = coordinates[0]\n",
    "    group[\"lat\"] = coordinates[1]\n",
    "    df_list.append(group)\n",
    "\n",
    "# Combine and replace inf with nan\n",
    "neon_vst_filt_latlon = pd.concat(df_list)\n",
    "neon_vst_filt_latlon.loc[~np.isfinite(neon_vst_filt_latlon[\"lon\"].values), \"lon\"]=np.nan\n",
    "neon_vst_filt_latlon.loc[~np.isfinite(neon_vst_filt_latlon[\"lat\"].values), \"lat\"]=np.nan"
   ]
  },
  {
   "cell_type": "code",
   "execution_count": 5,
   "id": "6dc03d71",
   "metadata": {},
   "outputs": [
    {
     "data": {
      "text/plain": [
       "Index(['uid', 'namedLocation', 'date', 'eventID', 'domainID', 'siteID',\n",
       "       'plotID', 'individualID', 'tempStemID', 'tagStatus', 'growthForm',\n",
       "       'plantStatus', 'stemDiameter', 'measurementHeight',\n",
       "       'changedMeasurementLocation', 'height', 'baseCrownHeight',\n",
       "       'breakHeight', 'breakDiameter', 'maxCrownDiameter',\n",
       "       'ninetyCrownDiameter', 'canopyPosition', 'shape', 'basalStemDiameter',\n",
       "       'basalStemDiameterMsrmntHeight', 'maxBaseCrownDiameter',\n",
       "       'ninetyBaseCrownDiameter', 'dendrometerInstallationDate',\n",
       "       'initialGapMeasurementDate', 'initialBandStemDiameter',\n",
       "       'initialDendrometerGap', 'dendrometerHeight', 'dendrometerGap',\n",
       "       'dendrometerCondition', 'bandStemDiameter', 'remarks', 'recordedBy',\n",
       "       'measuredBy', 'dataEntryRecordID', 'dataQF', 'subplotID', 'taxonID',\n",
       "       'scientificName', 'easting', 'northing', 'avgCrownDiameter',\n",
       "       'crownRadius', 'verticalDiameter', 'verticalCrownRadius', 'crown_vol',\n",
       "       'lon', 'lat'],\n",
       "      dtype='object')"
      ]
     },
     "execution_count": 5,
     "metadata": {},
     "output_type": "execute_result"
    }
   ],
   "source": [
    "neon_vst_filt_latlon.columns"
   ]
  },
  {
   "cell_type": "code",
   "execution_count": 6,
   "id": "3c5e0006",
   "metadata": {},
   "outputs": [
    {
     "name": "stdout",
     "output_type": "stream",
     "text": [
      "(85817, 50)\n",
      "(85817, 52)\n"
     ]
    }
   ],
   "source": [
    "print(neon_vst_filt.shape)\n",
    "print(neon_vst_filt_latlon.shape)"
   ]
  },
  {
   "cell_type": "code",
   "execution_count": 7,
   "id": "1df58eda",
   "metadata": {},
   "outputs": [],
   "source": [
    "# Lets run the point extrction\n"
   ]
  },
  {
   "cell_type": "code",
   "execution_count": null,
   "id": "1b7cebcf",
   "metadata": {},
   "outputs": [],
   "source": []
  },
  {
   "cell_type": "code",
   "execution_count": 8,
   "id": "c5197671",
   "metadata": {},
   "outputs": [],
   "source": [
    "import rioxarray as rioxr"
   ]
  },
  {
   "cell_type": "code",
   "execution_count": 9,
   "id": "e0b4eb9d",
   "metadata": {},
   "outputs": [],
   "source": [
    "fp = \"../../data/raw/raster/AI_NA_clipped.tif\"\n",
    "rarr = rioxr.open_rasterio(fp,mask_and_scale=True)\n"
   ]
  },
  {
   "cell_type": "code",
   "execution_count": 10,
   "id": "b620fd3c",
   "metadata": {},
   "outputs": [],
   "source": [
    "import xarray as xr\n",
    "# Sample the rasters at the point locations\n",
    "x_indexer = xr.DataArray(neon_vst_filt_latlon[\"lon\"].values, dims=[\"point\"])\n",
    "y_indexer = xr.DataArray(neon_vst_filt_latlon[\"lat\"].values, dims=[\"point\"])"
   ]
  },
  {
   "cell_type": "code",
   "execution_count": null,
   "id": "57f38efa",
   "metadata": {},
   "outputs": [],
   "source": []
  },
  {
   "cell_type": "code",
   "execution_count": 11,
   "id": "00a41c0d",
   "metadata": {},
   "outputs": [],
   "source": [
    "# rarr.x"
   ]
  },
  {
   "cell_type": "code",
   "execution_count": 12,
   "id": "c8924387",
   "metadata": {},
   "outputs": [],
   "source": [
    "# Sample Aridity raster, then check if shapes match\n",
    "sampled_raster_vals = rarr.sel(x=x_indexer, y=y_indexer, method=\"nearest\")"
   ]
  },
  {
   "cell_type": "code",
   "execution_count": 13,
   "id": "bb5e1e91",
   "metadata": {},
   "outputs": [
    {
     "name": "stdout",
     "output_type": "stream",
     "text": [
      "(85817,)\n",
      "(85817,)\n"
     ]
    }
   ],
   "source": [
    "print(sampled_raster_vals.values[0].shape)\n",
    "print(x_indexer.shape)"
   ]
  },
  {
   "cell_type": "code",
   "execution_count": 14,
   "id": "9fd43132",
   "metadata": {},
   "outputs": [],
   "source": [
    "# add sampled values to the dataframe\n",
    "neon_vst_filt_latlon['AI'] = sampled_raster_vals.values[0]/10000"
   ]
  },
  {
   "cell_type": "code",
   "execution_count": null,
   "id": "a9498eca",
   "metadata": {},
   "outputs": [],
   "source": []
  },
  {
   "cell_type": "code",
   "execution_count": 15,
   "id": "ed21229e",
   "metadata": {},
   "outputs": [],
   "source": [
    "# Colro dict!\n",
    "color_dict = {\"D01\":'#1f77b4',\n",
    "              \"D02\": '#aec7e8',\n",
    "              \"D03\":'#ff7f0e',\n",
    "              \"D04\": '#ffbb78',\n",
    "              \"D05\":'#2ca02c',\n",
    "              \"D06\": '#98df8a',\n",
    "              \"D07\":'#d62728',\n",
    "              \"D08\": '#ff9896',\n",
    "              \"D09\":'#9467bd',\n",
    "              \"D10\": '#c5b0d5',\n",
    "              \"D11\":'#8c564b',\n",
    "              \"D12\": '#c49c94',\n",
    "              \"D13\":'#e377c2',\n",
    "              \"D14\": '#f7b6d2',\n",
    "              \"D15\":'#7f7f7f',\n",
    "              \"D16\": '#c7c7c7',\n",
    "              \"D17\":'#bcbd22',\n",
    "              \"D18\": '#dbdb8d',\n",
    "              \"D19\": '#17becf',\n",
    "              \"D20\": '#9edae5'\n",
    "             }\n"
   ]
  },
  {
   "cell_type": "code",
   "execution_count": 16,
   "id": "c5aec8be",
   "metadata": {},
   "outputs": [],
   "source": [
    "# get colors for plotting\n",
    "# from matplotlib.cm import get_cmap\n",
    "# from matplotlib.colors import Normalize, rgb2hex\n",
    "\n",
    "# cmap = get_cmap('tab20', 20)\n",
    "# cmap_list = []\n",
    "# for i in range(cmap.N):\n",
    "#     rgba=cmap(i)\n",
    "#     cmap_list.append(rgb2hex(rgba))\n",
    "\n",
    "# print(cmap_list)"
   ]
  },
  {
   "cell_type": "code",
   "execution_count": 17,
   "id": "0062902c",
   "metadata": {},
   "outputs": [
    {
     "data": {
      "image/png": "[encoded data removed]",
      "text/plain": [
       "<Figure size 1000x800 with 4 Axes>"
      ]
     },
     "metadata": {},
     "output_type": "display_data"
    }
   ],
   "source": [
    "# Lets rerun some analysis using (copy figure 2 from Tallo paper)\n",
    "# Get HSE for:\n",
    "# H ~ D\n",
    "# CR ~ D\n",
    "# CR ~ H\n",
    "# VC ~ H\n",
    "import statsmodels.api as sm\n",
    "from sklearn.linear_model import LinearRegression\n",
    "from matplotlib.ticker import MaxNLocator\n",
    "\n",
    "outdir = \"2020to2023\"\n",
    "\n",
    "# Init plot\n",
    "fig,axs = plt.subplots(2,2,figsize=(10,8),sharex=True)\n",
    "ax = axs.flatten()\n",
    "color_idx = 0\n",
    "\n",
    "\n",
    "# for each domain, get regression then plot\n",
    "for domain, dgroup in neon_vst_filt_latlon.groupby(\"domainID\"):\n",
    "    if np.isin(domain, [\"D09\", \"D14\"]):\n",
    "        continue\n",
    "    \n",
    "    # Get average AI\n",
    "    ai_avg = dgroup['AI'].mean()\n",
    "    \n",
    "    ## H ~ D\n",
    "    # Get x,y, then perform regression\n",
    "    x = np.log(dgroup['stemDiameter'].values)\n",
    "    y = np.log(dgroup['height'].values)\n",
    "    filt_bool = (np.isfinite(x) & np.isfinite(y))\n",
    "    x = x[filt_bool]\n",
    "    y = y[filt_bool]\n",
    "    \n",
    "    # Run simple OLS regression and get confidence intervals\n",
    "    alpha = 0.05 # 95% confidence interval\n",
    "    lr = sm.OLS(y, sm.add_constant(x,prepend=False)).fit()\n",
    "    conf_interval = lr.conf_int(alpha)\n",
    "    \n",
    "    # Plot\n",
    "    ax[0].errorbar(ai_avg, lr.params[0], yerr=conf_interval[0][1]-lr.params[0],fmt=\".\",\n",
    "                   label=domain,color=color_dict[domain])\n",
    "#     ax[0].scatter(ai_avg, lr.params[0], cmap=\"tab20\")\n",
    "    ax[0].xaxis.set_major_locator(MaxNLocator(nbins=10))\n",
    "    ax[0].yaxis.set_major_locator(MaxNLocator(nbins=4))\n",
    "    \n",
    "       \n",
    "    ## Vc ~ H\n",
    "    # Get x,y, then perform regression\n",
    "    x = np.log(dgroup['height'].values)\n",
    "    y = np.log(dgroup['crown_vol'].values)\n",
    "    filt_bool = (np.isfinite(x) & np.isfinite(y))\n",
    "    x = x[filt_bool]\n",
    "    y = y[filt_bool]\n",
    "    \n",
    "    try:\n",
    "        # Run simple OLS regression and get confidence intervals\n",
    "        alpha = 0.05 # 95% confidence interval\n",
    "        lr = sm.OLS(y, sm.add_constant(x,prepend=False)).fit()\n",
    "        conf_interval = lr.conf_int(alpha)\n",
    "\n",
    "        # Plot\n",
    "        ax[1].errorbar(ai_avg, lr.params[0], yerr=conf_interval[0][1]-lr.params[0],fmt=\".\",\n",
    "                       label=domain,color=color_dict[domain])\n",
    "        ax[1].yaxis.set_major_locator(MaxNLocator(nbins=4))\n",
    "        \n",
    "    except:\n",
    "        print(f\"Not enough crown_vol data for regression at domain: {domain}\")\n",
    "    \n",
    "    \n",
    "    ## CR ~ D\n",
    "    # Get x,y, then perform regression\n",
    "    x = np.log(dgroup['stemDiameter'].values)\n",
    "    y = np.log(dgroup['crownRadius'].values)\n",
    "    filt_bool = (np.isfinite(x) & np.isfinite(y))\n",
    "    x = x[filt_bool]\n",
    "    y = y[filt_bool]\n",
    "    \n",
    "    try:\n",
    "        # Run simple OLS regression and get confidence intervals\n",
    "        alpha = 0.05 # 95% confidence interval\n",
    "        lr = sm.OLS(y, sm.add_constant(x,prepend=False)).fit()\n",
    "        conf_interval = lr.conf_int(alpha)\n",
    "        # Plot\n",
    "        ax[2].errorbar(ai_avg, lr.params[0], yerr=conf_interval[0][1]-lr.params[0],fmt=\".\",\n",
    "                       label=domain,color=color_dict[domain])\n",
    "        ax[2].yaxis.set_major_locator(MaxNLocator(nbins=4))\n",
    "        \n",
    "    except:\n",
    "        print(f\"Not enough crown radius data for regression at domain: {domain}\")\n",
    "    \n",
    "    \n",
    "    ## CR ~ H\n",
    "    # Get x,y, then perform regression\n",
    "    x = np.log(dgroup['height'].values)\n",
    "    y = np.log(dgroup['crownRadius'].values)\n",
    "    filt_bool = (np.isfinite(x) & np.isfinite(y))\n",
    "    x = x[filt_bool]\n",
    "    y = y[filt_bool]\n",
    "    \n",
    "    try:\n",
    "        # Run simple OLS regression and get confidence intervals\n",
    "        alpha = 0.05 # 95% confidence interval\n",
    "        lr = sm.OLS(y, sm.add_constant(x,prepend=False)).fit()\n",
    "        conf_interval = lr.conf_int(alpha)\n",
    "\n",
    "        # Plot\n",
    "        ax[3].errorbar(ai_avg, lr.params[0], yerr=conf_interval[0][1]-lr.params[0],fmt=\".\",\n",
    "                       label=domain,color=color_dict[domain])\n",
    "        ax[3].yaxis.set_major_locator(MaxNLocator(nbins=4))\n",
    "        \n",
    "    except:\n",
    "        print(f\"Not enough crownRadius data for regression at domain: {domain}\")\n",
    " \n",
    "    \n",
    "    color_idx+=1\n",
    "##################\n",
    "    \n",
    "## Subplot aesthetics\n",
    "ax[0].set_ylabel(\"$H$ ~ $D$\")\n",
    "ax[1].set_ylabel(\"$Vc$ ~ $H$\")\n",
    "ax[2].set_ylabel(\"$R_{c}$ ~ $D$\")\n",
    "ax[3].set_ylabel(\"$R_{c}$ ~ $H$\")\n",
    "# ax[3].set_xlabel(\"Aridity Index\")\n",
    "fig.text(0.5, 0.04, 'Aridity Index', ha='center')\n",
    "\n",
    "h,l = ax[0].get_legend_handles_labels()\n",
    "# ax[0].set_ylim(0,50)\n",
    "fig.tight_layout()\n",
    "fig.legend(h,l, loc=\"upper left\", ncols=4,fontsize=12,\n",
    "           bbox_to_anchor=(0.21,0.95),\n",
    "           borderpad=0.2,labelspacing=0.2,handlelength=1,columnspacing=0.5)\n",
    "fig.subplots_adjust(bottom=0.11,left=0.15)\n",
    "fig.savefig(f\"../../figs/veg-struct/allom/{outdir}/DOMAINS-ALLOMS-AI.png\", dpi=300)\n",
    "plt.show()\n",
    "\n"
   ]
  },
  {
   "cell_type": "code",
   "execution_count": null,
   "id": "7aa26cc9",
   "metadata": {},
   "outputs": [],
   "source": []
  },
  {
   "cell_type": "code",
   "execution_count": 18,
   "id": "aac28730",
   "metadata": {},
   "outputs": [
    {
     "name": "stdout",
     "output_type": "stream",
     "text": [
      "2.169750807639488\n",
      "1.6368113562719118\n",
      "1.9354941158955317\n",
      "3.486526853457765\n",
      "1.7828938017421505\n",
      "1.9382772366492391\n",
      "1.798985062709006\n",
      "1.5109110492762405\n",
      "2.5110628652209677\n",
      "2.0065074688679343\n",
      "1.8627854903270897\n",
      "1.3916844904318877\n",
      "Not enough crown_vol data for regression at domain: D14\n",
      "11.54602519171802\n",
      "1.396475125024614\n",
      "1.5404131180008998\n",
      "1.2776677431985162\n",
      "1.8238198271772816\n"
     ]
    },
    {
     "data": {
      "image/png": "[encoded data removed]",
      "text/plain": [
       "<Figure size 1000x800 with 1 Axes>"
      ]
     },
     "metadata": {},
     "output_type": "display_data"
    }
   ],
   "source": [
    "# Lets rerun some analysis using (copy figure 2 from Tallo paper)\n",
    "# Get HSE for:\n",
    "# H ~ D\n",
    "# CR ~ D\n",
    "# CR ~ H\n",
    "# VC ~ H\n",
    "import statsmodels.api as sm\n",
    "from sklearn.linear_model import LinearRegression\n",
    "from matplotlib.ticker import MaxNLocator\n",
    "\n",
    "outdir = \"2020to2023\"\n",
    "\n",
    "# Init plot\n",
    "fig,ax = plt.subplots(1,figsize=(10,8),sharex=True)\n",
    "color_idx = 0\n",
    "\n",
    "# for each domain, get regression then plot\n",
    "for domain, dgroup in neon_vst_filt_latlon.groupby(\"domainID\"):\n",
    "    \n",
    "    # Get average AI\n",
    "    ai_avg = dgroup['AI'].mean()\n",
    "    \n",
    "    ## H ~ D\n",
    "    # Get x,y, then perform regression\n",
    "    x = np.log(dgroup['stemDiameter'].values)\n",
    "    y = np.log(dgroup['height'].values)\n",
    "    filt_bool = (np.isfinite(x) & np.isfinite(y))\n",
    "    x = x[filt_bool]\n",
    "    y = y[filt_bool]\n",
    "    \n",
    "    # Run simple OLS regression\n",
    "    lr = sm.OLS(y, sm.add_constant(x,prepend=False)).fit()\n",
    "    beta = lr.params[0]\n",
    "    # 95% confidence interval\n",
    "    conf_interval_beta = lr.conf_int(0.05)\n",
    "    \n",
    "    \n",
    "    ## Vc ~ H\n",
    "    # Get x,y, then perform regression\n",
    "    x = np.log(dgroup['height'].values)\n",
    "    y = np.log(dgroup['crown_vol'].values)\n",
    "    filt_bool = (np.isfinite(x) & np.isfinite(y))\n",
    "    x = x[filt_bool]\n",
    "    y = y[filt_bool]\n",
    "    \n",
    "    try:\n",
    "        # Run simple OLS regression and get confidence intervals\n",
    "        lr = sm.OLS(y, sm.add_constant(x,prepend=False)).fit()\n",
    "        alpha = lr.params[0] # 95% confidence interval\n",
    "        conf_interval_alpha = lr.conf_int(0.05)\n",
    "        \n",
    "    except:\n",
    "        print(f\"Not enough crown_vol data for regression at domain: {domain}\")\n",
    "        continue\n",
    "        \n",
    "    # Get HSE and plot!\n",
    "    HSE = (1+2/beta)-alpha\n",
    "    print(HSE)\n",
    "    # Plot\n",
    "    ax.scatter(ai_avg, HSE,label=domain,color=color_dict[domain])\n",
    "    \n",
    "    color_idx+=1\n",
    "##################\n",
    "    \n",
    "## Subplot aesthetics\n",
    "ax.xaxis.set_major_locator(MaxNLocator(nbins=6))\n",
    "ax.yaxis.set_major_locator(MaxNLocator(nbins=6))\n",
    "\n",
    "ax.set_ylim(0, 12)\n",
    "\n",
    "ax.set_xlabel(\"AI\")\n",
    "ax.set_ylabel(\"HSE\")\n",
    "h,l = ax.get_legend_handles_labels()\n",
    "# ax[0].set_ylim(0,50)\n",
    "fig.tight_layout()\n",
    "fig.legend(h,l, loc=\"upper right\", ncols=5,fontsize=12,bbox_to_anchor=(0.975,0.975),\n",
    "           borderpad=0.2,labelspacing=0.2,handlelength=1,columnspacing=0.5)\n",
    "fig.savefig(f\"../../figs/veg-struct/allom/{outdir}/DOMAINS-HSE-AI.png\", dpi=300)\n",
    "plt.show()\n",
    "\n"
   ]
  },
  {
   "cell_type": "code",
   "execution_count": null,
   "id": "3e79241a",
   "metadata": {},
   "outputs": [],
   "source": []
  },
  {
   "cell_type": "code",
   "execution_count": null,
   "id": "04de8177",
   "metadata": {},
   "outputs": [],
   "source": []
  },
  {
   "cell_type": "code",
   "execution_count": null,
   "id": "05bd4d7a",
   "metadata": {},
   "outputs": [],
   "source": []
  }
 ],
 "metadata": {
  "kernelspec": {
   "display_name": "osgeo-env-v1",
   "language": "python",
   "name": "osgeo-env-v1"
  },
  "language_info": {
   "codemirror_mode": {
    "name": "ipython",
    "version": 3
   },
   "file_extension": ".py",
   "mimetype": "text/x-python",
   "name": "python",
   "nbconvert_exporter": "python",
   "pygments_lexer": "ipython3",
   "version": "3.11.0"
  }
 },
 "nbformat": 4,
 "nbformat_minor": 5
}
