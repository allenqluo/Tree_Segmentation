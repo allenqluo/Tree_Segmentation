{
 "cells": [
  {
   "cell_type": "code",
   "execution_count": 1,
   "id": "a0c08371",
   "metadata": {},
   "outputs": [],
   "source": [
    "import neonutilities as nu"
   ]
  },
  {
   "cell_type": "code",
   "execution_count": 2,
   "id": "1e588f8f",
   "metadata": {},
   "outputs": [],
   "source": [
    "import pandas as pd\n",
    "import geopandas as gpd\n",
    "import os\n",
    "import numpy as np"
   ]
  },
  {
   "cell_type": "code",
   "execution_count": 3,
   "id": "8f7fe4b8",
   "metadata": {},
   "outputs": [],
   "source": [
    "# Import spatial polygons file!\n",
    "fdir = \"/data/shared/src/arojas/NEON/data/raw/spatial/All_NEON_TOS_Plots_V9\"\n",
    "poly_fpath = os.path.join(fdir,\"All_NEON_TOS_Plot_Polygons_V9.shp\")"
   ]
  },
  {
   "cell_type": "code",
   "execution_count": 5,
   "id": "35a83dfc",
   "metadata": {},
   "outputs": [],
   "source": [
    "poly_gdf = gpd.read_file(poly_fpath)"
   ]
  },
  {
   "cell_type": "code",
   "execution_count": 8,
   "id": "7443d56a",
   "metadata": {},
   "outputs": [
    {
     "data": {
      "image/svg+xml": [
       "<svg xmlns=\"http://www.w3.org/2000/svg\" xmlns:xlink=\"http://www.w3.org/1999/xlink\" width=\"100.0\" height=\"100.0\" viewBox=\"-122.34664938710051 45.77241688263761 0.0005601408686430887 0.0004044396879123724\" preserveAspectRatio=\"xMinYMin meet\"><g transform=\"matrix(1,0,0,-1,0,91.54523820496313)\"><path fill-rule=\"evenodd\" fill=\"#66cc99\" stroke=\"#555555\" stroke-width=\"1.1202817372861773e-05\" opacity=\"0.6\" d=\"M -122.34662443718364,45.77280057636742 L -122.34610999218997,45.77279763328313 L -122.34611419945821,45.7724376285957 L -122.34662864114242,45.77244057164326 L -122.34662443718364,45.77280057636742 z\" /></g></svg>"
      ],
      "text/plain": [
       "<POLYGON ((-122.347 45.773, -122.346 45.773, -122.346 45.772, -122.347 45.77...>"
      ]
     },
     "execution_count": 8,
     "metadata": {},
     "output_type": "execute_result"
    }
   ],
   "source": [
    "poly_gdf.geometry.values[0]"
   ]
  },
  {
   "cell_type": "code",
   "execution_count": 15,
   "id": "73b5d85e",
   "metadata": {},
   "outputs": [
    {
     "data": {
      "text/plain": [
       "Index(['plotID', 'pointID', 'country', 'state', 'county', 'domain', 'domainID',\n",
       "       'siteName', 'siteID', 'plotType', 'subtype', 'subSpec', 'plotSize',\n",
       "       'plotDim', 'latitude', 'longitude', 'datum', 'utmZone', 'easting',\n",
       "       'northing', 'horzUncert', 'elevation', 'vertUncert', 'minElev',\n",
       "       'maxElev', 'slope', 'aspect', 'nlcdClass', 'soilOrder', 'coordSrc',\n",
       "       'date', 'gpsLogs', 'plotPdop', 'plotHdop', 'appMods', 'plotEdge',\n",
       "       'geometry'],\n",
       "      dtype='object')"
      ]
     },
     "execution_count": 15,
     "metadata": {},
     "output_type": "execute_result"
    }
   ],
   "source": [
    "poly_gdf.columns"
   ]
  },
  {
   "cell_type": "code",
   "execution_count": 16,
   "id": "7ee82cc5",
   "metadata": {},
   "outputs": [
    {
     "data": {
      "text/plain": [
       "(3840, 37)"
      ]
     },
     "execution_count": 16,
     "metadata": {},
     "output_type": "execute_result"
    }
   ],
   "source": [
    "poly_gdf.shape"
   ]
  },
  {
   "cell_type": "code",
   "execution_count": 24,
   "id": "fd1671a5",
   "metadata": {},
   "outputs": [
    {
     "name": "stdout",
     "output_type": "stream",
     "text": [
      "['basePlot' 'phenology' 'tickPlot' 'mosquitoPoint' 'mammalGrid' 'birdGrid']\n"
     ]
    }
   ],
   "source": [
    "print(poly_gdf['subtype'].unique())"
   ]
  },
  {
   "cell_type": "code",
   "execution_count": 27,
   "id": "34724a60",
   "metadata": {},
   "outputs": [
    {
     "name": "stdout",
     "output_type": "stream",
     "text": [
      "YELL\r"
     ]
    }
   ],
   "source": [
    "# Loop through each site, project polygons to utm zone, then save to seperate file\n",
    "outdir = \"/data/shared/src/arojas/NEON/data/baseplots\"\n",
    "\n",
    "\n",
    "for siteid, site_plots in poly_gdf.groupby(\"siteID\"):\n",
    "    print(siteid,end=\"\\r\")\n",
    "    \n",
    "    # Convert to utm zone\n",
    "    utmzone = site_plots['utmZone'].values[0][:-1]\n",
    "    proj_str = f\"+proj=utm +zone={utmzone} +ellps=WGS84 +datum=WGS84 +units=m +no_defs +type=crs\"\n",
    "    site_plots_reprj = site_plots.to_crs(proj_str)\n",
    "    site_plots_reprj = site_plots_reprj.loc[site_plots_reprj[\"subtype\"]==\"basePlot\"].copy()\n",
    "    # Save data as site_plots\n",
    "    outfp = os.path.join(outdir,f\"{siteid}_baseplots_utm\")\n",
    "    site_plots_reprj.to_file(outfp)\n",
    "    \n",
    "    \n",
    "    "
   ]
  },
  {
   "cell_type": "code",
   "execution_count": null,
   "id": "facb57ab",
   "metadata": {},
   "outputs": [],
   "source": []
  },
  {
   "cell_type": "code",
   "execution_count": null,
   "id": "4aa22e19",
   "metadata": {},
   "outputs": [],
   "source": [
    "###########\n",
    "###########\n",
    "###########"
   ]
  },
  {
   "cell_type": "code",
   "execution_count": null,
   "id": "77ade44e",
   "metadata": {},
   "outputs": [],
   "source": [
    "# Start with one site, download data for single year, then clip for each site."
   ]
  },
  {
   "cell_type": "code",
   "execution_count": 33,
   "id": "9552eb5e",
   "metadata": {},
   "outputs": [],
   "source": [
    "import neonutilities as nu"
   ]
  },
  {
   "cell_type": "code",
   "execution_count": 35,
   "id": "5cca0751",
   "metadata": {},
   "outputs": [
    {
     "ename": "AttributeError",
     "evalue": "module 'neonutilities' has no attribute 'download_data'",
     "output_type": "error",
     "traceback": [
      "\u001b[0;31m---------------------------------------------------------------------------\u001b[0m",
      "\u001b[0;31mAttributeError\u001b[0m                            Traceback (most recent call last)",
      "Cell \u001b[0;32mIn[35], line 1\u001b[0m\n\u001b[0;32m----> 1\u001b[0m \u001b[43mnu\u001b[49m\u001b[38;5;241;43m.\u001b[39;49m\u001b[43mdownload_data\u001b[49m\n",
      "\u001b[0;31mAttributeError\u001b[0m: module 'neonutilities' has no attribute 'download_data'"
     ]
    }
   ],
   "source": [
    "nu.download_data"
   ]
  },
  {
   "cell_type": "code",
   "execution_count": null,
   "id": "622c5ef0",
   "metadata": {},
   "outputs": [],
   "source": []
  },
  {
   "cell_type": "code",
   "execution_count": null,
   "id": "726e4d92",
   "metadata": {},
   "outputs": [],
   "source": []
  },
  {
   "cell_type": "code",
   "execution_count": null,
   "id": "eb8c184a",
   "metadata": {},
   "outputs": [],
   "source": []
  },
  {
   "cell_type": "code",
   "execution_count": null,
   "id": "c57d926d",
   "metadata": {},
   "outputs": [],
   "source": []
  },
  {
   "cell_type": "code",
   "execution_count": null,
   "id": "3d93f6d0",
   "metadata": {},
   "outputs": [],
   "source": []
  },
  {
   "cell_type": "code",
   "execution_count": null,
   "id": "127e9bcd",
   "metadata": {},
   "outputs": [],
   "source": []
  },
  {
   "cell_type": "code",
   "execution_count": null,
   "id": "c2c1e2ed",
   "metadata": {},
   "outputs": [],
   "source": []
  },
  {
   "cell_type": "code",
   "execution_count": null,
   "id": "c336e2da",
   "metadata": {},
   "outputs": [],
   "source": []
  },
  {
   "cell_type": "code",
   "execution_count": null,
   "id": "536ac08d",
   "metadata": {},
   "outputs": [],
   "source": []
  },
  {
   "cell_type": "code",
   "execution_count": null,
   "id": "ad94a135",
   "metadata": {},
   "outputs": [],
   "source": []
  },
  {
   "cell_type": "code",
   "execution_count": null,
   "id": "027fb669",
   "metadata": {},
   "outputs": [],
   "source": []
  },
  {
   "cell_type": "code",
   "execution_count": null,
   "id": "858c0fec",
   "metadata": {},
   "outputs": [],
   "source": []
  }
 ],
 "metadata": {
  "kernelspec": {
   "display_name": "osgeo-env-v1",
   "language": "python",
   "name": "osgeo-env-v1"
  },
  "language_info": {
   "codemirror_mode": {
    "name": "ipython",
    "version": 3
   },
   "file_extension": ".py",
   "mimetype": "text/x-python",
   "name": "python",
   "nbconvert_exporter": "python",
   "pygments_lexer": "ipython3",
   "version": "3.11.0"
  }
 },
 "nbformat": 4,
 "nbformat_minor": 5
}
