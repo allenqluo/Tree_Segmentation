{
 "cells": [
  {
   "cell_type": "code",
   "execution_count": 1,
   "id": "01f4ac7a",
   "metadata": {},
   "outputs": [],
   "source": [
    "import pandas as pd\n",
    "import numpy as np\n",
    "import matplotlib.pyplot as plt\n",
    "import statsmodels.api as sm\n",
    "from statsmodels.formula.api import ols\n",
    "\n",
    "import matplotlib.patheffects as pe\n",
    "import os\n",
    "import matplotlib.pyplot as plt\n",
    "import seaborn as sns\n",
    "# Seaborn aesthetics\n",
    "sns.set_context(\"notebook\")\n",
    "sns.set_theme(style=\"whitegrid\", font_scale=1.4,\n",
    "              rc={'grid.color': '#ededed'})\n",
    "\n",
    "from sklearn.metrics import mean_squared_error, r2_score\n",
    "from sklearn.linear_model import LinearRegression, HuberRegressor\n",
    "from sklearn import linear_model\n",
    "import statsmodels.api as sm\n",
    "import scipy\n",
    "from scipy.stats import gaussian_kde\n",
    "from matplotlib.colors import to_rgba"
   ]
  },
  {
   "cell_type": "code",
   "execution_count": 2,
   "id": "6637d55b",
   "metadata": {},
   "outputs": [
    {
     "name": "stderr",
     "output_type": "stream",
     "text": [
      "/tmp/ipykernel_1030170/840887848.py:2: DtypeWarning: Columns (14,27,28,33,38) have mixed types. Specify dtype option on import or set low_memory=False.\n",
      "  appidv_all = pd.read_csv(\"../data/output/NEON_VEGSTRUCTURE_FIRSTMSMTS.csv\")\n"
     ]
    }
   ],
   "source": [
    "# Read the above saved file (if necessary)\n",
    "appidv_all = pd.read_csv(\"../data/output/NEON_VEGSTRUCTURE_FIRSTMSMTS.csv\")\n",
    "# Use only live trees\n",
    "appidv_all = appidv_all[~appidv_all['plantStatus'].str.contains(\"dead\")].reset_index(drop=True)\n",
    "\n",
    "# Get average crownd diameter\n",
    "appidv_all[\"avgCrownDiameter\"] = (appidv_all[\"maxCrownDiameter\"] + appidv_all[\"ninetyCrownDiameter\"])/2\n",
    "# Get vertical crown diameter\n",
    "appidv_all[\"verticalDiameter\"] = appidv_all[\"height\"] - appidv_all[\"baseCrownHeight\"]\n",
    "# calculate crown volume \n",
    "hrad = appidv_all[\"avgCrownDiameter\"]/2\n",
    "vrad = appidv_all[\"verticalDiameter\"]/2\n",
    "# appidv_all['crown_vol'] =(4/3) * np.pi * (hrad**2) * (vrad)\n",
    "appidv_all['crown_vol'] =(4/3) * np.pi * (hrad**2) * ((1/4)*appidv_all[\"height\"])"
   ]
  },
  {
   "cell_type": "code",
   "execution_count": 3,
   "id": "b7b4341a",
   "metadata": {},
   "outputs": [],
   "source": [
    "## Clean data\n",
    "# remember to divide by 100 for stemDiameter in meters!\n",
    "appidv_all_filt = appidv_all.copy() # comment out if not needed\n",
    "\n",
    "appidv_all_filt['stemDiameter_m'] = appidv_all_filt['stemDiameter']/100\n",
    "appidv_all_filt['crownRadius'] = appidv_all_filt['avgCrownDiameter']/2\n",
    "appidv_all_filt['verticalCrownRadius'] = appidv_all_filt['verticalDiameter']/2\n",
    "\n",
    "# Remove data with errors (large DBH, height, etc.)\n",
    "treeid_list = ['NEON.PLA.D01.BART.05414', 'NEON.PLA.D01.HARV.05718',\n",
    "               'NEON.PLA.D01.HARV.05764', 'NEON.PLA.D03.JERC.00993',\n",
    "               'NEON.PLA.D08.TALL.01932', 'NEON.PLA.D05.TREE.00161',\n",
    "               'NEON.PLA.D17.SOAP.05687', 'NEON.PLA.D12.YELL.01123']\n",
    "appidv_all_clean = appidv_all_filt[~appidv_all_filt['individualID'].isin(treeid_list)].copy().reset_index(drop=True)\n",
    "\n",
    "# filter for only trees\n",
    "growthForm_list = ['single bole tree', 'multi-bole tree', 'small tree'] # 'small tree'\n",
    "# growthForm_list = ['small tree']\n",
    "appidv_all_clean = appidv_all_clean[appidv_all_clean['growthForm'].isin(growthForm_list)].copy()\n",
    "appidv_all_clean = appidv_all_clean[appidv_all_clean['plantStatus']==\"Live\"].copy().reset_index(drop=True)"
   ]
  },
  {
   "cell_type": "code",
   "execution_count": null,
   "id": "dedc184d",
   "metadata": {},
   "outputs": [],
   "source": [
    "#########"
   ]
  },
  {
   "cell_type": "code",
   "execution_count": 30,
   "id": "a2de27f5",
   "metadata": {},
   "outputs": [],
   "source": [
    "## Linear regression function\n",
    "from scipy import stats\n",
    "import numpy as np\n",
    "\n",
    "def LinearRegression(x,y):\n",
    "    \"\"\"\n",
    "    returns: regression model\n",
    "    \"\"\"\n",
    "    filterbool = ~(np.isnan(x) | np.isnan(y))\n",
    "    x = x[filterbool]\n",
    "    y = y[filterbool]\n",
    "    # Simple OLS linear regression using scipy stats, which is what statsmodel depends on\n",
    "    try:\n",
    "        slope, intercept, r_value, p_value, std_err = stats.linregress(x,y)\n",
    "    except:\n",
    "        print(f\"Not enough data at {siteid}. Length: \", len(x))\n",
    "        return np.nan, np.nan, np.nan, np.nan, np.nan\n",
    "    return slope, intercept, r_value, p_value, std_err\n"
   ]
  },
  {
   "cell_type": "code",
   "execution_count": 31,
   "id": "f25f449b",
   "metadata": {},
   "outputs": [
    {
     "name": "stdout",
     "output_type": "stream",
     "text": [
      "Not enough data at JERC. Length:  0\n",
      "Not enough data at JERC. Length:  0\n",
      "Not enough data at JERC. Length:  0\n",
      "Not enough data at SRER. Length:  0\n",
      "Not enough data at SRER. Length:  2\n",
      "Not enough data at SRER. Length:  2\n",
      "YELL\r"
     ]
    }
   ],
   "source": [
    "# init results df\n",
    "results_df_h_d = pd.DataFrame({\"siteID\":appidv_all_clean['siteID'].unique()})\n",
    "results_df_rc_d = pd.DataFrame({\"siteID\":appidv_all_clean['siteID'].unique()})\n",
    "results_df_rc_h = pd.DataFrame({\"siteID\":appidv_all_clean['siteID'].unique()})\n",
    "results_df_vc_h = pd.DataFrame({\"siteID\":appidv_all_clean['siteID'].unique()})\n",
    "\n",
    "\n",
    "\n",
    "# Loop through each site, get regression, save scaling exponent\n",
    "for siteid, site_df in appidv_all_clean.groupby(\"siteID\"):\n",
    "    print(siteid, end=\"\\r\")\n",
    "    ## H ~ D\n",
    "    x = np.log(site_df['stemDiameter'].values)\n",
    "    y = np.log(site_df['height'].values)\n",
    "    slope, intercept, r_value, p_value, std_err = LinearRegression(x,y)\n",
    "    results_df_h_d.loc[results_df_h_d['siteID']==siteid, \"slope\"] = np.round(slope,3)\n",
    "    results_df_h_d.loc[results_df_h_d['siteID']==siteid, \"intercept\"] = np.round(intercept,3)\n",
    "    results_df_h_d.loc[results_df_h_d['siteID']==siteid, \"R2\"] = np.round(r_value**2,3)\n",
    "    results_df_h_d.loc[results_df_h_d['siteID']==siteid, \"p_value\"] = np.round(p_value,4)\n",
    "    results_df_h_d.loc[results_df_h_d['siteID']==siteid, \"std_err\"] = np.round(std_err,3)\n",
    "    \n",
    "    ## Rc ~ D\n",
    "    x = np.log(site_df['stemDiameter'].values)\n",
    "    y = np.log(site_df['crownRadius'].values)\n",
    "    slope, intercept, r_value, p_value, std_err = LinearRegression(x,y)\n",
    "    results_df_rc_d.loc[results_df_rc_d['siteID']==siteid, \"slope\"] = np.round(slope,3)\n",
    "    results_df_rc_d.loc[results_df_rc_d['siteID']==siteid, \"intercept\"] = np.round(intercept,3)\n",
    "    results_df_rc_d.loc[results_df_rc_d['siteID']==siteid, \"R2\"] = np.round(r_value**2,3)\n",
    "    results_df_rc_d.loc[results_df_rc_d['siteID']==siteid, \"p_value\"] = np.round(p_value,4)\n",
    "    results_df_rc_d.loc[results_df_rc_d['siteID']==siteid, \"std_err\"] = np.round(std_err,3)\n",
    "    \n",
    "    ## Rc ~ H\n",
    "    x = np.log(site_df['height'].values)\n",
    "    y = np.log(site_df['crownRadius'].values)\n",
    "    slope, intercept, r_value, p_value, std_err = LinearRegression(x,y)\n",
    "    results_df_rc_h.loc[results_df_rc_h['siteID']==siteid, \"slope\"] = np.round(slope,3)\n",
    "    results_df_rc_h.loc[results_df_rc_h['siteID']==siteid, \"intercept\"] = np.round(intercept,3)\n",
    "    results_df_rc_h.loc[results_df_rc_h['siteID']==siteid, \"R2\"] = np.round(r_value**2,3)\n",
    "    results_df_rc_h.loc[results_df_rc_h['siteID']==siteid, \"p_value\"] = np.round(p_value,4)\n",
    "    results_df_rc_h.loc[results_df_rc_h['siteID']==siteid, \"std_err\"] = np.round(std_err,3)\n",
    "    \n",
    "    ## Vc ~ H\n",
    "    x = np.log(site_df['height'].values)\n",
    "    y = np.log(site_df['crown_vol'].values)\n",
    "    slope, intercept, r_value, p_value, std_err = LinearRegression(x,y)\n",
    "    results_df_vc_h.loc[results_df_vc_h['siteID']==siteid, \"slope\"] = np.round(slope,3)\n",
    "    results_df_vc_h.loc[results_df_vc_h['siteID']==siteid, \"intercept\"] = np.round(intercept,3)\n",
    "    results_df_vc_h.loc[results_df_vc_h['siteID']==siteid, \"R2\"] = np.round(r_value**2,3)\n",
    "    results_df_vc_h.loc[results_df_vc_h['siteID']==siteid, \"p_value\"] = np.round(p_value,4)\n",
    "    results_df_vc_h.loc[results_df_vc_h['siteID']==siteid, \"std_err\"] = np.round(std_err,3)\n",
    "    \n",
    "    "
   ]
  },
  {
   "cell_type": "code",
   "execution_count": 33,
   "id": "0689908c",
   "metadata": {},
   "outputs": [],
   "source": [
    "# Lets save outputs!\n",
    "results_df_h_d.to_csv(\"../data/output/site-allometry/NEON_site_allom_H_D.csv\",index=False)\n",
    "results_df_rc_d.to_csv(\"../data/output/site-allometry/NEON_site_allom_Rc_D.csv\",index=False)\n",
    "results_df_rc_h.to_csv(\"../data/output/site-allometry/NEON_site_allom_Rc_H.csv\",index=False)\n",
    "results_df_vc_h.to_csv(\"../data/output/site-allometry/NEON_site_allom_Vc_H.csv\",index=False)"
   ]
  },
  {
   "cell_type": "code",
   "execution_count": null,
   "id": "8bfc6a6c",
   "metadata": {},
   "outputs": [],
   "source": []
  },
  {
   "cell_type": "code",
   "execution_count": null,
   "id": "b780dcd3",
   "metadata": {},
   "outputs": [],
   "source": []
  },
  {
   "cell_type": "code",
   "execution_count": null,
   "id": "39d33367",
   "metadata": {},
   "outputs": [],
   "source": []
  }
 ],
 "metadata": {
  "kernelspec": {
   "display_name": "osgeo-env-v1",
   "language": "python",
   "name": "osgeo-env-v1"
  },
  "language_info": {
   "codemirror_mode": {
    "name": "ipython",
    "version": 3
   },
   "file_extension": ".py",
   "mimetype": "text/x-python",
   "name": "python",
   "nbconvert_exporter": "python",
   "pygments_lexer": "ipython3",
   "version": "3.11.0"
  }
 },
 "nbformat": 4,
 "nbformat_minor": 5
}
