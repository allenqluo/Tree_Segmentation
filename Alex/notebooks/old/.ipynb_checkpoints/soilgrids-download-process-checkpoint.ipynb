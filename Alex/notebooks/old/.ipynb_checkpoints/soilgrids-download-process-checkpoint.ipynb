{
 "cells": [
  {
   "cell_type": "code",
   "execution_count": null,
   "id": "9e5fd83e",
   "metadata": {},
   "outputs": [],
   "source": [
    "####################"
   ]
  },
  {
   "cell_type": "code",
   "execution_count": 1,
   "id": "c0126565",
   "metadata": {},
   "outputs": [],
   "source": [
    "import os\n",
    "import geopandas as gpd"
   ]
  },
  {
   "cell_type": "code",
   "execution_count": 2,
   "id": "21957fd2",
   "metadata": {},
   "outputs": [
    {
     "name": "stdout",
     "output_type": "stream",
     "text": [
      "Index(['domain', 'domainName', 'siteName', 'siteID', 'siteType', 'sampleType',\n",
      "       'priority', 'version', 'flightbxID', 'geometry'],\n",
      "      dtype='object')\n",
      "(103, 10)\n"
     ]
    }
   ],
   "source": [
    "fn = \"/data/shared/src/arojas/NEON/data/raw/spatial/AOP_flightBoxes/AOP_flightboxesAllSites.shp\"\n",
    "aop_flightboxes_gdf = gpd.read_file(fn)\n",
    "print(aop_flightboxes_gdf.columns)\n",
    "print(aop_flightboxes_gdf.shape)"
   ]
  },
  {
   "cell_type": "code",
   "execution_count": 3,
   "id": "202980d0",
   "metadata": {},
   "outputs": [
    {
     "data": {
      "text/plain": [
       "array([-72.28191288,  42.38363212, -72.10811745,  42.57509743])"
      ]
     },
     "execution_count": 3,
     "metadata": {},
     "output_type": "execute_result"
    }
   ],
   "source": [
    "aop_flightboxes_gdf[aop_flightboxes_gdf['siteID']==\"HARV\"].total_bounds"
   ]
  },
  {
   "cell_type": "code",
   "execution_count": null,
   "id": "548abaa3",
   "metadata": {},
   "outputs": [],
   "source": []
  },
  {
   "cell_type": "code",
   "execution_count": null,
   "id": "a967147c",
   "metadata": {},
   "outputs": [],
   "source": []
  },
  {
   "cell_type": "code",
   "execution_count": 4,
   "id": "91cdd883",
   "metadata": {},
   "outputs": [],
   "source": [
    "####################\n",
    "## Download Soilgrids for AOI using WCS\n",
    "####################"
   ]
  },
  {
   "cell_type": "code",
   "execution_count": 3,
   "id": "f7dd830c",
   "metadata": {},
   "outputs": [
    {
     "name": "stdout",
     "output_type": "stream",
     "text": [
      "BART\n"
     ]
    }
   ],
   "source": [
    "import os\n",
    "import geopandas as gpd\n",
    "import numpy as np\n",
    "from owslib.wcs import WebCoverageService\n",
    "\n",
    "# Set up workspace\n",
    "odir_soilgrids = \"/data/shared/src/arojas/NEON/data/raster/SOILGRIDS/\"\n",
    "\n",
    "# Read in NEON AOP flight boundaries\n",
    "fn = \"/data/shared/src/arojas/NEON/data/raw/spatial/AOP_flightBoxes/AOP_flightboxesAllSites.shp\"\n",
    "aop_flightboxes_gdf = gpd.read_file(fn)\n",
    "aop_flightboxes_gdf = aop_flightboxes_gdf[aop_flightboxes_gdf['sampleType']==\"Terrestrial\"].copy().reset_index()\n",
    "\n",
    "# Set up variables\n",
    "# List soil level strings in the filepaths for SOILGRIDS data (end)\n",
    "soil_levels_list = [\"_0-5cm_mean\",\"_5-15cm_mean\",\n",
    "                    \"_15-30cm_mean\",\"_30-60cm_mean\",\n",
    "                    \"_60-100cm_mean\"]\n",
    "# soilgrids_sand_vars = [\"sand\",\"silt\",\"clay\"]\n",
    "soilgrids_sand_var = \"sand\"\n",
    "wcs_url = f'http://maps.isric.org/mapserv?map=/map/{soilgrids_sand_var}.map'\n",
    "res = 250 \n",
    "proj_str_igh = \"+proj=igh +lat_0=0 +lon_0=0 +datum=WGS84 +units=m +no_defs\"\n",
    "\n",
    "# Loop through each terrestrial site boundary\n",
    "# get total bounds, download soil data\n",
    "for site_id in aop_flightboxes_gdf['siteID'].unique():\n",
    "    print(site_id)\n",
    "    # Create output folder with sitename\n",
    "    site_outdir = os.path.join(odir_soilgrids,soilgrids_sand_var,site_id)\n",
    "    if not os.path.isdir(site_outdir):\n",
    "        os.mkdir(site_outdir)\n",
    "        \n",
    "    # Filter for site and reproject to homolosine\n",
    "    site_flightbox = aop_flightboxes_gdf[aop_flightboxes_gdf['siteID']==site_id].copy().to_crs(proj_str_igh)\n",
    "    site_bbox = np.round(site_flightbox.total_bounds,3)\n",
    "    site_bbox = tuple(coord for coord in site_bbox)\n",
    "    \n",
    "    for soil_level in soil_levels_list:\n",
    "        \n",
    "        var_id_str = \"\".join([soilgrids_sand_var,soil_level])\n",
    "        # Generate url string\n",
    "        wcs = WebCoverageService(wcs_url, version='1.0.0')\n",
    "        response = wcs.getCoverage(\n",
    "            identifier=var_id_str, \n",
    "            crs='urn:ogc:def:crs:EPSG::152160',\n",
    "            bbox=site_bbox, \n",
    "            resx=250, resy=250,          # resolution [m]\n",
    "            format='GEOTIFF_INT16')\n",
    "\n",
    "        with open(os.path.join(site_outdir, f'{var_id_str}.tif'), 'wb') as file:\n",
    "            file.write(response.read())\n",
    "    break\n",
    "\n",
    "\n"
   ]
  },
  {
   "cell_type": "code",
   "execution_count": null,
   "id": "be52f810",
   "metadata": {},
   "outputs": [],
   "source": []
  },
  {
   "cell_type": "code",
   "execution_count": null,
   "id": "f38fd517",
   "metadata": {},
   "outputs": [],
   "source": []
  },
  {
   "cell_type": "code",
   "execution_count": null,
   "id": "e6d680a2",
   "metadata": {},
   "outputs": [],
   "source": [
    "####################\n",
    "## Parallel Processing\n",
    "####################"
   ]
  },
  {
   "cell_type": "code",
   "execution_count": null,
   "id": "05167489",
   "metadata": {},
   "outputs": [],
   "source": []
  },
  {
   "cell_type": "code",
   "execution_count": 86,
   "id": "ff47269a",
   "metadata": {},
   "outputs": [],
   "source": [
    "import os\n",
    "import geopandas as gpd\n",
    "import numpy as np\n",
    "from owslib.wcs import WebCoverageService\n",
    "\n",
    "# Set up workspace\n",
    "odir_soilgrids = \"/data/shared/src/arojas/NEON/data/raster/SOILGRIDS/\"\n",
    "\n",
    "# Read in NEON AOP flight boundaries\n",
    "fn = \"/data/shared/src/arojas/NEON/data/raw/spatial/AOP_flightBoxes/AOP_flightboxesAllSites.shp\"\n",
    "aop_flightboxes_gdf = gpd.read_file(fn)\n",
    "aop_flightboxes_gdf = aop_flightboxes_gdf[aop_flightboxes_gdf['sampleType']==\"Terrestrial\"].copy().reset_index()\n",
    "\n",
    "# Set up variables\n",
    "# List soil level strings in the filepaths for SOILGRIDS data (end)\n",
    "soil_levels_list = [\"_0-5cm_mean\",\"_5-15cm_mean\",\n",
    "                    \"_15-30cm_mean\",\"_30-60cm_mean\",\n",
    "                    \"_60-100cm_mean\", \"_100-200cm_mean\"]\n",
    "# soilgrids_sand_vars = [\"sand\",\"silt\",\"clay\",\"phh2o\",\"cec\"]\n",
    "soilgrids_sand_var = \"sand\"\n",
    "wcs_url = f'http://maps.isric.org/mapserv?map=/map/{soilgrids_sand_var}.map'\n",
    "res = 250 \n",
    "proj_str_igh = \"+proj=igh +lat_0=0 +lon_0=0 +datum=WGS84 +units=m +no_defs\"\n",
    "site_id_list = aop_flightboxes_gdf['siteID'].unique()\n",
    "\n",
    "# Single process function to use in parallel\n",
    "def soilgrids_download(site_id):\n",
    "    # Create output folder with sitename\n",
    "    site_outdir = os.path.join(odir_soilgrids,soilgrids_sand_var,site_id)\n",
    "    if not os.path.isdir(site_outdir):\n",
    "        os.mkdir(site_outdir)\n",
    "        \n",
    "    # Filter for site and reproject to homolosine\n",
    "    site_flightbox = aop_flightboxes_gdf[aop_flightboxes_gdf['siteID']==site_id].copy().to_crs(proj_str_igh)\n",
    "    site_bbox = np.round(site_flightbox.total_bounds,3)\n",
    "    site_bbox = tuple(coord for coord in site_bbox)\n",
    "    \n",
    "    for soil_level in soil_levels_list:\n",
    "        \n",
    "        var_id_str = \"\".join([soilgrids_sand_var,soil_level])\n",
    "        # Generate url string\n",
    "        wcs = WebCoverageService(wcs_url, version='1.0.0')\n",
    "        response = wcs.getCoverage(\n",
    "            identifier=var_id_str, \n",
    "            crs='urn:ogc:def:crs:EPSG::152160',\n",
    "            bbox=site_bbox, \n",
    "            resx=250, resy=250,          # resolution [m]\n",
    "            format='GEOTIFF_INT16')\n",
    "\n",
    "        with open(os.path.join(site_outdir, f'{var_id_str}.tif'), 'wb') as file:\n",
    "            file.write(response.read())\n",
    "            \n",
    "        wcs=None\n",
    "        del wcs\n",
    "        \n",
    "    print(\"Data downloaded for: \", site_id)\n"
   ]
  },
  {
   "cell_type": "code",
   "execution_count": 3,
   "id": "4ec2ba6a",
   "metadata": {},
   "outputs": [
    {
     "name": "stdout",
     "output_type": "stream",
     "text": [
      "Data downloaded for:  BONA\n",
      "Data downloaded for:  UKFS\n",
      "Data downloaded for:  TREE\n",
      "Data downloaded for:  SERC\n",
      "Data downloaded for:  BART\n"
     ]
    }
   ],
   "source": [
    "import multiprocessing as mp\n",
    "# init pool function\n",
    "pool = mp.Pool(5)\n",
    "# run function in parallel\n",
    "site_id_list = aop_flightboxes_gdf['siteID'].unique()\n",
    "results = pool.map(soilgrids_download, site_id_list)\n",
    "# results = pool.map(soilgrids_download, [\"BART\", \"BONA\", \"SERC\", \"UKFS\", \"TREE\"])\n",
    "# results = pool.map(soilgrids_download, [\"STEI\"])"
   ]
  },
  {
   "cell_type": "code",
   "execution_count": null,
   "id": "babd02cd",
   "metadata": {},
   "outputs": [],
   "source": []
  },
  {
   "cell_type": "code",
   "execution_count": null,
   "id": "3c5cf186",
   "metadata": {},
   "outputs": [],
   "source": []
  },
  {
   "cell_type": "code",
   "execution_count": null,
   "id": "b0d7d254",
   "metadata": {},
   "outputs": [],
   "source": [
    "#########################\n",
    "## Double check downloads did not fail!\n",
    "#########################"
   ]
  },
  {
   "cell_type": "code",
   "execution_count": null,
   "id": "1c4af060",
   "metadata": {},
   "outputs": [],
   "source": []
  },
  {
   "cell_type": "code",
   "execution_count": 87,
   "id": "2bd9f6a7",
   "metadata": {},
   "outputs": [],
   "source": [
    "import glob\n",
    "fdirs_list = glob.glob(f\"/data/shared/src/arojas/NEON/data/raster/SOILGRIDS/{soilgrids_sand_var}/*\")\n",
    "site_id_list = aop_flightboxes_gdf['siteID'].unique()"
   ]
  },
  {
   "cell_type": "code",
   "execution_count": null,
   "id": "17d529a9",
   "metadata": {},
   "outputs": [],
   "source": []
  },
  {
   "cell_type": "code",
   "execution_count": 88,
   "id": "32344619",
   "metadata": {},
   "outputs": [],
   "source": [
    "basenames = []\n",
    "for fdir in fdirs_list:\n",
    "    basenames.append(os.path.basename(fdir))\n",
    "    fpaths_tif = glob.glob(os.path.join(fdir, \"*\"))\n",
    "    if len(fpaths_tif)<6:\n",
    "        print(fdir)"
   ]
  },
  {
   "cell_type": "code",
   "execution_count": 89,
   "id": "88f5ebd0",
   "metadata": {},
   "outputs": [],
   "source": [
    "input_list = []\n",
    "for siteid in site_id_list:\n",
    "    if siteid not in basenames:\n",
    "        print(siteid)\n",
    "        input_list.append(siteid)"
   ]
  },
  {
   "cell_type": "code",
   "execution_count": 70,
   "id": "72ee06a2",
   "metadata": {},
   "outputs": [
    {
     "name": "stdout",
     "output_type": "stream",
     "text": [
      "Data downloaded for:  UNDE\n",
      "Data downloaded for:  MLBS\n"
     ]
    }
   ],
   "source": [
    "import multiprocessing as mp\n",
    "# init pool function\n",
    "# input_list = [\"MLBS\", \"UNDE\"]\n",
    "pool = mp.Pool(len(input_list))\n",
    "# run function in parallel\n",
    "results = pool.map(soilgrids_download, input_list)"
   ]
  },
  {
   "cell_type": "code",
   "execution_count": null,
   "id": "19b6be83",
   "metadata": {},
   "outputs": [],
   "source": []
  },
  {
   "cell_type": "code",
   "execution_count": null,
   "id": "306d436d",
   "metadata": {},
   "outputs": [],
   "source": []
  }
 ],
 "metadata": {
  "kernelspec": {
   "display_name": "owslib-env",
   "language": "python",
   "name": "owslib-env"
  },
  "language_info": {
   "codemirror_mode": {
    "name": "ipython",
    "version": 3
   },
   "file_extension": ".py",
   "mimetype": "text/x-python",
   "name": "python",
   "nbconvert_exporter": "python",
   "pygments_lexer": "ipython3",
   "version": "3.11.3"
  }
 },
 "nbformat": 4,
 "nbformat_minor": 5
}
