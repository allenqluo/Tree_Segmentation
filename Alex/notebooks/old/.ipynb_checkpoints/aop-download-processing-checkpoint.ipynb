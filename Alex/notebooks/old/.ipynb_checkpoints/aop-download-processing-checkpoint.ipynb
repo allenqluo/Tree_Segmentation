{
 "cells": [
  {
   "cell_type": "code",
   "execution_count": 1,
   "id": "30aba2fb",
   "metadata": {},
   "outputs": [
    {
     "name": "stdout",
     "output_type": "stream",
     "text": [
      "['./whitebox_tools', '-v=false']\n",
      "['./whitebox_tools', '-v=false']\n"
     ]
    }
   ],
   "source": [
    "import sys\n",
    "# # insert at 1\n",
    "# sys.path.insert(1, '/data/shared/src/arojas/tools/pythonUtilities')\n",
    "import neonutilities as nu\n",
    "import geopandas as gpd\n",
    "import pandas as pd\n",
    "\n",
    "from pyproj import CRS\n",
    "import glob\n",
    "import subprocess\n",
    "from osgeo import gdal, ogr\n",
    "import os\n",
    "import rioxarray\n",
    "import xarray as xr\n",
    "import laspy\n",
    "import numpy as np\n",
    "\n",
    "import matplotlib\n",
    "import matplotlib.pyplot as plt\n",
    "from matplotlib.ticker import FormatStrFormatter\n"
   ]
  },
  {
   "cell_type": "code",
   "execution_count": 2,
   "id": "6d23cf20",
   "metadata": {},
   "outputs": [],
   "source": [
    "# Read in neon tower polys\n",
    "neon_tower_polys = gpd.read_file(\"../data/raw/All_NEON_TOS_Plots_V8/All_NEON_TOS_Plot_Polygons_V8.shp\")"
   ]
  },
  {
   "cell_type": "code",
   "execution_count": 3,
   "id": "7927fb2a",
   "metadata": {},
   "outputs": [
    {
     "data": {
      "text/plain": [
       "Index(['plotID', 'pointID', 'country', 'state', 'county', 'domain', 'domainID',\n",
       "       'siteName', 'siteID', 'plotType', 'subtype', 'subSpec', 'plotSize',\n",
       "       'plotDim', 'latitude', 'longitude', 'datum', 'utmZone', 'easting',\n",
       "       'northing', 'horzUncert', 'elevation', 'vertUncert', 'minElev',\n",
       "       'maxElev', 'slope', 'aspect', 'nlcdClass', 'soilOrder', 'coordSrc',\n",
       "       'date', 'gpsLogs', 'plotPdop', 'plotHdop', 'appMods', 'plotEdge',\n",
       "       'geometry'],\n",
       "      dtype='object')"
      ]
     },
     "execution_count": 3,
     "metadata": {},
     "output_type": "execute_result"
    }
   ],
   "source": [
    "neon_tower_polys.columns"
   ]
  },
  {
   "cell_type": "code",
   "execution_count": 4,
   "id": "f238e7b7",
   "metadata": {},
   "outputs": [
    {
     "data": {
      "text/html": [
       "<div>\n",
       "<style scoped>\n",
       "    .dataframe tbody tr th:only-of-type {\n",
       "        vertical-align: middle;\n",
       "    }\n",
       "\n",
       "    .dataframe tbody tr th {\n",
       "        vertical-align: top;\n",
       "    }\n",
       "\n",
       "    .dataframe thead th {\n",
       "        text-align: right;\n",
       "    }\n",
       "</style>\n",
       "<table border=\"1\" class=\"dataframe\">\n",
       "  <thead>\n",
       "    <tr style=\"text-align: right;\">\n",
       "      <th></th>\n",
       "      <th>plotID</th>\n",
       "      <th>pointID</th>\n",
       "      <th>plotType</th>\n",
       "      <th>subtype</th>\n",
       "    </tr>\n",
       "  </thead>\n",
       "  <tbody>\n",
       "    <tr>\n",
       "      <th>30</th>\n",
       "      <td>ABBY_067</td>\n",
       "      <td>41</td>\n",
       "      <td>tower</td>\n",
       "      <td>basePlot</td>\n",
       "    </tr>\n",
       "    <tr>\n",
       "      <th>31</th>\n",
       "      <td>ABBY_062</td>\n",
       "      <td>41</td>\n",
       "      <td>tower</td>\n",
       "      <td>basePlot</td>\n",
       "    </tr>\n",
       "    <tr>\n",
       "      <th>32</th>\n",
       "      <td>ABBY_063</td>\n",
       "      <td>41</td>\n",
       "      <td>tower</td>\n",
       "      <td>basePlot</td>\n",
       "    </tr>\n",
       "    <tr>\n",
       "      <th>33</th>\n",
       "      <td>ABBY_068</td>\n",
       "      <td>41</td>\n",
       "      <td>tower</td>\n",
       "      <td>basePlot</td>\n",
       "    </tr>\n",
       "    <tr>\n",
       "      <th>34</th>\n",
       "      <td>ABBY_069</td>\n",
       "      <td>41</td>\n",
       "      <td>tower</td>\n",
       "      <td>basePlot</td>\n",
       "    </tr>\n",
       "    <tr>\n",
       "      <th>...</th>\n",
       "      <td>...</td>\n",
       "      <td>...</td>\n",
       "      <td>...</td>\n",
       "      <td>...</td>\n",
       "    </tr>\n",
       "    <tr>\n",
       "      <th>3805</th>\n",
       "      <td>YELL_062</td>\n",
       "      <td>41</td>\n",
       "      <td>tower</td>\n",
       "      <td>basePlot</td>\n",
       "    </tr>\n",
       "    <tr>\n",
       "      <th>3806</th>\n",
       "      <td>YELL_051</td>\n",
       "      <td>41</td>\n",
       "      <td>tower</td>\n",
       "      <td>basePlot</td>\n",
       "    </tr>\n",
       "    <tr>\n",
       "      <th>3807</th>\n",
       "      <td>YELL_050</td>\n",
       "      <td>41</td>\n",
       "      <td>tower</td>\n",
       "      <td>basePlot</td>\n",
       "    </tr>\n",
       "    <tr>\n",
       "      <th>3808</th>\n",
       "      <td>YELL_064</td>\n",
       "      <td>C</td>\n",
       "      <td>tower</td>\n",
       "      <td>phenology</td>\n",
       "    </tr>\n",
       "    <tr>\n",
       "      <th>3809</th>\n",
       "      <td>YELL_063</td>\n",
       "      <td>C</td>\n",
       "      <td>tower</td>\n",
       "      <td>phenology</td>\n",
       "    </tr>\n",
       "  </tbody>\n",
       "</table>\n",
       "<p>1164 rows × 4 columns</p>\n",
       "</div>"
      ],
      "text/plain": [
       "        plotID pointID plotType    subtype\n",
       "30    ABBY_067      41    tower   basePlot\n",
       "31    ABBY_062      41    tower   basePlot\n",
       "32    ABBY_063      41    tower   basePlot\n",
       "33    ABBY_068      41    tower   basePlot\n",
       "34    ABBY_069      41    tower   basePlot\n",
       "...        ...     ...      ...        ...\n",
       "3805  YELL_062      41    tower   basePlot\n",
       "3806  YELL_051      41    tower   basePlot\n",
       "3807  YELL_050      41    tower   basePlot\n",
       "3808  YELL_064       C    tower  phenology\n",
       "3809  YELL_063       C    tower  phenology\n",
       "\n",
       "[1164 rows x 4 columns]"
      ]
     },
     "execution_count": 4,
     "metadata": {},
     "output_type": "execute_result"
    }
   ],
   "source": [
    "neon_tower_polys.loc[neon_tower_polys['plotType']==\"tower\"][['plotID', 'pointID',\"plotType\",'subtype']]"
   ]
  },
  {
   "cell_type": "code",
   "execution_count": 5,
   "id": "1be9a67d",
   "metadata": {},
   "outputs": [
    {
     "data": {
      "text/plain": [
       "array(['distributed', 'tower'], dtype=object)"
      ]
     },
     "execution_count": 5,
     "metadata": {},
     "output_type": "execute_result"
    }
   ],
   "source": [
    "neon_tower_polys['plotType'].unique()"
   ]
  },
  {
   "cell_type": "code",
   "execution_count": null,
   "id": "5b6eb7aa",
   "metadata": {},
   "outputs": [],
   "source": [
    "+"
   ]
  },
  {
   "cell_type": "code",
   "execution_count": null,
   "id": "f5e54df2",
   "metadata": {},
   "outputs": [],
   "source": []
  },
  {
   "cell_type": "code",
   "execution_count": null,
   "id": "977a93fa",
   "metadata": {},
   "outputs": [],
   "source": []
  },
  {
   "cell_type": "code",
   "execution_count": null,
   "id": "44056ac5",
   "metadata": {},
   "outputs": [],
   "source": []
  },
  {
   "cell_type": "code",
   "execution_count": null,
   "id": "c5a65de7",
   "metadata": {},
   "outputs": [],
   "source": []
  },
  {
   "cell_type": "code",
   "execution_count": null,
   "id": "15587502",
   "metadata": {},
   "outputs": [],
   "source": []
  }
 ],
 "metadata": {
  "kernelspec": {
   "display_name": "osgeo-env-v1",
   "language": "python",
   "name": "osgeo-env-v1"
  },
  "language_info": {
   "codemirror_mode": {
    "name": "ipython",
    "version": 3
   },
   "file_extension": ".py",
   "mimetype": "text/x-python",
   "name": "python",
   "nbconvert_exporter": "python",
   "pygments_lexer": "ipython3",
   "version": "3.9.7"
  }
 },
 "nbformat": 4,
 "nbformat_minor": 5
}
