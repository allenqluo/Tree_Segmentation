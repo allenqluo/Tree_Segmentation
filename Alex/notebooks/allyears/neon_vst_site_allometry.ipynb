{
 "cells": [
  {
   "cell_type": "code",
   "execution_count": 2,
   "id": "01f4ac7a",
   "metadata": {},
   "outputs": [],
   "source": [
    "import pandas as pd\n",
    "import numpy as np\n",
    "import matplotlib.pyplot as plt\n",
    "import statsmodels.api as sm\n",
    "from statsmodels.formula.api import ols\n",
    "\n",
    "import matplotlib.patheffects as pe\n",
    "import os\n",
    "import matplotlib.pyplot as plt\n",
    "import seaborn as sns\n",
    "# Seaborn aesthetics\n",
    "sns.set_context(\"notebook\")\n",
    "sns.set_theme(style=\"whitegrid\", font_scale=1.4,\n",
    "              rc={'grid.color': '#ededed'})\n",
    "\n",
    "from sklearn.metrics import mean_squared_error, r2_score\n",
    "from sklearn.linear_model import LinearRegression, HuberRegressor\n",
    "from sklearn import linear_model\n",
    "import statsmodels.api as sm\n",
    "import scipy\n",
    "from scipy.stats import gaussian_kde\n",
    "from matplotlib.colors import to_rgba"
   ]
  },
  {
   "cell_type": "code",
   "execution_count": 3,
   "id": "6637d55b",
   "metadata": {},
   "outputs": [],
   "source": [
    "# Read the above saved file (if necessary)\n",
    "neon_vst = pd.read_csv(\"../../data/output/NEON_VST_TREES.csv\")\n",
    "# neon_vst = pd.read_csv(\"../../data/output/NEON_VST_TREES_2020to2023.csv\")\n",
    "# Use only live trees\n",
    "neon_vst_filt = neon_vst[neon_vst['plantStatus'].str.contains(\"Live\", na=False)].reset_index(drop=True)\n",
    "neon_vst_filt = neon_vst_filt[~neon_vst_filt['plantStatus'].str.contains(\"damage|broken\", na=False)].reset_index(drop=True)\n",
    "\n",
    "# Get average crownd diameter\n",
    "neon_vst_filt[\"avgCrownDiameter\"] = (neon_vst_filt[\"maxCrownDiameter\"] + neon_vst_filt[\"ninetyCrownDiameter\"])/2\n",
    "# Get vertical crown diameter\n",
    "neon_vst_filt[\"verticalDiameter\"] = neon_vst_filt[\"height\"] - neon_vst_filt[\"baseCrownHeight\"]\n",
    "# calculate crown volume \n",
    "hrad = neon_vst_filt[\"avgCrownDiameter\"]/2\n",
    "vrad = neon_vst_filt[\"verticalDiameter\"]/2\n",
    "# appidv_all['crown_vol'] =(4/3) * np.pi * (hrad**2) * (vrad)\n",
    "neon_vst_filt['crown_vol'] =(4/3) * np.pi * (hrad**2) * ((1/4)*neon_vst_filt[\"height\"])"
   ]
  },
  {
   "cell_type": "code",
   "execution_count": 4,
   "id": "b7b4341a",
   "metadata": {},
   "outputs": [
    {
     "name": "stdout",
     "output_type": "stream",
     "text": [
      "121823\n"
     ]
    }
   ],
   "source": [
    "## Clean data\n",
    "# remember to divide by 100 for stemDiameter in meters!\n",
    "neon_vst_filt['stemDiameter_m'] = neon_vst_filt['stemDiameter']/100\n",
    "neon_vst_filt['crownRadius'] = neon_vst_filt['avgCrownDiameter']/2\n",
    "neon_vst_filt['verticalCrownRadius'] = neon_vst_filt['verticalDiameter']/2\n",
    "\n",
    "# Remove data with errors (large DBH, height, etc.)\n",
    "treeid_list = ['NEON.PLA.D17.SOAP.05687']\n",
    "neon_vst_clean = neon_vst_filt[~neon_vst_filt['individualID'].isin(treeid_list)].copy().reset_index(drop=True)\n",
    "print(len(neon_vst_clean))"
   ]
  },
  {
   "cell_type": "code",
   "execution_count": 5,
   "id": "dedc184d",
   "metadata": {},
   "outputs": [],
   "source": [
    "#########"
   ]
  },
  {
   "cell_type": "code",
   "execution_count": 6,
   "id": "a2de27f5",
   "metadata": {},
   "outputs": [],
   "source": [
    "## Linear regression function\n",
    "from scipy import stats\n",
    "import numpy as np\n",
    "\n",
    "def LinearRegression(x,y):\n",
    "    \"\"\"\n",
    "    returns: regression model\n",
    "    \"\"\"\n",
    "    filterbool = ~(np.isnan(x) | np.isnan(y))\n",
    "    x = x[filterbool]\n",
    "    y = y[filterbool]\n",
    "    # Simple OLS linear regression using scipy stats, which is what statsmodel depends on\n",
    "    try:\n",
    "        slope, intercept, r_value, p_value, std_err = stats.linregress(x,y)\n",
    "    except:\n",
    "        print(f\"Not enough data at {siteid}. Length: \", len(x))\n",
    "        return np.nan, np.nan, np.nan, np.nan, np.nan\n",
    "    return slope, intercept, r_value, p_value, std_err\n"
   ]
  },
  {
   "cell_type": "code",
   "execution_count": 7,
   "id": "f25f449b",
   "metadata": {},
   "outputs": [
    {
     "name": "stdout",
     "output_type": "stream",
     "text": [
      "Not enough data at SRER. Length:  0\n",
      "Not enough data at SRER. Length:  2\n",
      "Not enough data at SRER. Length:  2\n",
      "YELL\r"
     ]
    }
   ],
   "source": [
    "# init results df\n",
    "results_df_h_d = pd.DataFrame({\"siteID\":neon_vst_clean['siteID'].unique()})\n",
    "results_df_rc_d = pd.DataFrame({\"siteID\":neon_vst_clean['siteID'].unique()})\n",
    "results_df_rc_h = pd.DataFrame({\"siteID\":neon_vst_clean['siteID'].unique()})\n",
    "results_df_vc_h = pd.DataFrame({\"siteID\":neon_vst_clean['siteID'].unique()})\n",
    "\n",
    "\n",
    "\n",
    "# Loop through each site, get regression, save scaling exponent\n",
    "for siteid, site_df in neon_vst_clean.groupby(\"siteID\"):\n",
    "    print(siteid, end=\"\\r\")\n",
    "    ## H ~ D\n",
    "    x = np.log(site_df['stemDiameter'].values)\n",
    "    y = np.log(site_df['height'].values)\n",
    "    slope, intercept, r_value, p_value, std_err = LinearRegression(x,y)\n",
    "    results_df_h_d.loc[results_df_h_d['siteID']==siteid, \"slope\"] = np.round(slope,3)\n",
    "    results_df_h_d.loc[results_df_h_d['siteID']==siteid, \"intercept\"] = np.round(intercept,3)\n",
    "    results_df_h_d.loc[results_df_h_d['siteID']==siteid, \"R2\"] = np.round(r_value**2,3)\n",
    "    results_df_h_d.loc[results_df_h_d['siteID']==siteid, \"p_value\"] = np.round(p_value,4)\n",
    "    results_df_h_d.loc[results_df_h_d['siteID']==siteid, \"std_err\"] = np.round(std_err,3)\n",
    "    \n",
    "    ## Rc ~ D\n",
    "    x = np.log(site_df['stemDiameter'].values)\n",
    "    y = np.log(site_df['crownRadius'].values)\n",
    "    slope, intercept, r_value, p_value, std_err = LinearRegression(x,y)\n",
    "    results_df_rc_d.loc[results_df_rc_d['siteID']==siteid, \"slope\"] = np.round(slope,3)\n",
    "    results_df_rc_d.loc[results_df_rc_d['siteID']==siteid, \"intercept\"] = np.round(intercept,3)\n",
    "    results_df_rc_d.loc[results_df_rc_d['siteID']==siteid, \"R2\"] = np.round(r_value**2,3)\n",
    "    results_df_rc_d.loc[results_df_rc_d['siteID']==siteid, \"p_value\"] = np.round(p_value,4)\n",
    "    results_df_rc_d.loc[results_df_rc_d['siteID']==siteid, \"std_err\"] = np.round(std_err,3)\n",
    "    \n",
    "    ## Rc ~ H\n",
    "    x = np.log(site_df['height'].values)\n",
    "    y = np.log(site_df['crownRadius'].values)\n",
    "    slope, intercept, r_value, p_value, std_err = LinearRegression(x,y)\n",
    "    results_df_rc_h.loc[results_df_rc_h['siteID']==siteid, \"slope\"] = np.round(slope,3)\n",
    "    results_df_rc_h.loc[results_df_rc_h['siteID']==siteid, \"intercept\"] = np.round(intercept,3)\n",
    "    results_df_rc_h.loc[results_df_rc_h['siteID']==siteid, \"R2\"] = np.round(r_value**2,3)\n",
    "    results_df_rc_h.loc[results_df_rc_h['siteID']==siteid, \"p_value\"] = np.round(p_value,4)\n",
    "    results_df_rc_h.loc[results_df_rc_h['siteID']==siteid, \"std_err\"] = np.round(std_err,3)\n",
    "    \n",
    "    ## Vc ~ H\n",
    "    x = np.log(site_df['height'].values)\n",
    "    y = np.log(site_df['crown_vol'].values)\n",
    "    slope, intercept, r_value, p_value, std_err = LinearRegression(x,y)\n",
    "    results_df_vc_h.loc[results_df_vc_h['siteID']==siteid, \"slope\"] = np.round(slope,3)\n",
    "    results_df_vc_h.loc[results_df_vc_h['siteID']==siteid, \"intercept\"] = np.round(intercept,3)\n",
    "    results_df_vc_h.loc[results_df_vc_h['siteID']==siteid, \"R2\"] = np.round(r_value**2,3)\n",
    "    results_df_vc_h.loc[results_df_vc_h['siteID']==siteid, \"p_value\"] = np.round(p_value,4)\n",
    "    results_df_vc_h.loc[results_df_vc_h['siteID']==siteid, \"std_err\"] = np.round(std_err,3)\n",
    "    \n",
    "    "
   ]
  },
  {
   "cell_type": "code",
   "execution_count": 8,
   "id": "0689908c",
   "metadata": {},
   "outputs": [],
   "source": [
    "# Lets save outputs!\n",
    "results_df_h_d.to_csv(\"../../data/output/site-allometry/NEON_site_allom_H_D.csv\",index=False)\n",
    "results_df_rc_d.to_csv(\"../../data/output/site-allometry/NEON_site_allom_Rc_D.csv\",index=False)\n",
    "results_df_rc_h.to_csv(\"../../data/output/site-allometry/NEON_site_allom_Rc_H.csv\",index=False)\n",
    "results_df_vc_h.to_csv(\"../../data/output/site-allometry/NEON_site_allom_Vc_H.csv\",index=False)"
   ]
  },
  {
   "cell_type": "code",
   "execution_count": null,
   "id": "8bfc6a6c",
   "metadata": {},
   "outputs": [],
   "source": []
  },
  {
   "cell_type": "code",
   "execution_count": null,
   "id": "b780dcd3",
   "metadata": {},
   "outputs": [],
   "source": []
  },
  {
   "cell_type": "code",
   "execution_count": null,
   "id": "39d33367",
   "metadata": {},
   "outputs": [],
   "source": []
  }
 ],
 "metadata": {
  "kernelspec": {
   "display_name": "osgeo-env-v1",
   "language": "python",
   "name": "osgeo-env-v1"
  },
  "language_info": {
   "codemirror_mode": {
    "name": "ipython",
    "version": 3
   },
   "file_extension": ".py",
   "mimetype": "text/x-python",
   "name": "python",
   "nbconvert_exporter": "python",
   "pygments_lexer": "ipython3",
   "version": "3.11.0"
  }
 },
 "nbformat": 4,
 "nbformat_minor": 5
}
