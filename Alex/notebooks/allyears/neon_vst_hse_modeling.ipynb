{
 "cells": [
  {
   "cell_type": "code",
   "execution_count": 1,
   "id": "54dcf6a5",
   "metadata": {},
   "outputs": [],
   "source": [
    "import pandas as pd\n",
    "import geopandas as gpd\n",
    "import matplotlib.pyplot as plt\n",
    "import os\n",
    "import glob\n",
    "import numpy as np"
   ]
  },
  {
   "cell_type": "code",
   "execution_count": null,
   "id": "07292544",
   "metadata": {},
   "outputs": [],
   "source": []
  },
  {
   "cell_type": "code",
   "execution_count": 2,
   "id": "11cdd0de",
   "metadata": {},
   "outputs": [
    {
     "name": "stdout",
     "output_type": "stream",
     "text": [
      "(81, 64)\n",
      "Index(['field_domain_id', 'field_site_id', 'field_site_name',\n",
      "       'field_site_type', 'field_site_subtype', 'field_colocated_site',\n",
      "       'field_site_host', 'field_site_url', 'field_nonneon_research_allowed',\n",
      "       'field_access_details', 'field_neon_field_operations_office',\n",
      "       'field_latitude', 'field_longitude', 'field_geodetic_datum',\n",
      "       'field_utm_northing', 'field_utm_easting', 'field_utm_zone',\n",
      "       'field_site_county', 'field_site_state', 'field_site_country',\n",
      "       'field_mean_elevation_m', 'field_minimum_elevation_m',\n",
      "       'field_maximum_elevation_m', 'field_mean_annual_temperature_C',\n",
      "       'field_mean_annual_precipitation_mm', 'field_dominant_wind_direction',\n",
      "       'field_mean_canopy_height_m', 'field_dominant_nlcd_classes',\n",
      "       'field_domint_plant_species', 'field_usgs_huc', 'field_watershed_name',\n",
      "       'field_watershed_size_km2', 'field_lake_depth_mean_m',\n",
      "       'field_lake_depth_max_m', 'field_tower_height_m',\n",
      "       'field_usgs_geology_unit', 'field_megapit_soil_family',\n",
      "       'field_soil_subgroup', 'field_avg_number_of_green_days',\n",
      "       'field_avg_grean_increase_doy', 'field_avg_green_max_doy',\n",
      "       'field_avg_green_decrease_doy', 'field_avg_green_min_doy',\n",
      "       'field_phenocams', 'field_number_tower_levels', 'wc_srad_avg_yr',\n",
      "       'wc_vapr_avg_yr', 'wc_wind_avg_yr', 'wc_bio_1', 'wc_bio_12',\n",
      "       'wc_bio_15', 'pet_he_yr', 'ai_yr', 'E', 'CWD', 'sg_cec_avg',\n",
      "       'sg_clay_avg', 'sg_phh2o_avg', 'sg_sand_avg', 'sg_silt_avg', 'siteID',\n",
      "       'hmin', 'hmax', 'hmean'],\n",
      "      dtype='object')\n"
     ]
    }
   ],
   "source": [
    "# Read in metadata (has all the vars we need for allom modeling!)\n",
    "neon_meta_df = pd.read_csv(\"/data/shared/src/arojas/NEON/data/NEON_Field_Site_Metadata_20230309_Env_Vars.csv\")\n",
    "print(neon_meta_df.shape)\n",
    "print(neon_meta_df.columns)"
   ]
  },
  {
   "cell_type": "code",
   "execution_count": null,
   "id": "794fd934",
   "metadata": {},
   "outputs": [],
   "source": []
  },
  {
   "cell_type": "code",
   "execution_count": 3,
   "id": "1457f723",
   "metadata": {},
   "outputs": [
    {
     "name": "stdout",
     "output_type": "stream",
     "text": [
      "(167752, 45)\n"
     ]
    }
   ],
   "source": [
    "# Lets read in the veg structure measurements with env vars\n",
    "neon_veg = pd.read_csv(\"../../data/output/NEON_VST_TREES.csv\")\n",
    "print(neon_veg.shape)\n",
    "# print(neon_veg.columns)"
   ]
  },
  {
   "cell_type": "code",
   "execution_count": 4,
   "id": "7ad00baf",
   "metadata": {},
   "outputs": [
    {
     "name": "stdout",
     "output_type": "stream",
     "text": [
      "ABBY\r",
      "BART\r",
      "BLAN\r",
      "BONA\r",
      "CLBJ\r",
      "DEJU\r",
      "DELA\r",
      "DSNY\r",
      "GRSM\r",
      "GUAN\r",
      "HARV\r",
      "HEAL\r",
      "JERC\r",
      "KONZ\r",
      "LAJA\r",
      "LENO\r",
      "MLBS\r",
      "MOAB\r",
      "NIWO\r",
      "NOGP\r",
      "ONAQ\r",
      "ORNL\r",
      "OSBS\r",
      "PUUM\r",
      "RMNP\r",
      "SCBI\r",
      "SERC\r",
      "SJER\r",
      "SOAP\r",
      "SRER\r",
      "STEI\r",
      "TALL\r",
      "TEAK\r",
      "TREE\r",
      "UKFS\r",
      "UNDE\r",
      "WREF\r",
      "YELL\r"
     ]
    }
   ],
   "source": [
    "# Get hmax for each site from veg structure and add to df\n",
    "for siteid, group in neon_veg.groupby(\"siteID\"):\n",
    "    print(siteid,end=\"\\r\")\n",
    "    # get indices\n",
    "    group_idx = neon_meta_df.loc[neon_meta_df['field_site_id']==siteid].index\n",
    "    # Get 95 percentile height\n",
    "    hmax = np.nanpercentile(group['height'].values,95)\n",
    "    neon_meta_df.loc[group_idx, \"site_hmax\"] = hmax"
   ]
  },
  {
   "cell_type": "code",
   "execution_count": 5,
   "id": "2d2f8227",
   "metadata": {},
   "outputs": [
    {
     "name": "stdout",
     "output_type": "stream",
     "text": [
      "ABBY\r",
      "ARIK\r",
      "BARC\r",
      "BARR\r",
      "BART\r",
      "BIGC\r",
      "BLAN\r",
      "BLDE\r",
      "BLUE\r",
      "BLWA\r",
      "BONA\r",
      "CARI\r",
      "CLBJ\r",
      "COMO\r",
      "CPER\r",
      "CRAM\r",
      "CUPE\r",
      "DCFS\r",
      "DEJU\r",
      "DELA\r",
      "DSNY\r",
      "FLNT\r",
      "GRSM\r",
      "GUAN\r",
      "GUIL\r",
      "HARV\r",
      "HEAL\r",
      "HOPB\r",
      "JERC\r",
      "JORN\r",
      "KING\r",
      "KONA\r",
      "KONZ\r",
      "LAJA\r",
      "LECO\r",
      "LENO\r",
      "LEWI\r",
      "LIRO\r",
      "MART\r",
      "MAYF\r",
      "MCDI\r",
      "MCRA\r",
      "MLBS\r",
      "MOAB\r",
      "NIWO\r",
      "NOGP\r",
      "OAES\r",
      "OKSR\r",
      "ONAQ\r",
      "ORNL\r",
      "OSBS\r",
      "POSE\r",
      "PRIN\r",
      "PRLA\r",
      "PRPO\r",
      "PUUM\r",
      "REDB\r",
      "RMNP\r",
      "SCBI\r",
      "SERC\r",
      "SJER\r",
      "SOAP\r",
      "SRER\r",
      "STEI\r",
      "STER\r",
      "SUGG\r",
      "SYCA\r",
      "TALL\r",
      "TEAK\r",
      "TECR\r",
      "TOMB\r",
      "TOOK\r",
      "TOOL\r",
      "TREE\r",
      "UKFS\r",
      "UNDE\r",
      "WALK\r",
      "WLOU\r",
      "WOOD\r",
      "WREF\r",
      "YELL\r"
     ]
    }
   ],
   "source": [
    "# Lets add the scaling exponents for allometric relationships!\n",
    "# Read allometry tables\n",
    "h_d_df = pd.read_csv(\"../../data/output/site-allometry/NEON_site_allom_H_D.csv\")\n",
    "rc_d_df = pd.read_csv(\"../../data/output/site-allometry/NEON_site_allom_Rc_D.csv\")\n",
    "rc_h_df = pd.read_csv(\"../../data/output/site-allometry/NEON_site_allom_Rc_H.csv\")\n",
    "vc_h_df = pd.read_csv(\"../../data/output/site-allometry/NEON_site_allom_Vc_H.csv\")\n",
    "\n",
    "site_id_list = neon_meta_df['field_site_id'].unique()\n",
    "for siteid in site_id_list:\n",
    "    print(siteid,end=\"\\r\")\n",
    "    # get indices\n",
    "    group_idx = neon_meta_df.loc[neon_meta_df['field_site_id']==siteid].index\n",
    "    if len(h_d_df.loc[h_d_df['siteID']==siteid])==0:\n",
    "        continue\n",
    "    # Get scaling exponents\n",
    "    scaling_exp = h_d_df.loc[h_d_df['siteID']==siteid]['slope'].values[0]\n",
    "    neon_meta_df.loc[group_idx, \"H_D_pow\"] = scaling_exp\n",
    "    scaling_exp = rc_d_df.loc[rc_d_df['siteID']==siteid]['slope'].values[0]\n",
    "    neon_meta_df.loc[group_idx, \"Rc_D_pow\"] = scaling_exp\n",
    "    scaling_exp = rc_h_df.loc[rc_h_df['siteID']==siteid]['slope'].values[0]\n",
    "    neon_meta_df.loc[group_idx, \"Rc_H_pow\"] = scaling_exp\n",
    "    scaling_exp = vc_h_df.loc[vc_h_df['siteID']==siteid]['slope'].values[0]\n",
    "    neon_meta_df.loc[group_idx, \"Vc_H_pow\"] = scaling_exp"
   ]
  },
  {
   "cell_type": "code",
   "execution_count": null,
   "id": "cfc374b0",
   "metadata": {},
   "outputs": [],
   "source": []
  },
  {
   "cell_type": "code",
   "execution_count": null,
   "id": "5a246d74",
   "metadata": {},
   "outputs": [],
   "source": [
    "\n"
   ]
  },
  {
   "cell_type": "code",
   "execution_count": 7,
   "id": "212b3e31",
   "metadata": {},
   "outputs": [
    {
     "data": {
      "text/plain": [
       "Index(['field_domain_id', 'field_site_id', 'field_site_name',\n",
       "       'field_site_type', 'field_site_subtype', 'field_colocated_site',\n",
       "       'field_site_host', 'field_site_url', 'field_nonneon_research_allowed',\n",
       "       'field_access_details', 'field_neon_field_operations_office',\n",
       "       'field_latitude', 'field_longitude', 'field_geodetic_datum',\n",
       "       'field_utm_northing', 'field_utm_easting', 'field_utm_zone',\n",
       "       'field_site_county', 'field_site_state', 'field_site_country',\n",
       "       'field_mean_elevation_m', 'field_minimum_elevation_m',\n",
       "       'field_maximum_elevation_m', 'field_mean_annual_temperature_C',\n",
       "       'field_mean_annual_precipitation_mm', 'field_dominant_wind_direction',\n",
       "       'field_mean_canopy_height_m', 'field_dominant_nlcd_classes',\n",
       "       'field_domint_plant_species', 'field_usgs_huc', 'field_watershed_name',\n",
       "       'field_watershed_size_km2', 'field_lake_depth_mean_m',\n",
       "       'field_lake_depth_max_m', 'field_tower_height_m',\n",
       "       'field_usgs_geology_unit', 'field_megapit_soil_family',\n",
       "       'field_soil_subgroup', 'field_avg_number_of_green_days',\n",
       "       'field_avg_grean_increase_doy', 'field_avg_green_max_doy',\n",
       "       'field_avg_green_decrease_doy', 'field_avg_green_min_doy',\n",
       "       'field_phenocams', 'field_number_tower_levels', 'wc_srad_avg_yr',\n",
       "       'wc_vapr_avg_yr', 'wc_wind_avg_yr', 'wc_bio_1', 'wc_bio_12',\n",
       "       'wc_bio_15', 'pet_he_yr', 'ai_yr', 'E', 'CWD', 'sg_cec_avg',\n",
       "       'sg_clay_avg', 'sg_phh2o_avg', 'sg_sand_avg', 'sg_silt_avg', 'siteID',\n",
       "       'hmin', 'hmax', 'hmean', 'site_hmax', 'H_D_pow', 'Rc_D_pow', 'Rc_H_pow',\n",
       "       'Vc_H_pow'],\n",
       "      dtype='object')"
      ]
     },
     "execution_count": 7,
     "metadata": {},
     "output_type": "execute_result"
    }
   ],
   "source": [
    "neon_meta_df.columns"
   ]
  },
  {
   "cell_type": "code",
   "execution_count": 8,
   "id": "411b24cc",
   "metadata": {},
   "outputs": [],
   "source": [
    "# Calculate HSE\n",
    "# (1+2/beta)-alpha\n",
    "neon_meta_df['HSE'] = (1+2/neon_meta_df['H_D_pow'].values) - neon_meta_df['Vc_H_pow'].values\n",
    "# Save HSE for each site!\n",
    "# neon_meta_df[['field_domain_id', 'field_site_id',\n",
    "#               'site_hmax',\n",
    "#               'H_D_pow', 'Rc_D_pow',\n",
    "#               'Rc_H_pow','Vc_H_pow']].to_csv(\"../../data/output/neon-sites-allom-HSE.csv\",index=False)\n",
    "\n"
   ]
  },
  {
   "cell_type": "code",
   "execution_count": null,
   "id": "a873c74f",
   "metadata": {},
   "outputs": [],
   "source": []
  },
  {
   "cell_type": "code",
   "execution_count": null,
   "id": "b2f9fd92",
   "metadata": {},
   "outputs": [],
   "source": []
  },
  {
   "cell_type": "code",
   "execution_count": 9,
   "id": "62d5cb96",
   "metadata": {},
   "outputs": [],
   "source": [
    "##############\n",
    "## Allometric modeling\n",
    "##############"
   ]
  },
  {
   "cell_type": "code",
   "execution_count": 10,
   "id": "36dee792",
   "metadata": {},
   "outputs": [],
   "source": [
    "# Now that we have all structural, plot level, and environmental variables, lets model!"
   ]
  },
  {
   "cell_type": "code",
   "execution_count": null,
   "id": "a75efd2a",
   "metadata": {
    "scrolled": true
   },
   "outputs": [],
   "source": []
  },
  {
   "cell_type": "code",
   "execution_count": 11,
   "id": "7b282812",
   "metadata": {},
   "outputs": [
    {
     "name": "stderr",
     "output_type": "stream",
     "text": [
      "/tmp/ipykernel_3231711/2863786260.py:62: UserWarning: This figure includes Axes that are not compatible with tight_layout, so results might be incorrect.\n",
      "  fig.tight_layout()\n",
      "/tmp/ipykernel_3231711/2863786260.py:62: UserWarning: This figure includes Axes that are not compatible with tight_layout, so results might be incorrect.\n",
      "  fig.tight_layout()\n",
      "/tmp/ipykernel_3231711/2863786260.py:62: UserWarning: This figure includes Axes that are not compatible with tight_layout, so results might be incorrect.\n",
      "  fig.tight_layout()\n",
      "/tmp/ipykernel_3231711/2863786260.py:62: UserWarning: This figure includes Axes that are not compatible with tight_layout, so results might be incorrect.\n",
      "  fig.tight_layout()\n"
     ]
    }
   ],
   "source": [
    "from sklearn.ensemble import RandomForestRegressor\n",
    "from matplotlib.colors import to_rgba\n",
    "from sklearn.metrics import mean_squared_error\n",
    "import seaborn as sns\n",
    "sns.set_theme(style=\"whitegrid\", font_scale=1.35, rc={'grid.color': '#ededed'})\n",
    "\n",
    "outdir = \"allyears\"\n",
    "\n",
    "# Getting input data\n",
    "# lets extract the columns\n",
    "data_cols = ['wc_srad_avg_yr',\n",
    "       'wc_vapr_avg_yr', 'wc_wind_avg_yr', 'wc_bio_1', 'wc_bio_12',\n",
    "       'wc_bio_15', 'pet_he_yr', 'ai_yr', 'E', 'CWD', 'sg_cec_avg',\n",
    "       'sg_clay_avg', 'sg_phh2o_avg', 'sg_sand_avg', 'sg_silt_avg',\n",
    "       'site_hmax',\"field_mean_elevation_m\"]\n",
    "# independent and dependent vars\n",
    "allom_substrs_list = [\"H_D\",\"Rc_D\",\"Rc_H\",\"Vc_H\"]\n",
    "for allom_substr in allom_substrs_list:\n",
    "    # allom_substr = \"H_D\"\n",
    "    xy_data_arr = np.hstack([neon_meta_df[data_cols].values,\n",
    "                            neon_meta_df[f\"{allom_substr}_pow\"].values.reshape(-1,1)])\n",
    "    nodata_bool = ~np.isnan(xy_data_arr).any(axis=1)\n",
    "    xy_data_arr = xy_data_arr[nodata_bool]\n",
    "    X_data_arr = xy_data_arr[:,:-1]\n",
    "    y_data_arr = xy_data_arr[:,-1]\n",
    "    siteids_filt = neon_meta_df[\"field_site_id\"].values[nodata_bool]\n",
    "    \n",
    "    # Get feature importance\n",
    "    forest_classifier = RandomForestRegressor(random_state=8)\n",
    "    forest_classifier.fit(X_data_arr,y_data_arr)\n",
    "    \n",
    "    feature_imp_df = pd.DataFrame({\"score\":forest_classifier.feature_importances_}, index=data_cols)\n",
    "    feature_imp_df = feature_imp_df.sort_values(by=\"score\", ascending=False)\n",
    "    sns.set_context(\"notebook\", font_scale=1.2)\n",
    "    fig,ax = plt.subplots(1,1,figsize=(10,6))\n",
    "    ax.set_title(f\"{allom_substr} Allometry Random Forest Relative Importance\")\n",
    "    sns.barplot(x=feature_imp_df['score'], y=feature_imp_df.index, ax=ax)\n",
    "    \n",
    "    ## Add inset plot with errors and eval metrics\n",
    "    left, bottom, width, height = [0.6, 0.25, 0.35, 0.4] # 0,0 is bottom left)\n",
    "    ax2 = fig.add_axes([left, bottom, width, height])\n",
    "    # Plot residuals vs fitted\n",
    "    y_pred = forest_classifier.predict(X_data_arr)\n",
    "    residuals = y_data_arr - y_pred\n",
    "    ax2.scatter(y_pred, residuals,\n",
    "                 color=to_rgba(\"#1f77b4\", .3),\n",
    "                 ec=\"#1f77b4\", lw=0.5)\n",
    "    ax2.axhline(0, color=\"#7f7f7f\", ls=\"--\")\n",
    "    ax2.set_xlabel(\"Predicted\")\n",
    "    ax2.set_ylabel(\"Residual\")\n",
    "    # Fix yrange\n",
    "    yrange_max = np.max(np.absolute(ax2.get_ylim()))\n",
    "    ax2.set_ylim(yrange_max*-1,yrange_max)\n",
    "    # Add metrics text\n",
    "    r2 = forest_classifier.score(X_data_arr, y_data_arr)\n",
    "    rmse = mean_squared_error(y_true=y_data_arr.reshape(-1,1),\n",
    "                              y_pred=y_pred.reshape(-1,1), squared=False)\n",
    "    txt = f\"R2={np.round(r2,2)}\\nRMSE={np.round(rmse,2)}\"\n",
    "    ax2.text(0.98, 0.0125, txt, ha='right', va='bottom',\n",
    "             transform=ax2.transAxes)\n",
    "    \n",
    "    fig.tight_layout()\n",
    "    fig.savefig(f\"../../figs/veg-struct/allom/{outdir}/NEON_site_allom_{allom_substr}_FeatImportance.png\", dpi=300)\n",
    "    plt.close()\n",
    "    "
   ]
  },
  {
   "cell_type": "code",
   "execution_count": null,
   "id": "6894332e",
   "metadata": {},
   "outputs": [],
   "source": []
  },
  {
   "cell_type": "code",
   "execution_count": 13,
   "id": "aaa4b4e0",
   "metadata": {},
   "outputs": [
    {
     "name": "stderr",
     "output_type": "stream",
     "text": [
      "/tmp/ipykernel_3231711/1040146890.py:62: UserWarning: This figure includes Axes that are not compatible with tight_layout, so results might be incorrect.\n",
      "  fig.tight_layout()\n"
     ]
    }
   ],
   "source": [
    "from sklearn.ensemble import RandomForestRegressor\n",
    "from matplotlib.colors import to_rgba\n",
    "from sklearn.metrics import mean_squared_error\n",
    "import seaborn as sns\n",
    "sns.set_theme(style=\"whitegrid\", font_scale=1.35, rc={'grid.color': '#ededed'})\n",
    "\n",
    "outdir=\"allyears\"\n",
    "\n",
    "# Getting input data\n",
    "# lets extract the columns\n",
    "data_cols = ['wc_srad_avg_yr',\n",
    "       'wc_vapr_avg_yr', 'wc_wind_avg_yr', 'wc_bio_1', 'wc_bio_12',\n",
    "       'wc_bio_15', 'pet_he_yr', 'ai_yr', 'E', 'CWD', 'sg_cec_avg',\n",
    "       'sg_clay_avg', 'sg_phh2o_avg', 'sg_sand_avg', 'sg_silt_avg',\n",
    "       'site_hmax',\"field_mean_elevation_m\"]\n",
    "# independent and dependent vars\n",
    "allom_substrs_list = [\"HSE\"]\n",
    "for allom_substr in allom_substrs_list:\n",
    "    # allom_substr = \"H_D\"\n",
    "    xy_data_arr = np.hstack([neon_meta_df[data_cols].values,\n",
    "                            neon_meta_df[allom_substr].values.reshape(-1,1)])\n",
    "    nodata_bool = ~np.isnan(xy_data_arr).any(axis=1)\n",
    "    xy_data_arr = xy_data_arr[nodata_bool]\n",
    "    X_data_arr = xy_data_arr[:,:-1]\n",
    "    y_data_arr = xy_data_arr[:,-1]\n",
    "    siteids_filt = neon_meta_df[\"field_site_id\"].values[nodata_bool]\n",
    "    \n",
    "    # Get feature importance\n",
    "    forest_classifier = RandomForestRegressor(random_state=8)\n",
    "    forest_classifier.fit(X_data_arr,y_data_arr)\n",
    "    \n",
    "    feature_imp_df = pd.DataFrame({\"score\":forest_classifier.feature_importances_}, index=data_cols)\n",
    "    feature_imp_df = feature_imp_df.sort_values(by=\"score\", ascending=False)\n",
    "    sns.set_context(\"notebook\", font_scale=1.2)\n",
    "    fig,ax = plt.subplots(1,1,figsize=(10,6))\n",
    "    ax.set_title(f\"NEON Sites {allom_substr} Random Forest Relative Importance\")\n",
    "    sns.barplot(x=feature_imp_df['score'], y=feature_imp_df.index, ax=ax)\n",
    "    \n",
    "    ## Add inset plot with errors and eval metrics\n",
    "    left, bottom, width, height = [0.6, 0.25, 0.35, 0.4] # 0,0 is bottom left)\n",
    "    ax2 = fig.add_axes([left, bottom, width, height])\n",
    "    # Plot residuals vs fitted\n",
    "    y_pred = forest_classifier.predict(X_data_arr)\n",
    "    residuals = y_data_arr - y_pred\n",
    "    ax2.scatter(y_pred, residuals,\n",
    "                 color=to_rgba(\"#1f77b4\", .3),\n",
    "                 ec=\"#1f77b4\", lw=0.5)\n",
    "    ax2.axhline(0, color=\"#7f7f7f\", ls=\"--\")\n",
    "    ax2.set_xlabel(\"Predicted\")\n",
    "    ax2.set_ylabel(\"Residual\")\n",
    "    # Fix yrange\n",
    "    yrange_max = np.max(np.absolute(ax2.get_ylim()))\n",
    "    ax2.set_ylim(yrange_max*-1,yrange_max)\n",
    "    # Add metrics text\n",
    "    r2 = forest_classifier.score(X_data_arr, y_data_arr)\n",
    "    rmse = mean_squared_error(y_true=y_data_arr.reshape(-1,1),\n",
    "                              y_pred=y_pred.reshape(-1,1), squared=False)\n",
    "    txt = f\"R2={np.round(r2,2)}\\nRMSE={np.round(rmse,2)}\"\n",
    "    ax2.text(0.98, 0.0125, txt, ha='right', va='bottom',\n",
    "             transform=ax2.transAxes)\n",
    "    \n",
    "    fig.tight_layout()\n",
    "    fig.savefig(f\"../../figs/veg-struct/allom/{outdir}/NEON_site_HSE_FeatImportance.png\", dpi=300)\n",
    "    plt.close()\n",
    "    "
   ]
  },
  {
   "cell_type": "code",
   "execution_count": null,
   "id": "bc060e0e",
   "metadata": {},
   "outputs": [],
   "source": []
  },
  {
   "cell_type": "code",
   "execution_count": null,
   "id": "3db0a572",
   "metadata": {},
   "outputs": [],
   "source": []
  },
  {
   "cell_type": "code",
   "execution_count": null,
   "id": "03e582d3",
   "metadata": {},
   "outputs": [],
   "source": []
  },
  {
   "cell_type": "code",
   "execution_count": null,
   "id": "ad77b07f",
   "metadata": {},
   "outputs": [],
   "source": []
  },
  {
   "cell_type": "code",
   "execution_count": null,
   "id": "e68659eb",
   "metadata": {},
   "outputs": [],
   "source": []
  },
  {
   "cell_type": "code",
   "execution_count": null,
   "id": "55323f2c",
   "metadata": {},
   "outputs": [],
   "source": []
  }
 ],
 "metadata": {
  "kernelspec": {
   "display_name": "osgeo-env-v1",
   "language": "python",
   "name": "osgeo-env-v1"
  },
  "language_info": {
   "codemirror_mode": {
    "name": "ipython",
    "version": 3
   },
   "file_extension": ".py",
   "mimetype": "text/x-python",
   "name": "python",
   "nbconvert_exporter": "python",
   "pygments_lexer": "ipython3",
   "version": "3.11.0"
  }
 },
 "nbformat": 4,
 "nbformat_minor": 5
}
